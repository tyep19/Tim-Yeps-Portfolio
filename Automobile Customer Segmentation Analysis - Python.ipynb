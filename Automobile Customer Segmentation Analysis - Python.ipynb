{
 "cells": [
  {
   "cell_type": "markdown",
   "metadata": {},
   "source": [
    "<h3 align=\"center\">Automobile Customer Segmentation Analysis - Python</h3> "
   ]
  },
  {
   "cell_type": "markdown",
   "metadata": {},
   "source": [
    "##### Overview: Customer segmentation is a marketing term that splits customers into different segments or clusters to understand characterisitics about them (e.g. spending habits, age, gender, income). This concept is very popular in marketing because this helps businesses determine who to specifically target the most for specific products or ads. In this Jupyter Notebook, I will be walking you though a simple and effecitve customer segmentation analysis that focuses on customers in the automobile industry?"
   ]
  },
  {
   "cell_type": "markdown",
   "metadata": {},
   "source": [
    "##### Tools: The primary tools used in this project are Jupyter Notebook, Python, Plotly, Seaborn, and Sklearn."
   ]
  },
  {
   "cell_type": "markdown",
   "metadata": {},
   "source": [
    "##### Dataset Source: https://www.kaggle.com/datasets/akashdeepkuila/automobile-customer. Note: For this demonstration, I will be adding a new column for Annual Income ($), transform the Spending Score into integers from 1-100, and remove a few columns to clean up the dataset."
   ]
  },
  {
   "cell_type": "markdown",
   "metadata": {},
   "source": [
    "##### Import all the necessary libaries"
   ]
  },
  {
   "cell_type": "code",
   "execution_count": 48,
   "metadata": {},
   "outputs": [],
   "source": [
    "import pandas as pd\n",
    "import s3fs\n",
    "import datetime\n",
    "from datetime import date\n",
    "import numpy as np\n",
    "from datetime import timedelta\n",
    "from dateutil.relativedelta import relativedelta\n",
    "import plotly.express as px\n",
    "import plotly.graph_objects as go\n",
    "import seaborn as sns\n",
    "import os\n",
    "import six\n",
    "import base64\n",
    "from IPython.display import display\n",
    "import plotly.express as px\n",
    "import calendar\n",
    "from pytz import timezone\n",
    "import pytz\n",
    "from sklearn.preprocessing import StandardScaler\n",
    "from sklearn.cluster import KMeans\n",
    "from sklearn.metrics import silhouette_score\n",
    "import warnings\n",
    "warnings.filterwarnings('ignore')\n"
   ]
  },
  {
   "cell_type": "markdown",
   "metadata": {},
   "source": [
    "##### First, I will connect to my public AWS S3 bucket and convert the stored file into a Pandas dataframe. Note: I am using public access for this example only but it is recommend to keep your S3 bucket private"
   ]
  },
  {
   "cell_type": "code",
   "execution_count": 49,
   "metadata": {},
   "outputs": [
    {
     "data": {
      "text/html": [
       "<div>\n",
       "<style scoped>\n",
       "    .dataframe tbody tr th:only-of-type {\n",
       "        vertical-align: middle;\n",
       "    }\n",
       "\n",
       "    .dataframe tbody tr th {\n",
       "        vertical-align: top;\n",
       "    }\n",
       "\n",
       "    .dataframe thead th {\n",
       "        text-align: right;\n",
       "    }\n",
       "</style>\n",
       "<table border=\"1\" class=\"dataframe\">\n",
       "  <thead>\n",
       "    <tr style=\"text-align: right;\">\n",
       "      <th></th>\n",
       "      <th>CustomerID</th>\n",
       "      <th>Gender</th>\n",
       "      <th>Married</th>\n",
       "      <th>Age</th>\n",
       "      <th>Graduated</th>\n",
       "      <th>Profession</th>\n",
       "      <th>WorkExperience</th>\n",
       "      <th>SpendingScore</th>\n",
       "      <th>FamilySize</th>\n",
       "      <th>Category</th>\n",
       "    </tr>\n",
       "  </thead>\n",
       "  <tbody>\n",
       "    <tr>\n",
       "      <th>0</th>\n",
       "      <td>458989</td>\n",
       "      <td>Female</td>\n",
       "      <td>Yes</td>\n",
       "      <td>36</td>\n",
       "      <td>Yes</td>\n",
       "      <td>Engineer</td>\n",
       "      <td>0.0</td>\n",
       "      <td>Low</td>\n",
       "      <td>1.0</td>\n",
       "      <td>Category 6</td>\n",
       "    </tr>\n",
       "    <tr>\n",
       "      <th>1</th>\n",
       "      <td>458994</td>\n",
       "      <td>Male</td>\n",
       "      <td>Yes</td>\n",
       "      <td>37</td>\n",
       "      <td>Yes</td>\n",
       "      <td>Nursing</td>\n",
       "      <td>8.0</td>\n",
       "      <td>Average</td>\n",
       "      <td>4.0</td>\n",
       "      <td>Category 6</td>\n",
       "    </tr>\n",
       "    <tr>\n",
       "      <th>2</th>\n",
       "      <td>459000</td>\n",
       "      <td>Male</td>\n",
       "      <td>Yes</td>\n",
       "      <td>59</td>\n",
       "      <td>No</td>\n",
       "      <td>Manager</td>\n",
       "      <td>11.0</td>\n",
       "      <td>High</td>\n",
       "      <td>2.0</td>\n",
       "      <td>Category 6</td>\n",
       "    </tr>\n",
       "    <tr>\n",
       "      <th>3</th>\n",
       "      <td>459001</td>\n",
       "      <td>Female</td>\n",
       "      <td>No</td>\n",
       "      <td>19</td>\n",
       "      <td>No</td>\n",
       "      <td>Marketing</td>\n",
       "      <td>NaN</td>\n",
       "      <td>Low</td>\n",
       "      <td>4.0</td>\n",
       "      <td>Category 6</td>\n",
       "    </tr>\n",
       "    <tr>\n",
       "      <th>4</th>\n",
       "      <td>459008</td>\n",
       "      <td>Female</td>\n",
       "      <td>Yes</td>\n",
       "      <td>47</td>\n",
       "      <td>Yes</td>\n",
       "      <td>Artist</td>\n",
       "      <td>1.0</td>\n",
       "      <td>Average</td>\n",
       "      <td>3.0</td>\n",
       "      <td>Category 6</td>\n",
       "    </tr>\n",
       "  </tbody>\n",
       "</table>\n",
       "</div>"
      ],
      "text/plain": [
       "   CustomerID  Gender Married  Age Graduated Profession  WorkExperience  \\\n",
       "0      458989  Female     Yes   36       Yes   Engineer             0.0   \n",
       "1      458994    Male     Yes   37       Yes    Nursing             8.0   \n",
       "2      459000    Male     Yes   59        No    Manager            11.0   \n",
       "3      459001  Female      No   19        No  Marketing             NaN   \n",
       "4      459008  Female     Yes   47       Yes     Artist             1.0   \n",
       "\n",
       "  SpendingScore  FamilySize    Category  \n",
       "0           Low         1.0  Category 6  \n",
       "1       Average         4.0  Category 6  \n",
       "2          High         2.0  Category 6  \n",
       "3           Low         4.0  Category 6  \n",
       "4       Average         3.0  Category 6  "
      ]
     },
     "metadata": {},
     "output_type": "display_data"
    },
    {
     "data": {
      "text/plain": [
       "(2046, 10)"
      ]
     },
     "metadata": {},
     "output_type": "display_data"
    }
   ],
   "source": [
    "import pandas as pd\n",
    "import s3fs\n",
    "\n",
    "aws_file = pd.read_csv('s3://tims-personal-projects/Customer Segmentation.csv')\n",
    "\n",
    "customer_seg_df = pd.DataFrame(aws_file)\n",
    "\n",
    "display(customer_seg_df.head())\n",
    "display(customer_seg_df.shape)"
   ]
  },
  {
   "cell_type": "markdown",
   "metadata": {},
   "source": [
    "##### For this step, we are going to clean up the dataset. We are going to remove all the unnamed columns, rename some columns, drop NaN values, convert column data types to integers, and drop a few unneeded columns."
   ]
  },
  {
   "cell_type": "code",
   "execution_count": 50,
   "metadata": {},
   "outputs": [
    {
     "data": {
      "text/html": [
       "<div>\n",
       "<style scoped>\n",
       "    .dataframe tbody tr th:only-of-type {\n",
       "        vertical-align: middle;\n",
       "    }\n",
       "\n",
       "    .dataframe tbody tr th {\n",
       "        vertical-align: top;\n",
       "    }\n",
       "\n",
       "    .dataframe thead th {\n",
       "        text-align: right;\n",
       "    }\n",
       "</style>\n",
       "<table border=\"1\" class=\"dataframe\">\n",
       "  <thead>\n",
       "    <tr style=\"text-align: right;\">\n",
       "      <th></th>\n",
       "      <th>Gender</th>\n",
       "      <th>Married</th>\n",
       "      <th>Age</th>\n",
       "      <th>Graduated</th>\n",
       "      <th>Profession</th>\n",
       "      <th>Work Experience</th>\n",
       "      <th>Spending Score</th>\n",
       "      <th>Family Size</th>\n",
       "    </tr>\n",
       "  </thead>\n",
       "  <tbody>\n",
       "    <tr>\n",
       "      <th>0</th>\n",
       "      <td>Female</td>\n",
       "      <td>Yes</td>\n",
       "      <td>36</td>\n",
       "      <td>Yes</td>\n",
       "      <td>Engineer</td>\n",
       "      <td>0</td>\n",
       "      <td>Low</td>\n",
       "      <td>1</td>\n",
       "    </tr>\n",
       "    <tr>\n",
       "      <th>1</th>\n",
       "      <td>Male</td>\n",
       "      <td>Yes</td>\n",
       "      <td>37</td>\n",
       "      <td>Yes</td>\n",
       "      <td>Nursing</td>\n",
       "      <td>8</td>\n",
       "      <td>Average</td>\n",
       "      <td>4</td>\n",
       "    </tr>\n",
       "    <tr>\n",
       "      <th>2</th>\n",
       "      <td>Male</td>\n",
       "      <td>Yes</td>\n",
       "      <td>59</td>\n",
       "      <td>No</td>\n",
       "      <td>Manager</td>\n",
       "      <td>11</td>\n",
       "      <td>High</td>\n",
       "      <td>2</td>\n",
       "    </tr>\n",
       "    <tr>\n",
       "      <th>4</th>\n",
       "      <td>Female</td>\n",
       "      <td>Yes</td>\n",
       "      <td>47</td>\n",
       "      <td>Yes</td>\n",
       "      <td>Artist</td>\n",
       "      <td>1</td>\n",
       "      <td>Average</td>\n",
       "      <td>3</td>\n",
       "    </tr>\n",
       "    <tr>\n",
       "      <th>5</th>\n",
       "      <td>Male</td>\n",
       "      <td>Yes</td>\n",
       "      <td>50</td>\n",
       "      <td>Yes</td>\n",
       "      <td>Artist</td>\n",
       "      <td>2</td>\n",
       "      <td>Average</td>\n",
       "      <td>4</td>\n",
       "    </tr>\n",
       "  </tbody>\n",
       "</table>\n",
       "</div>"
      ],
      "text/plain": [
       "   Gender Married  Age Graduated Profession  Work Experience Spending Score  \\\n",
       "0  Female     Yes   36       Yes   Engineer                0            Low   \n",
       "1    Male     Yes   37       Yes    Nursing                8        Average   \n",
       "2    Male     Yes   59        No    Manager               11           High   \n",
       "4  Female     Yes   47       Yes     Artist                1        Average   \n",
       "5    Male     Yes   50       Yes     Artist                2        Average   \n",
       "\n",
       "   Family Size  \n",
       "0            1  \n",
       "1            4  \n",
       "2            2  \n",
       "4            3  \n",
       "5            4  "
      ]
     },
     "metadata": {},
     "output_type": "display_data"
    },
    {
     "data": {
      "text/plain": [
       "(1694, 8)"
      ]
     },
     "metadata": {},
     "output_type": "display_data"
    },
    {
     "name": "stdout",
     "output_type": "stream",
     "text": [
      "<class 'pandas.core.frame.DataFrame'>\n",
      "Int64Index: 1694 entries, 0 to 2045\n",
      "Data columns (total 8 columns):\n",
      " #   Column           Non-Null Count  Dtype \n",
      "---  ------           --------------  ----- \n",
      " 0   Gender           1694 non-null   object\n",
      " 1   Married          1694 non-null   object\n",
      " 2   Age              1694 non-null   int32 \n",
      " 3   Graduated        1694 non-null   object\n",
      " 4   Profession       1694 non-null   object\n",
      " 5   Work Experience  1694 non-null   int32 \n",
      " 6   Spending Score   1694 non-null   object\n",
      " 7   Family Size      1694 non-null   int32 \n",
      "dtypes: int32(3), object(5)\n",
      "memory usage: 99.3+ KB\n"
     ]
    },
    {
     "data": {
      "text/plain": [
       "None"
      ]
     },
     "metadata": {},
     "output_type": "display_data"
    }
   ],
   "source": [
    "# Remove all the unneeded columns\n",
    "customer_seg_df.drop(customer_seg_df.columns[customer_seg_df.columns.str.contains(\n",
    "    'unnamed', case=False)], axis=1, inplace=True)\n",
    "\n",
    "customer_seg_df.dropna(inplace=True)\n",
    "\n",
    "# Rename the columns\n",
    "customer_seg_df_updated = customer_seg_df.rename(\n",
    "    columns={'WorkExperience': 'Work Experience', 'SpendingScore': 'Spending Score', 'FamilySize': 'Family Size'})\n",
    "\n",
    "customer_seg_df_updated['Age'] = customer_seg_df_updated[\n",
    "    'Age'].astype(int)\n",
    "\n",
    "customer_seg_df_updated['Work Experience'] = customer_seg_df_updated[\n",
    "    'Work Experience'].astype(int)\n",
    "\n",
    "customer_seg_df_updated['Family Size'] = customer_seg_df_updated[\n",
    "    'Family Size'].astype(int)\n",
    "\n",
    "customer_seg_df_updated_v2 = customer_seg_df_updated.drop(\n",
    "    columns=['CustomerID', 'Category'])\n",
    "\n",
    "display(customer_seg_df_updated_v2.head())\n",
    "display(customer_seg_df_updated_v2.shape)\n",
    "display(customer_seg_df_updated_v2.info())\n"
   ]
  },
  {
   "cell_type": "markdown",
   "metadata": {},
   "source": [
    "##### Now, we have reduced the number of customers by 399 by removing the NaN values. Removing null values from our dataset is essential because it will optimize the accuracy of our findings."
   ]
  },
  {
   "cell_type": "markdown",
   "metadata": {},
   "source": [
    "##### Now that we have a clean dataset, I want to add a new column to determine the Annual Income of the individual customers based on their profession and working experience. In this scenario, I will not focus on the 'Graduated' column because I personally believe that employers care more about an individual's working experience regardless if they graduated or not."
   ]
  },
  {
   "cell_type": "markdown",
   "metadata": {},
   "source": [
    "##### According to the data, majority of automobile customers are the professions listed below. Artists seems to be the most common automobile consumers and homemakers seems to be the least common. The list below makes sense because majority of the professions usually need to commute to their jobs. Homemakers tend to stay home so it wouldn't make sense to purchase a vehicle compared to the other professions."
   ]
  },
  {
   "cell_type": "code",
   "execution_count": 51,
   "metadata": {},
   "outputs": [
    {
     "data": {
      "text/plain": [
       "Artist       696\n",
       "Nursing      337\n",
       "Engineer     195\n",
       "Lawyer       173\n",
       "Manager      147\n",
       "Marketing     92\n",
       "Homemaker     54\n",
       "Name: Profession, dtype: int64"
      ]
     },
     "metadata": {},
     "output_type": "display_data"
    }
   ],
   "source": [
    "display(customer_seg_df_updated_v2['Profession'].value_counts())"
   ]
  },
  {
   "cell_type": "markdown",
   "metadata": {},
   "source": [
    "##### The data below is very intersting. Seems like majority of the automobile customers are relatively new to their fields with 1 year of working experience being the most common. Based on thee findings, I would think that majority of automobile customers are within the younger generation."
   ]
  },
  {
   "cell_type": "code",
   "execution_count": 52,
   "metadata": {},
   "outputs": [
    {
     "data": {
      "text/plain": [
       "0     559\n",
       "1     552\n",
       "8     104\n",
       "9     102\n",
       "4      71\n",
       "2      64\n",
       "3      61\n",
       "5      49\n",
       "7      43\n",
       "6      40\n",
       "14     16\n",
       "11     11\n",
       "12      8\n",
       "13      7\n",
       "10      7\n",
       "Name: Work Experience, dtype: int64"
      ]
     },
     "metadata": {},
     "output_type": "display_data"
    }
   ],
   "source": [
    "display(customer_seg_df_updated_v2['Work Experience'].value_counts())"
   ]
  },
  {
   "cell_type": "markdown",
   "metadata": {},
   "source": [
    "##### Now, let's determine the Annual income of each customer based on the profession and number of years in working experience. For this analysis, we can classify Entry-Level, Mid-Level, and Senior-Level as the following:"
   ]
  },
  {
   "cell_type": "markdown",
   "metadata": {},
   "source": [
    "##### Entry-Level: 0-3 years of working experience\n",
    "\n",
    "##### Mid-Level: 3-5 years of working experience\n",
    "\n",
    "##### Senior-Level: At least 5 years of working experience"
   ]
  },
  {
   "cell_type": "markdown",
   "metadata": {},
   "source": [
    "##### According to ZipRecruiter, Indeed, Zippia, and payscale these are the national average salaries per profession and years of working experience. Also, the Homemaker profession will stay constant because the number of working experience does not apply:"
   ]
  },
  {
   "cell_type": "markdown",
   "metadata": {},
   "source": [
    "| Profession | Entry-Level | Mid-Level | Senior-Level |\n",
    "| --- | --- | --- | --- |\n",
    "| Artist | $35,926 | $57,340 | $72,000 |\n",
    "| Nursing | $59,460 | $80,000 | $86,000 |\n",
    "| Engineer | $48,750 | $78,180 | $108,743 |\n",
    "| Lawyer | $52,582 | $84,186 | $144,000 |\n",
    "| Manager | $47,220 | $83,246 | $118,906 |\n",
    "| Marketing | $40,466 | $53,158 | $101,320 |\n",
    "| Homemaker | $26,588 | $26,588  | $26,588 |\n"
   ]
  },
  {
   "cell_type": "markdown",
   "metadata": {},
   "source": [
    "##### Now, let's link the salaries to the professions based on their number of working experience and add the new column to the existing customer segmentation dataframe. Let's use the table below:\n",
    "\n",
    "| Entry-Level | Mid-Level | Senior-Level |\n",
    "| --- | ---  | --- |\n",
    "| 1-3 years | 3-5 years | Beyond 5 years |"
   ]
  },
  {
   "cell_type": "code",
   "execution_count": 53,
   "metadata": {},
   "outputs": [],
   "source": [
    "def annual_income(customer_seg_df_updated_v2):\n",
    "    if (customer_seg_df_updated_v2['Profession'] == 'Artist') & (customer_seg_df_updated_v2['Work Experience'] < 3):\n",
    "        return '36'\n",
    "    elif (customer_seg_df_updated_v2['Profession'] == 'Nursing') & (customer_seg_df_updated_v2['Work Experience'] < 3):\n",
    "        return '59'\n",
    "    elif (customer_seg_df_updated_v2['Profession'] == 'Engineer') & (customer_seg_df_updated_v2['Work Experience'] < 3):\n",
    "        return '49'\n",
    "    elif (customer_seg_df_updated_v2['Profession'] == 'Lawyer') & (customer_seg_df_updated_v2['Work Experience'] < 3):\n",
    "        return '53'\n",
    "    elif (customer_seg_df_updated_v2['Profession'] == 'Manager') & (customer_seg_df_updated_v2['Work Experience'] < 3):\n",
    "        return '47'\n",
    "    elif (customer_seg_df_updated_v2['Profession'] == 'Marketing') & (customer_seg_df_updated_v2['Work Experience'] < 3):\n",
    "        return '40'\n",
    "    elif (customer_seg_df_updated_v2['Profession'] == 'Homemaker') & (customer_seg_df_updated_v2['Work Experience'] < 3):\n",
    "        return '27'\n",
    "    elif (customer_seg_df_updated_v2['Profession'] == 'Artist') & (customer_seg_df_updated_v2['Work Experience'] >= 3) & (customer_seg_df_updated_v2['Work Experience'] <= 5):\n",
    "        return '57'\n",
    "    elif (customer_seg_df_updated_v2['Profession'] == 'Nursing') & (customer_seg_df_updated_v2['Work Experience'] >= 3) & (customer_seg_df_updated_v2['Work Experience'] <= 5):\n",
    "        return '80'\n",
    "    elif (customer_seg_df_updated_v2['Profession'] == 'Engineer') & (customer_seg_df_updated_v2['Work Experience'] >= 3) & (customer_seg_df_updated_v2['Work Experience'] <= 5):\n",
    "        return '78'\n",
    "    elif (customer_seg_df_updated_v2['Profession'] == 'Lawyer') & (customer_seg_df_updated_v2['Work Experience'] >= 3) & (customer_seg_df_updated_v2['Work Experience'] <= 5):\n",
    "        return '84'\n",
    "    elif (customer_seg_df_updated_v2['Profession'] == 'Manager') & (customer_seg_df_updated_v2['Work Experience'] >= 3) & (customer_seg_df_updated_v2['Work Experience'] <= 5):\n",
    "        return '83'\n",
    "    elif (customer_seg_df_updated_v2['Profession'] == 'Marketing') & (customer_seg_df_updated_v2['Work Experience'] >= 3) & (customer_seg_df_updated_v2['Work Experience'] <= 5):\n",
    "        return '53'\n",
    "    elif (customer_seg_df_updated_v2['Profession'] == 'Homemaker') & (customer_seg_df_updated_v2['Work Experience'] >= 3) & (customer_seg_df_updated_v2['Work Experience'] <= 5):\n",
    "        return '27'\n",
    "    elif (customer_seg_df_updated_v2['Profession'] == 'Artist') & (customer_seg_df_updated_v2['Work Experience'] > 5):\n",
    "        return '72'\n",
    "    elif (customer_seg_df_updated_v2['Profession'] == 'Nursing') & (customer_seg_df_updated_v2['Work Experience'] > 5):\n",
    "        return '86'\n",
    "    elif (customer_seg_df_updated_v2['Profession'] == 'Engineer') & (customer_seg_df_updated_v2['Work Experience'] > 5):\n",
    "        return '109'\n",
    "    elif (customer_seg_df_updated_v2['Profession'] == 'Lawyer') & (customer_seg_df_updated_v2['Work Experience'] > 5):\n",
    "        return '144'\n",
    "    elif (customer_seg_df_updated_v2['Profession'] == 'Manager') & (customer_seg_df_updated_v2['Work Experience'] > 5):\n",
    "        return '119'\n",
    "    elif (customer_seg_df_updated_v2['Profession'] == 'Marketing') & (customer_seg_df_updated_v2['Work Experience'] > 5):\n",
    "        return '101'\n",
    "    elif (customer_seg_df_updated_v2['Profession'] == 'Homemaker') & (customer_seg_df_updated_v2['Work Experience'] > 5):\n",
    "        return '27'\n"
   ]
  },
  {
   "cell_type": "markdown",
   "metadata": {},
   "source": [
    "##### Great! The new column is added"
   ]
  },
  {
   "cell_type": "code",
   "execution_count": 54,
   "metadata": {},
   "outputs": [
    {
     "data": {
      "text/html": [
       "<div>\n",
       "<style scoped>\n",
       "    .dataframe tbody tr th:only-of-type {\n",
       "        vertical-align: middle;\n",
       "    }\n",
       "\n",
       "    .dataframe tbody tr th {\n",
       "        vertical-align: top;\n",
       "    }\n",
       "\n",
       "    .dataframe thead th {\n",
       "        text-align: right;\n",
       "    }\n",
       "</style>\n",
       "<table border=\"1\" class=\"dataframe\">\n",
       "  <thead>\n",
       "    <tr style=\"text-align: right;\">\n",
       "      <th></th>\n",
       "      <th>Gender</th>\n",
       "      <th>Married</th>\n",
       "      <th>Age</th>\n",
       "      <th>Graduated</th>\n",
       "      <th>Profession</th>\n",
       "      <th>Work Experience</th>\n",
       "      <th>Spending Score</th>\n",
       "      <th>Family Size</th>\n",
       "      <th>Annual Salary ($K)</th>\n",
       "    </tr>\n",
       "  </thead>\n",
       "  <tbody>\n",
       "    <tr>\n",
       "      <th>0</th>\n",
       "      <td>Female</td>\n",
       "      <td>Yes</td>\n",
       "      <td>36</td>\n",
       "      <td>Yes</td>\n",
       "      <td>Engineer</td>\n",
       "      <td>0</td>\n",
       "      <td>Low</td>\n",
       "      <td>1</td>\n",
       "      <td>49</td>\n",
       "    </tr>\n",
       "    <tr>\n",
       "      <th>1</th>\n",
       "      <td>Male</td>\n",
       "      <td>Yes</td>\n",
       "      <td>37</td>\n",
       "      <td>Yes</td>\n",
       "      <td>Nursing</td>\n",
       "      <td>8</td>\n",
       "      <td>Average</td>\n",
       "      <td>4</td>\n",
       "      <td>86</td>\n",
       "    </tr>\n",
       "    <tr>\n",
       "      <th>2</th>\n",
       "      <td>Male</td>\n",
       "      <td>Yes</td>\n",
       "      <td>59</td>\n",
       "      <td>No</td>\n",
       "      <td>Manager</td>\n",
       "      <td>11</td>\n",
       "      <td>High</td>\n",
       "      <td>2</td>\n",
       "      <td>119</td>\n",
       "    </tr>\n",
       "    <tr>\n",
       "      <th>4</th>\n",
       "      <td>Female</td>\n",
       "      <td>Yes</td>\n",
       "      <td>47</td>\n",
       "      <td>Yes</td>\n",
       "      <td>Artist</td>\n",
       "      <td>1</td>\n",
       "      <td>Average</td>\n",
       "      <td>3</td>\n",
       "      <td>36</td>\n",
       "    </tr>\n",
       "    <tr>\n",
       "      <th>5</th>\n",
       "      <td>Male</td>\n",
       "      <td>Yes</td>\n",
       "      <td>50</td>\n",
       "      <td>Yes</td>\n",
       "      <td>Artist</td>\n",
       "      <td>2</td>\n",
       "      <td>Average</td>\n",
       "      <td>4</td>\n",
       "      <td>36</td>\n",
       "    </tr>\n",
       "    <tr>\n",
       "      <th>6</th>\n",
       "      <td>Male</td>\n",
       "      <td>No</td>\n",
       "      <td>19</td>\n",
       "      <td>No</td>\n",
       "      <td>Nursing</td>\n",
       "      <td>0</td>\n",
       "      <td>Low</td>\n",
       "      <td>4</td>\n",
       "      <td>59</td>\n",
       "    </tr>\n",
       "    <tr>\n",
       "      <th>7</th>\n",
       "      <td>Male</td>\n",
       "      <td>No</td>\n",
       "      <td>22</td>\n",
       "      <td>No</td>\n",
       "      <td>Nursing</td>\n",
       "      <td>0</td>\n",
       "      <td>Low</td>\n",
       "      <td>3</td>\n",
       "      <td>59</td>\n",
       "    </tr>\n",
       "    <tr>\n",
       "      <th>8</th>\n",
       "      <td>Female</td>\n",
       "      <td>No</td>\n",
       "      <td>22</td>\n",
       "      <td>No</td>\n",
       "      <td>Nursing</td>\n",
       "      <td>0</td>\n",
       "      <td>Low</td>\n",
       "      <td>6</td>\n",
       "      <td>59</td>\n",
       "    </tr>\n",
       "    <tr>\n",
       "      <th>9</th>\n",
       "      <td>Male</td>\n",
       "      <td>Yes</td>\n",
       "      <td>50</td>\n",
       "      <td>Yes</td>\n",
       "      <td>Artist</td>\n",
       "      <td>1</td>\n",
       "      <td>Average</td>\n",
       "      <td>5</td>\n",
       "      <td>36</td>\n",
       "    </tr>\n",
       "    <tr>\n",
       "      <th>10</th>\n",
       "      <td>Male</td>\n",
       "      <td>No</td>\n",
       "      <td>27</td>\n",
       "      <td>No</td>\n",
       "      <td>Nursing</td>\n",
       "      <td>8</td>\n",
       "      <td>Low</td>\n",
       "      <td>3</td>\n",
       "      <td>86</td>\n",
       "    </tr>\n",
       "  </tbody>\n",
       "</table>\n",
       "</div>"
      ],
      "text/plain": [
       "    Gender Married  Age Graduated Profession  Work Experience Spending Score  \\\n",
       "0   Female     Yes   36       Yes   Engineer                0            Low   \n",
       "1     Male     Yes   37       Yes    Nursing                8        Average   \n",
       "2     Male     Yes   59        No    Manager               11           High   \n",
       "4   Female     Yes   47       Yes     Artist                1        Average   \n",
       "5     Male     Yes   50       Yes     Artist                2        Average   \n",
       "6     Male      No   19        No    Nursing                0            Low   \n",
       "7     Male      No   22        No    Nursing                0            Low   \n",
       "8   Female      No   22        No    Nursing                0            Low   \n",
       "9     Male     Yes   50       Yes     Artist                1        Average   \n",
       "10    Male      No   27        No    Nursing                8            Low   \n",
       "\n",
       "    Family Size Annual Salary ($K)  \n",
       "0             1                 49  \n",
       "1             4                 86  \n",
       "2             2                119  \n",
       "4             3                 36  \n",
       "5             4                 36  \n",
       "6             4                 59  \n",
       "7             3                 59  \n",
       "8             6                 59  \n",
       "9             5                 36  \n",
       "10            3                 86  "
      ]
     },
     "metadata": {},
     "output_type": "display_data"
    }
   ],
   "source": [
    "customer_seg_df_updated_v2['Annual Salary ($K)'] = customer_seg_df_updated_v2.apply(annual_income, axis = 1)\n",
    "\n",
    "display(customer_seg_df_updated_v2.head(10))"
   ]
  },
  {
   "cell_type": "markdown",
   "metadata": {},
   "source": [
    "##### Now, let's convert the 'Spending Score' column to a number scale using a random number generator. 1-33 represents the customers with the lowest spending score, 33-66 represents customers with an average spending score, and 66-99 represents customers with a high spending score.\n",
    "\n",
    "| Low | Average | High |\n",
    "| --- | ---  | --- |\n",
    "| 1-33 | 33-66| 66-99 |"
   ]
  },
  {
   "cell_type": "code",
   "execution_count": 55,
   "metadata": {},
   "outputs": [],
   "source": [
    "import random\n",
    "\n",
    "low = random.randint(1,33)\n",
    "average = random.randint(33, 66)\n",
    "high = random.randint(66,99)\n",
    "\n",
    "def spending_score(customer_seg_df_updated_v2):\n",
    "    if (customer_seg_df_updated_v2['Spending Score'] == 'Low'):\n",
    "        return low\n",
    "    elif (customer_seg_df_updated_v2['Spending Score'] == 'Average'):\n",
    "        return average\n",
    "    elif (customer_seg_df_updated_v2['Spending Score'] == 'High'):\n",
    "        return high\n"
   ]
  },
  {
   "cell_type": "markdown",
   "metadata": {},
   "source": [
    "##### Append the spending scores to the existing dataframe."
   ]
  },
  {
   "cell_type": "code",
   "execution_count": 56,
   "metadata": {},
   "outputs": [
    {
     "data": {
      "text/html": [
       "<div>\n",
       "<style scoped>\n",
       "    .dataframe tbody tr th:only-of-type {\n",
       "        vertical-align: middle;\n",
       "    }\n",
       "\n",
       "    .dataframe tbody tr th {\n",
       "        vertical-align: top;\n",
       "    }\n",
       "\n",
       "    .dataframe thead th {\n",
       "        text-align: right;\n",
       "    }\n",
       "</style>\n",
       "<table border=\"1\" class=\"dataframe\">\n",
       "  <thead>\n",
       "    <tr style=\"text-align: right;\">\n",
       "      <th></th>\n",
       "      <th>Gender</th>\n",
       "      <th>Married</th>\n",
       "      <th>Age</th>\n",
       "      <th>Graduated</th>\n",
       "      <th>Profession</th>\n",
       "      <th>Work Experience</th>\n",
       "      <th>Spending Score</th>\n",
       "      <th>Family Size</th>\n",
       "      <th>Annual Salary ($K)</th>\n",
       "      <th>Spending Score (1-100)</th>\n",
       "    </tr>\n",
       "  </thead>\n",
       "  <tbody>\n",
       "    <tr>\n",
       "      <th>0</th>\n",
       "      <td>Female</td>\n",
       "      <td>Yes</td>\n",
       "      <td>36</td>\n",
       "      <td>Yes</td>\n",
       "      <td>Engineer</td>\n",
       "      <td>0</td>\n",
       "      <td>Low</td>\n",
       "      <td>1</td>\n",
       "      <td>49</td>\n",
       "      <td>12</td>\n",
       "    </tr>\n",
       "    <tr>\n",
       "      <th>1</th>\n",
       "      <td>Male</td>\n",
       "      <td>Yes</td>\n",
       "      <td>37</td>\n",
       "      <td>Yes</td>\n",
       "      <td>Nursing</td>\n",
       "      <td>8</td>\n",
       "      <td>Average</td>\n",
       "      <td>4</td>\n",
       "      <td>86</td>\n",
       "      <td>63</td>\n",
       "    </tr>\n",
       "    <tr>\n",
       "      <th>2</th>\n",
       "      <td>Male</td>\n",
       "      <td>Yes</td>\n",
       "      <td>59</td>\n",
       "      <td>No</td>\n",
       "      <td>Manager</td>\n",
       "      <td>11</td>\n",
       "      <td>High</td>\n",
       "      <td>2</td>\n",
       "      <td>119</td>\n",
       "      <td>87</td>\n",
       "    </tr>\n",
       "    <tr>\n",
       "      <th>4</th>\n",
       "      <td>Female</td>\n",
       "      <td>Yes</td>\n",
       "      <td>47</td>\n",
       "      <td>Yes</td>\n",
       "      <td>Artist</td>\n",
       "      <td>1</td>\n",
       "      <td>Average</td>\n",
       "      <td>3</td>\n",
       "      <td>36</td>\n",
       "      <td>63</td>\n",
       "    </tr>\n",
       "    <tr>\n",
       "      <th>5</th>\n",
       "      <td>Male</td>\n",
       "      <td>Yes</td>\n",
       "      <td>50</td>\n",
       "      <td>Yes</td>\n",
       "      <td>Artist</td>\n",
       "      <td>2</td>\n",
       "      <td>Average</td>\n",
       "      <td>4</td>\n",
       "      <td>36</td>\n",
       "      <td>63</td>\n",
       "    </tr>\n",
       "    <tr>\n",
       "      <th>6</th>\n",
       "      <td>Male</td>\n",
       "      <td>No</td>\n",
       "      <td>19</td>\n",
       "      <td>No</td>\n",
       "      <td>Nursing</td>\n",
       "      <td>0</td>\n",
       "      <td>Low</td>\n",
       "      <td>4</td>\n",
       "      <td>59</td>\n",
       "      <td>12</td>\n",
       "    </tr>\n",
       "    <tr>\n",
       "      <th>7</th>\n",
       "      <td>Male</td>\n",
       "      <td>No</td>\n",
       "      <td>22</td>\n",
       "      <td>No</td>\n",
       "      <td>Nursing</td>\n",
       "      <td>0</td>\n",
       "      <td>Low</td>\n",
       "      <td>3</td>\n",
       "      <td>59</td>\n",
       "      <td>12</td>\n",
       "    </tr>\n",
       "    <tr>\n",
       "      <th>8</th>\n",
       "      <td>Female</td>\n",
       "      <td>No</td>\n",
       "      <td>22</td>\n",
       "      <td>No</td>\n",
       "      <td>Nursing</td>\n",
       "      <td>0</td>\n",
       "      <td>Low</td>\n",
       "      <td>6</td>\n",
       "      <td>59</td>\n",
       "      <td>12</td>\n",
       "    </tr>\n",
       "    <tr>\n",
       "      <th>9</th>\n",
       "      <td>Male</td>\n",
       "      <td>Yes</td>\n",
       "      <td>50</td>\n",
       "      <td>Yes</td>\n",
       "      <td>Artist</td>\n",
       "      <td>1</td>\n",
       "      <td>Average</td>\n",
       "      <td>5</td>\n",
       "      <td>36</td>\n",
       "      <td>63</td>\n",
       "    </tr>\n",
       "    <tr>\n",
       "      <th>10</th>\n",
       "      <td>Male</td>\n",
       "      <td>No</td>\n",
       "      <td>27</td>\n",
       "      <td>No</td>\n",
       "      <td>Nursing</td>\n",
       "      <td>8</td>\n",
       "      <td>Low</td>\n",
       "      <td>3</td>\n",
       "      <td>86</td>\n",
       "      <td>12</td>\n",
       "    </tr>\n",
       "  </tbody>\n",
       "</table>\n",
       "</div>"
      ],
      "text/plain": [
       "    Gender Married  Age Graduated Profession  Work Experience Spending Score  \\\n",
       "0   Female     Yes   36       Yes   Engineer                0            Low   \n",
       "1     Male     Yes   37       Yes    Nursing                8        Average   \n",
       "2     Male     Yes   59        No    Manager               11           High   \n",
       "4   Female     Yes   47       Yes     Artist                1        Average   \n",
       "5     Male     Yes   50       Yes     Artist                2        Average   \n",
       "6     Male      No   19        No    Nursing                0            Low   \n",
       "7     Male      No   22        No    Nursing                0            Low   \n",
       "8   Female      No   22        No    Nursing                0            Low   \n",
       "9     Male     Yes   50       Yes     Artist                1        Average   \n",
       "10    Male      No   27        No    Nursing                8            Low   \n",
       "\n",
       "    Family Size Annual Salary ($K)  Spending Score (1-100)  \n",
       "0             1                 49                      12  \n",
       "1             4                 86                      63  \n",
       "2             2                119                      87  \n",
       "4             3                 36                      63  \n",
       "5             4                 36                      63  \n",
       "6             4                 59                      12  \n",
       "7             3                 59                      12  \n",
       "8             6                 59                      12  \n",
       "9             5                 36                      63  \n",
       "10            3                 86                      12  "
      ]
     },
     "metadata": {},
     "output_type": "display_data"
    }
   ],
   "source": [
    "customer_seg_df_updated_v2['Spending Score (1-100)'] = customer_seg_df_updated_v2.apply(spending_score, axis = 1)\n",
    "\n",
    "display(customer_seg_df_updated_v2.head(10))"
   ]
  },
  {
   "cell_type": "markdown",
   "metadata": {},
   "source": [
    "##### Let's remove the unneeded 'Spending Score' column and create a final dataframe for Exploratory Data Analysis."
   ]
  },
  {
   "cell_type": "code",
   "execution_count": 57,
   "metadata": {},
   "outputs": [
    {
     "data": {
      "text/html": [
       "<div>\n",
       "<style scoped>\n",
       "    .dataframe tbody tr th:only-of-type {\n",
       "        vertical-align: middle;\n",
       "    }\n",
       "\n",
       "    .dataframe tbody tr th {\n",
       "        vertical-align: top;\n",
       "    }\n",
       "\n",
       "    .dataframe thead th {\n",
       "        text-align: right;\n",
       "    }\n",
       "</style>\n",
       "<table border=\"1\" class=\"dataframe\">\n",
       "  <thead>\n",
       "    <tr style=\"text-align: right;\">\n",
       "      <th></th>\n",
       "      <th>Gender</th>\n",
       "      <th>Married</th>\n",
       "      <th>Age</th>\n",
       "      <th>Graduated</th>\n",
       "      <th>Profession</th>\n",
       "      <th>Work Experience</th>\n",
       "      <th>Family Size</th>\n",
       "      <th>Annual Salary ($K)</th>\n",
       "      <th>Spending Score (1-100)</th>\n",
       "    </tr>\n",
       "  </thead>\n",
       "  <tbody>\n",
       "    <tr>\n",
       "      <th>0</th>\n",
       "      <td>Female</td>\n",
       "      <td>Yes</td>\n",
       "      <td>36</td>\n",
       "      <td>Yes</td>\n",
       "      <td>Engineer</td>\n",
       "      <td>0</td>\n",
       "      <td>1</td>\n",
       "      <td>49</td>\n",
       "      <td>12</td>\n",
       "    </tr>\n",
       "    <tr>\n",
       "      <th>1</th>\n",
       "      <td>Male</td>\n",
       "      <td>Yes</td>\n",
       "      <td>37</td>\n",
       "      <td>Yes</td>\n",
       "      <td>Nursing</td>\n",
       "      <td>8</td>\n",
       "      <td>4</td>\n",
       "      <td>86</td>\n",
       "      <td>63</td>\n",
       "    </tr>\n",
       "    <tr>\n",
       "      <th>2</th>\n",
       "      <td>Male</td>\n",
       "      <td>Yes</td>\n",
       "      <td>59</td>\n",
       "      <td>No</td>\n",
       "      <td>Manager</td>\n",
       "      <td>11</td>\n",
       "      <td>2</td>\n",
       "      <td>119</td>\n",
       "      <td>87</td>\n",
       "    </tr>\n",
       "    <tr>\n",
       "      <th>4</th>\n",
       "      <td>Female</td>\n",
       "      <td>Yes</td>\n",
       "      <td>47</td>\n",
       "      <td>Yes</td>\n",
       "      <td>Artist</td>\n",
       "      <td>1</td>\n",
       "      <td>3</td>\n",
       "      <td>36</td>\n",
       "      <td>63</td>\n",
       "    </tr>\n",
       "    <tr>\n",
       "      <th>5</th>\n",
       "      <td>Male</td>\n",
       "      <td>Yes</td>\n",
       "      <td>50</td>\n",
       "      <td>Yes</td>\n",
       "      <td>Artist</td>\n",
       "      <td>2</td>\n",
       "      <td>4</td>\n",
       "      <td>36</td>\n",
       "      <td>63</td>\n",
       "    </tr>\n",
       "    <tr>\n",
       "      <th>...</th>\n",
       "      <td>...</td>\n",
       "      <td>...</td>\n",
       "      <td>...</td>\n",
       "      <td>...</td>\n",
       "      <td>...</td>\n",
       "      <td>...</td>\n",
       "      <td>...</td>\n",
       "      <td>...</td>\n",
       "      <td>...</td>\n",
       "    </tr>\n",
       "    <tr>\n",
       "      <th>2041</th>\n",
       "      <td>Female</td>\n",
       "      <td>No</td>\n",
       "      <td>19</td>\n",
       "      <td>No</td>\n",
       "      <td>Nursing</td>\n",
       "      <td>0</td>\n",
       "      <td>3</td>\n",
       "      <td>59</td>\n",
       "      <td>12</td>\n",
       "    </tr>\n",
       "    <tr>\n",
       "      <th>2042</th>\n",
       "      <td>Male</td>\n",
       "      <td>No</td>\n",
       "      <td>21</td>\n",
       "      <td>No</td>\n",
       "      <td>Nursing</td>\n",
       "      <td>1</td>\n",
       "      <td>4</td>\n",
       "      <td>59</td>\n",
       "      <td>12</td>\n",
       "    </tr>\n",
       "    <tr>\n",
       "      <th>2043</th>\n",
       "      <td>Male</td>\n",
       "      <td>No</td>\n",
       "      <td>29</td>\n",
       "      <td>No</td>\n",
       "      <td>Nursing</td>\n",
       "      <td>9</td>\n",
       "      <td>4</td>\n",
       "      <td>86</td>\n",
       "      <td>12</td>\n",
       "    </tr>\n",
       "    <tr>\n",
       "      <th>2044</th>\n",
       "      <td>Male</td>\n",
       "      <td>Yes</td>\n",
       "      <td>47</td>\n",
       "      <td>Yes</td>\n",
       "      <td>Manager</td>\n",
       "      <td>1</td>\n",
       "      <td>5</td>\n",
       "      <td>47</td>\n",
       "      <td>87</td>\n",
       "    </tr>\n",
       "    <tr>\n",
       "      <th>2045</th>\n",
       "      <td>Female</td>\n",
       "      <td>No</td>\n",
       "      <td>43</td>\n",
       "      <td>Yes</td>\n",
       "      <td>Nursing</td>\n",
       "      <td>9</td>\n",
       "      <td>3</td>\n",
       "      <td>86</td>\n",
       "      <td>12</td>\n",
       "    </tr>\n",
       "  </tbody>\n",
       "</table>\n",
       "<p>1694 rows × 9 columns</p>\n",
       "</div>"
      ],
      "text/plain": [
       "      Gender Married  Age Graduated Profession  Work Experience  Family Size  \\\n",
       "0     Female     Yes   36       Yes   Engineer                0            1   \n",
       "1       Male     Yes   37       Yes    Nursing                8            4   \n",
       "2       Male     Yes   59        No    Manager               11            2   \n",
       "4     Female     Yes   47       Yes     Artist                1            3   \n",
       "5       Male     Yes   50       Yes     Artist                2            4   \n",
       "...      ...     ...  ...       ...        ...              ...          ...   \n",
       "2041  Female      No   19        No    Nursing                0            3   \n",
       "2042    Male      No   21        No    Nursing                1            4   \n",
       "2043    Male      No   29        No    Nursing                9            4   \n",
       "2044    Male     Yes   47       Yes    Manager                1            5   \n",
       "2045  Female      No   43       Yes    Nursing                9            3   \n",
       "\n",
       "     Annual Salary ($K)  Spending Score (1-100)  \n",
       "0                    49                      12  \n",
       "1                    86                      63  \n",
       "2                   119                      87  \n",
       "4                    36                      63  \n",
       "5                    36                      63  \n",
       "...                 ...                     ...  \n",
       "2041                 59                      12  \n",
       "2042                 59                      12  \n",
       "2043                 86                      12  \n",
       "2044                 47                      87  \n",
       "2045                 86                      12  \n",
       "\n",
       "[1694 rows x 9 columns]"
      ]
     },
     "metadata": {},
     "output_type": "display_data"
    }
   ],
   "source": [
    "customer_seg_df_updated_v3 = customer_seg_df_updated_v2.drop(\n",
    "    columns=['Spending Score'])\n",
    "\n",
    "display(customer_seg_df_updated_v3)"
   ]
  },
  {
   "cell_type": "markdown",
   "metadata": {},
   "source": [
    "##### Findings: Based on the dataframe above, I found something interesting. One of the customers with a 99 spending score has one of the highest salaries with 11 years of working experience but no degree. This proves how companies are starting to value more work experience over education!"
   ]
  },
  {
   "cell_type": "markdown",
   "metadata": {},
   "source": [
    "##### Since we have the dataframe we need, we want to reduce the number of customers to a sample size because 1,694 customers is a lot to analyze and process. Let's figure out the sample size of an infinite population by using the formula below with these variables and a Margin of Error of 5%:\n",
    "\n",
    "<h5 align=\"center\">z score = 1.96, P=0.50, MOE=0.05</h5> "
   ]
  },
  {
   "cell_type": "markdown",
   "metadata": {},
   "source": [
    "##### Sample Size of Infinite Population: "
   ]
  },
  {
   "cell_type": "markdown",
   "metadata": {},
   "source": [
    "\\begin{equation}\n",
    "Infinite = 1.96^2 * 0.50 * \\frac{(1-0.50)}{(0.05^2)} = 384\n",
    "\\end{equation}"
   ]
  },
  {
   "cell_type": "markdown",
   "metadata": {},
   "source": [
    "##### Then we adjust the formula to account for 1694 customers in the dataframe."
   ]
  },
  {
   "cell_type": "markdown",
   "metadata": {},
   "source": [
    "\\begin{equation}\n",
    "Sample = \\frac{384} {1+\\frac{(384-1)} {1694}} = 314\n",
    "\\end{equation}"
   ]
  },
  {
   "cell_type": "markdown",
   "metadata": {},
   "source": [
    "#### Great! We can now reduce our sample size to 314 customers in our dataframe."
   ]
  },
  {
   "cell_type": "code",
   "execution_count": 58,
   "metadata": {},
   "outputs": [
    {
     "name": "stdout",
     "output_type": "stream",
     "text": [
      "(Number of Rows, Number of Columns)\n"
     ]
    },
    {
     "data": {
      "text/plain": [
       "(314, 9)"
      ]
     },
     "metadata": {},
     "output_type": "display_data"
    },
    {
     "data": {
      "text/plain": [
       "Gender                    314\n",
       "Married                   314\n",
       "Age                       314\n",
       "Graduated                 314\n",
       "Profession                314\n",
       "Work Experience           314\n",
       "Family Size               314\n",
       "Annual Salary ($K)        314\n",
       "Spending Score (1-100)    314\n",
       "dtype: int64"
      ]
     },
     "metadata": {},
     "output_type": "display_data"
    },
    {
     "data": {
      "text/html": [
       "<div>\n",
       "<style scoped>\n",
       "    .dataframe tbody tr th:only-of-type {\n",
       "        vertical-align: middle;\n",
       "    }\n",
       "\n",
       "    .dataframe tbody tr th {\n",
       "        vertical-align: top;\n",
       "    }\n",
       "\n",
       "    .dataframe thead th {\n",
       "        text-align: right;\n",
       "    }\n",
       "</style>\n",
       "<table border=\"1\" class=\"dataframe\">\n",
       "  <thead>\n",
       "    <tr style=\"text-align: right;\">\n",
       "      <th></th>\n",
       "      <th>Gender</th>\n",
       "      <th>Married</th>\n",
       "      <th>Age</th>\n",
       "      <th>Graduated</th>\n",
       "      <th>Profession</th>\n",
       "      <th>Work Experience</th>\n",
       "      <th>Family Size</th>\n",
       "      <th>Annual Salary ($K)</th>\n",
       "      <th>Spending Score (1-100)</th>\n",
       "    </tr>\n",
       "  </thead>\n",
       "  <tbody>\n",
       "    <tr>\n",
       "      <th>0</th>\n",
       "      <td>Female</td>\n",
       "      <td>Yes</td>\n",
       "      <td>36</td>\n",
       "      <td>Yes</td>\n",
       "      <td>Engineer</td>\n",
       "      <td>0</td>\n",
       "      <td>1</td>\n",
       "      <td>49</td>\n",
       "      <td>12</td>\n",
       "    </tr>\n",
       "    <tr>\n",
       "      <th>1</th>\n",
       "      <td>Male</td>\n",
       "      <td>Yes</td>\n",
       "      <td>37</td>\n",
       "      <td>Yes</td>\n",
       "      <td>Nursing</td>\n",
       "      <td>8</td>\n",
       "      <td>4</td>\n",
       "      <td>86</td>\n",
       "      <td>63</td>\n",
       "    </tr>\n",
       "    <tr>\n",
       "      <th>2</th>\n",
       "      <td>Male</td>\n",
       "      <td>Yes</td>\n",
       "      <td>59</td>\n",
       "      <td>No</td>\n",
       "      <td>Manager</td>\n",
       "      <td>11</td>\n",
       "      <td>2</td>\n",
       "      <td>119</td>\n",
       "      <td>87</td>\n",
       "    </tr>\n",
       "    <tr>\n",
       "      <th>4</th>\n",
       "      <td>Female</td>\n",
       "      <td>Yes</td>\n",
       "      <td>47</td>\n",
       "      <td>Yes</td>\n",
       "      <td>Artist</td>\n",
       "      <td>1</td>\n",
       "      <td>3</td>\n",
       "      <td>36</td>\n",
       "      <td>63</td>\n",
       "    </tr>\n",
       "    <tr>\n",
       "      <th>5</th>\n",
       "      <td>Male</td>\n",
       "      <td>Yes</td>\n",
       "      <td>50</td>\n",
       "      <td>Yes</td>\n",
       "      <td>Artist</td>\n",
       "      <td>2</td>\n",
       "      <td>4</td>\n",
       "      <td>36</td>\n",
       "      <td>63</td>\n",
       "    </tr>\n",
       "  </tbody>\n",
       "</table>\n",
       "</div>"
      ],
      "text/plain": [
       "   Gender Married  Age Graduated Profession  Work Experience  Family Size  \\\n",
       "0  Female     Yes   36       Yes   Engineer                0            1   \n",
       "1    Male     Yes   37       Yes    Nursing                8            4   \n",
       "2    Male     Yes   59        No    Manager               11            2   \n",
       "4  Female     Yes   47       Yes     Artist                1            3   \n",
       "5    Male     Yes   50       Yes     Artist                2            4   \n",
       "\n",
       "   Annual Salary ($K)  Spending Score (1-100)  \n",
       "0                  49                      12  \n",
       "1                  86                      63  \n",
       "2                 119                      87  \n",
       "4                  36                      63  \n",
       "5                  36                      63  "
      ]
     },
     "metadata": {},
     "output_type": "display_data"
    }
   ],
   "source": [
    "customer_seg_df_updated_sample_size = customer_seg_df_updated_v3.head(314)\n",
    "\n",
    "customer_seg_df_updated_sample_size['Annual Salary ($K)'] = customer_seg_df_updated_sample_size['Annual Salary ($K)'].astype(int)\n",
    "customer_seg_df_updated_sample_size['Spending Score (1-100)'] = customer_seg_df_updated_sample_size['Spending Score (1-100)'] .astype(int)\n",
    "\n",
    "print(\"(Number of Rows, Number of Columns)\")\n",
    "display(customer_seg_df_updated_sample_size.shape)\n",
    "display(customer_seg_df_updated_sample_size.count())\n",
    "display(customer_seg_df_updated_sample_size.head())"
   ]
  },
  {
   "cell_type": "markdown",
   "metadata": {},
   "source": [
    "##### Let's Start Analyzing!"
   ]
  },
  {
   "cell_type": "markdown",
   "metadata": {},
   "source": [
    "##### Here is the correlation between Age, Work Experience, Family Size, Annual Salary, and Spending Score"
   ]
  },
  {
   "cell_type": "code",
   "execution_count": 59,
   "metadata": {},
   "outputs": [
    {
     "data": {
      "text/html": [
       "<div>\n",
       "<style scoped>\n",
       "    .dataframe tbody tr th:only-of-type {\n",
       "        vertical-align: middle;\n",
       "    }\n",
       "\n",
       "    .dataframe tbody tr th {\n",
       "        vertical-align: top;\n",
       "    }\n",
       "\n",
       "    .dataframe thead th {\n",
       "        text-align: right;\n",
       "    }\n",
       "</style>\n",
       "<table border=\"1\" class=\"dataframe\">\n",
       "  <thead>\n",
       "    <tr style=\"text-align: right;\">\n",
       "      <th></th>\n",
       "      <th>Age</th>\n",
       "      <th>Work Experience</th>\n",
       "      <th>Family Size</th>\n",
       "      <th>Annual Salary ($K)</th>\n",
       "      <th>Spending Score (1-100)</th>\n",
       "    </tr>\n",
       "  </thead>\n",
       "  <tbody>\n",
       "    <tr>\n",
       "      <th>Age</th>\n",
       "      <td>1.000000</td>\n",
       "      <td>-0.249805</td>\n",
       "      <td>-0.295929</td>\n",
       "      <td>-0.241696</td>\n",
       "      <td>0.421766</td>\n",
       "    </tr>\n",
       "    <tr>\n",
       "      <th>Work Experience</th>\n",
       "      <td>-0.249805</td>\n",
       "      <td>1.000000</td>\n",
       "      <td>-0.002767</td>\n",
       "      <td>0.694124</td>\n",
       "      <td>-0.115138</td>\n",
       "    </tr>\n",
       "    <tr>\n",
       "      <th>Family Size</th>\n",
       "      <td>-0.295929</td>\n",
       "      <td>-0.002767</td>\n",
       "      <td>1.000000</td>\n",
       "      <td>0.208102</td>\n",
       "      <td>0.167379</td>\n",
       "    </tr>\n",
       "    <tr>\n",
       "      <th>Annual Salary ($K)</th>\n",
       "      <td>-0.241696</td>\n",
       "      <td>0.694124</td>\n",
       "      <td>0.208102</td>\n",
       "      <td>1.000000</td>\n",
       "      <td>-0.030905</td>\n",
       "    </tr>\n",
       "    <tr>\n",
       "      <th>Spending Score (1-100)</th>\n",
       "      <td>0.421766</td>\n",
       "      <td>-0.115138</td>\n",
       "      <td>0.167379</td>\n",
       "      <td>-0.030905</td>\n",
       "      <td>1.000000</td>\n",
       "    </tr>\n",
       "  </tbody>\n",
       "</table>\n",
       "</div>"
      ],
      "text/plain": [
       "                             Age  Work Experience  Family Size  \\\n",
       "Age                     1.000000        -0.249805    -0.295929   \n",
       "Work Experience        -0.249805         1.000000    -0.002767   \n",
       "Family Size            -0.295929        -0.002767     1.000000   \n",
       "Annual Salary ($K)     -0.241696         0.694124     0.208102   \n",
       "Spending Score (1-100)  0.421766        -0.115138     0.167379   \n",
       "\n",
       "                        Annual Salary ($K)  Spending Score (1-100)  \n",
       "Age                              -0.241696                0.421766  \n",
       "Work Experience                   0.694124               -0.115138  \n",
       "Family Size                       0.208102                0.167379  \n",
       "Annual Salary ($K)                1.000000               -0.030905  \n",
       "Spending Score (1-100)           -0.030905                1.000000  "
      ]
     },
     "metadata": {},
     "output_type": "display_data"
    },
    {
     "data": {
      "text/plain": [
       "<AxesSubplot:>"
      ]
     },
     "execution_count": 59,
     "metadata": {},
     "output_type": "execute_result"
    },
    {
     "data": {
      "image/png": "[encoded data removed]",
      "text/plain": [
       "<Figure size 432x288 with 2 Axes>"
      ]
     },
     "metadata": {
      "needs_background": "light"
     },
     "output_type": "display_data"
    }
   ],
   "source": [
    "display(customer_seg_df_updated_sample_size.corr())\n",
    "\n",
    "sns.heatmap(customer_seg_df_updated_sample_size.corr(), annot=True, cmap='viridis')"
   ]
  },
  {
   "cell_type": "markdown",
   "metadata": {},
   "source": [
    "##### Findings: \n",
    "\n",
    "##### A customer's Spending Score is heavily weighted based on their age.\n",
    "##### Customers with more working experience tend to have higher annual salaries.\n",
    "##### The spending score seems to be impacted by the family size. This makes sense because more money is probably being spent taking care of family members instead of one individual (e.g. Education, Food, Clothes, Medical Expenses)."
   ]
  },
  {
   "cell_type": "markdown",
   "metadata": {},
   "source": [
    "##### Here is a pairplot to show the correlation of some columns with graphs based on Profession."
   ]
  },
  {
   "cell_type": "code",
   "execution_count": 60,
   "metadata": {},
   "outputs": [
    {
     "data": {
      "text/plain": [
       "<seaborn.axisgrid.PairGrid at 0x1e5ec092a90>"
      ]
     },
     "execution_count": 60,
     "metadata": {},
     "output_type": "execute_result"
    },
    {
     "data": {
      "image/png": "[encoded data removed]",
      "text/plain": [
       "<Figure size 996.625x900 with 30 Axes>"
      ]
     },
     "metadata": {
      "needs_background": "light"
     },
     "output_type": "display_data"
    }
   ],
   "source": [
    "sns.pairplot(customer_seg_df_updated_sample_size, hue=\"Profession\")"
   ]
  },
  {
   "cell_type": "markdown",
   "metadata": {},
   "source": [
    "##### Analysis Based on Gender:"
   ]
  },
  {
   "cell_type": "markdown",
   "metadata": {},
   "source": [
    "##### Now, let's start to analyze the correlation between female and male customers. According to the new dataset, there is almost an equal distribution of females and males. However, tere are only 4 more females in this dataset."
   ]
  },
  {
   "cell_type": "code",
   "execution_count": 61,
   "metadata": {},
   "outputs": [
    {
     "data": {
      "text/plain": [
       "Female    159\n",
       "Male      155\n",
       "Name: Gender, dtype: int64"
      ]
     },
     "metadata": {},
     "output_type": "display_data"
    },
    {
     "data": {
      "text/plain": [
       "[Text(0.5, 1.0, 'Count of Females vs Males')]"
      ]
     },
     "execution_count": 61,
     "metadata": {},
     "output_type": "execute_result"
    },
    {
     "data": {
      "image/png": "[encoded data removed]",
      "text/plain": [
       "<Figure size 432x288 with 1 Axes>"
      ]
     },
     "metadata": {
      "needs_background": "light"
     },
     "output_type": "display_data"
    }
   ],
   "source": [
    "display(customer_seg_df_updated_sample_size['Gender'].value_counts())\n",
    "\n",
    "sns.countplot(customer_seg_df_updated_sample_size['Gender']).set(title='Count of Females vs Males')"
   ]
  },
  {
   "cell_type": "code",
   "execution_count": 62,
   "metadata": {},
   "outputs": [
    {
     "data": {
      "application/vnd.plotly.v1+json": {
       "config": {
        "plotlyServerURL": "https://plot.ly"
       },
       "data": [
        {
         "coloraxis": "coloraxis",
         "hovertemplate": "Age=%{x}<br>Gender=%{y}<br>count=%{z}<extra></extra>",
         "name": "",
         "texttemplate": "%{z}",
         "type": "histogram2d",
         "x": [
          36,
          37,
          59,
          47,
          50,
          19,
          22,
          22,
          50,
          27,
          61,
          20,
          45,
          55,
          88,
          42,
          35,
          27,
          29,
          79,
          89,
          31,
          72,
          61,
          62,
          56,
          60,
          68,
          57,
          19,
          51,
          86,
          74,
          47,
          19,
          50,
          50,
          83,
          36,
          35,
          35,
          18,
          73,
          62,
          46,
          39,
          89,
          18,
          57,
          71,
          69,
          42,
          36,
          80,
          67,
          49,
          32,
          65,
          78,
          33,
          48,
          58,
          30,
          35,
          32,
          69,
          71,
          43,
          37,
          46,
          70,
          30,
          32,
          26,
          42,
          29,
          88,
          70,
          50,
          51,
          60,
          46,
          81,
          22,
          37,
          43,
          50,
          35,
          65,
          41,
          55,
          76,
          88,
          69,
          70,
          32,
          21,
          39,
          85,
          66,
          50,
          42,
          53,
          45,
          40,
          35,
          48,
          56,
          49,
          72,
          77,
          42,
          26,
          67,
          55,
          46,
          32,
          49,
          59,
          22,
          28,
          75,
          37,
          50,
          35,
          46,
          50,
          33,
          49,
          52,
          25,
          41,
          68,
          79,
          63,
          50,
          30,
          61,
          42,
          88,
          45,
          86,
          18,
          46,
          72,
          46,
          42,
          19,
          68,
          40,
          23,
          84,
          51,
          41,
          51,
          62,
          38,
          22,
          48,
          31,
          46,
          49,
          42,
          39,
          20,
          72,
          70,
          45,
          33,
          74,
          49,
          18,
          28,
          59,
          56,
          69,
          66,
          18,
          36,
          31,
          67,
          39,
          50,
          37,
          59,
          50,
          48,
          55,
          38,
          43,
          53,
          36,
          36,
          62,
          38,
          62,
          61,
          50,
          39,
          86,
          50,
          52,
          45,
          37,
          36,
          41,
          80,
          46,
          81,
          26,
          26,
          47,
          48,
          39,
          50,
          26,
          36,
          29,
          39,
          41,
          25,
          41,
          37,
          51,
          19,
          19,
          83,
          62,
          43,
          27,
          50,
          32,
          35,
          45,
          28,
          38,
          27,
          41,
          41,
          47,
          88,
          46,
          41,
          48,
          61,
          51,
          43,
          27,
          38,
          43,
          46,
          47,
          53,
          39,
          37,
          19,
          30,
          49,
          55,
          27,
          25,
          38,
          28,
          27,
          43,
          40,
          41,
          32,
          28,
          25,
          42,
          36,
          42,
          42,
          47,
          26,
          28,
          25,
          50,
          30,
          20,
          19,
          19,
          20,
          26,
          31,
          41,
          42,
          78,
          65,
          36,
          55,
          52,
          52,
          37,
          40,
          33,
          26,
          18,
          26,
          18,
          20,
          80,
          71,
          26,
          28,
          29,
          37,
          33,
          48,
          27,
          49,
          33,
          33
         ],
         "xaxis": "x",
         "xbingroup": "x",
         "y": [
          "Female",
          "Male",
          "Male",
          "Female",
          "Male",
          "Male",
          "Male",
          "Female",
          "Male",
          "Male",
          "Female",
          "Female",
          "Male",
          "Male",
          "Female",
          "Male",
          "Female",
          "Male",
          "Female",
          "Female",
          "Male",
          "Male",
          "Male",
          "Female",
          "Male",
          "Male",
          "Male",
          "Male",
          "Male",
          "Male",
          "Female",
          "Female",
          "Female",
          "Male",
          "Female",
          "Male",
          "Male",
          "Female",
          "Female",
          "Female",
          "Male",
          "Male",
          "Female",
          "Male",
          "Female",
          "Male",
          "Female",
          "Female",
          "Female",
          "Female",
          "Female",
          "Female",
          "Female",
          "Female",
          "Female",
          "Female",
          "Female",
          "Female",
          "Female",
          "Male",
          "Male",
          "Male",
          "Female",
          "Female",
          "Male",
          "Male",
          "Female",
          "Male",
          "Male",
          "Male",
          "Male",
          "Male",
          "Female",
          "Male",
          "Male",
          "Male",
          "Female",
          "Male",
          "Female",
          "Male",
          "Male",
          "Male",
          "Female",
          "Male",
          "Male",
          "Male",
          "Male",
          "Female",
          "Male",
          "Female",
          "Male",
          "Female",
          "Female",
          "Male",
          "Female",
          "Male",
          "Male",
          "Female",
          "Male",
          "Female",
          "Female",
          "Female",
          "Male",
          "Female",
          "Male",
          "Female",
          "Female",
          "Female",
          "Male",
          "Male",
          "Female",
          "Male",
          "Male",
          "Male",
          "Male",
          "Male",
          "Male",
          "Female",
          "Male",
          "Male",
          "Female",
          "Male",
          "Female",
          "Female",
          "Female",
          "Male",
          "Female",
          "Female",
          "Male",
          "Male",
          "Male",
          "Female",
          "Female",
          "Female",
          "Female",
          "Female",
          "Female",
          "Male",
          "Male",
          "Male",
          "Male",
          "Female",
          "Male",
          "Male",
          "Female",
          "Male",
          "Male",
          "Male",
          "Male",
          "Female",
          "Female",
          "Female",
          "Male",
          "Female",
          "Male",
          "Female",
          "Female",
          "Male",
          "Male",
          "Female",
          "Male",
          "Female",
          "Male",
          "Female",
          "Male",
          "Male",
          "Male",
          "Male",
          "Male",
          "Female",
          "Male",
          "Female",
          "Male",
          "Male",
          "Female",
          "Male",
          "Male",
          "Male",
          "Male",
          "Male",
          "Male",
          "Female",
          "Male",
          "Female",
          "Female",
          "Male",
          "Male",
          "Male",
          "Male",
          "Male",
          "Female",
          "Female",
          "Male",
          "Male",
          "Female",
          "Female",
          "Male",
          "Female",
          "Male",
          "Female",
          "Male",
          "Male",
          "Female",
          "Female",
          "Female",
          "Male",
          "Male",
          "Female",
          "Female",
          "Female",
          "Male",
          "Female",
          "Male",
          "Male",
          "Male",
          "Male",
          "Female",
          "Male",
          "Female",
          "Female",
          "Female",
          "Female",
          "Male",
          "Female",
          "Female",
          "Female",
          "Male",
          "Female",
          "Female",
          "Female",
          "Male",
          "Male",
          "Female",
          "Female",
          "Male",
          "Male",
          "Female",
          "Male",
          "Male",
          "Male",
          "Female",
          "Female",
          "Female",
          "Male",
          "Female",
          "Female",
          "Female",
          "Male",
          "Female",
          "Female",
          "Female",
          "Female",
          "Female",
          "Female",
          "Female",
          "Male",
          "Male",
          "Female",
          "Male",
          "Female",
          "Female",
          "Male",
          "Male",
          "Female",
          "Female",
          "Female",
          "Male",
          "Female",
          "Male",
          "Female",
          "Male",
          "Male",
          "Female",
          "Female",
          "Female",
          "Female",
          "Female",
          "Male",
          "Male",
          "Female",
          "Female",
          "Female",
          "Male",
          "Male",
          "Female",
          "Male",
          "Female",
          "Female",
          "Male",
          "Female",
          "Male",
          "Female",
          "Male",
          "Male",
          "Female",
          "Female",
          "Female",
          "Male",
          "Male",
          "Male",
          "Male",
          "Female",
          "Male",
          "Female",
          "Female",
          "Female",
          "Female",
          "Female",
          "Female",
          "Female",
          "Female",
          "Female",
          "Female",
          "Female"
         ],
         "yaxis": "y",
         "ybingroup": "y"
        }
       ],
       "layout": {
        "coloraxis": {
         "colorbar": {
          "title": {
           "text": "count"
          }
         },
         "colorscale": [
          [
           0,
           "#0d0887"
          ],
          [
           0.1111111111111111,
           "#46039f"
          ],
          [
           0.2222222222222222,
           "#7201a8"
          ],
          [
           0.3333333333333333,
           "#9c179e"
          ],
          [
           0.4444444444444444,
           "#bd3786"
          ],
          [
           0.5555555555555556,
           "#d8576b"
          ],
          [
           0.6666666666666666,
           "#ed7953"
          ],
          [
           0.7777777777777778,
           "#fb9f3a"
          ],
          [
           0.8888888888888888,
           "#fdca26"
          ],
          [
           1,
           "#f0f921"
          ]
         ]
        },
        "legend": {
         "tracegroupgap": 0
        },
        "margin": {
         "t": 60
        },
        "template": {
         "data": {
          "bar": [
           {
            "error_x": {
             "color": "#2a3f5f"
            },
            "error_y": {
             "color": "#2a3f5f"
            },
            "marker": {
             "line": {
              "color": "#E5ECF6",
              "width": 0.5
             },
             "pattern": {
              "fillmode": "overlay",
              "size": 10,
              "solidity": 0.2
             }
            },
            "type": "bar"
           }
          ],
          "barpolar": [
           {
            "marker": {
             "line": {
              "color": "#E5ECF6",
              "width": 0.5
             },
             "pattern": {
              "fillmode": "overlay",
              "size": 10,
              "solidity": 0.2
             }
            },
            "type": "barpolar"
           }
          ],
          "carpet": [
           {
            "aaxis": {
             "endlinecolor": "#2a3f5f",
             "gridcolor": "white",
             "linecolor": "white",
             "minorgridcolor": "white",
             "startlinecolor": "#2a3f5f"
            },
            "baxis": {
             "endlinecolor": "#2a3f5f",
             "gridcolor": "white",
             "linecolor": "white",
             "minorgridcolor": "white",
             "startlinecolor": "#2a3f5f"
            },
            "type": "carpet"
           }
          ],
          "choropleth": [
           {
            "colorbar": {
             "outlinewidth": 0,
             "ticks": ""
            },
            "type": "choropleth"
           }
          ],
          "contour": [
           {
            "colorbar": {
             "outlinewidth": 0,
             "ticks": ""
            },
            "colorscale": [
             [
              0,
              "#0d0887"
             ],
             [
              0.1111111111111111,
              "#46039f"
             ],
             [
              0.2222222222222222,
              "#7201a8"
             ],
             [
              0.3333333333333333,
              "#9c179e"
             ],
             [
              0.4444444444444444,
              "#bd3786"
             ],
             [
              0.5555555555555556,
              "#d8576b"
             ],
             [
              0.6666666666666666,
              "#ed7953"
             ],
             [
              0.7777777777777778,
              "#fb9f3a"
             ],
             [
              0.8888888888888888,
              "#fdca26"
             ],
             [
              1,
              "#f0f921"
             ]
            ],
            "type": "contour"
           }
          ],
          "contourcarpet": [
           {
            "colorbar": {
             "outlinewidth": 0,
             "ticks": ""
            },
            "type": "contourcarpet"
           }
          ],
          "heatmap": [
           {
            "colorbar": {
             "outlinewidth": 0,
             "ticks": ""
            },
            "colorscale": [
             [
              0,
              "#0d0887"
             ],
             [
              0.1111111111111111,
              "#46039f"
             ],
             [
              0.2222222222222222,
              "#7201a8"
             ],
             [
              0.3333333333333333,
              "#9c179e"
             ],
             [
              0.4444444444444444,
              "#bd3786"
             ],
             [
              0.5555555555555556,
              "#d8576b"
             ],
             [
              0.6666666666666666,
              "#ed7953"
             ],
             [
              0.7777777777777778,
              "#fb9f3a"
             ],
             [
              0.8888888888888888,
              "#fdca26"
             ],
             [
              1,
              "#f0f921"
             ]
            ],
            "type": "heatmap"
           }
          ],
          "heatmapgl": [
           {
            "colorbar": {
             "outlinewidth": 0,
             "ticks": ""
            },
            "colorscale": [
             [
              0,
              "#0d0887"
             ],
             [
              0.1111111111111111,
              "#46039f"
             ],
             [
              0.2222222222222222,
              "#7201a8"
             ],
             [
              0.3333333333333333,
              "#9c179e"
             ],
             [
              0.4444444444444444,
              "#bd3786"
             ],
             [
              0.5555555555555556,
              "#d8576b"
             ],
             [
              0.6666666666666666,
              "#ed7953"
             ],
             [
              0.7777777777777778,
              "#fb9f3a"
             ],
             [
              0.8888888888888888,
              "#fdca26"
             ],
             [
              1,
              "#f0f921"
             ]
            ],
            "type": "heatmapgl"
           }
          ],
          "histogram": [
           {
            "marker": {
             "pattern": {
              "fillmode": "overlay",
              "size": 10,
              "solidity": 0.2
             }
            },
            "type": "histogram"
           }
          ],
          "histogram2d": [
           {
            "colorbar": {
             "outlinewidth": 0,
             "ticks": ""
            },
            "colorscale": [
             [
              0,
              "#0d0887"
             ],
             [
              0.1111111111111111,
              "#46039f"
             ],
             [
              0.2222222222222222,
              "#7201a8"
             ],
             [
              0.3333333333333333,
              "#9c179e"
             ],
             [
              0.4444444444444444,
              "#bd3786"
             ],
             [
              0.5555555555555556,
              "#d8576b"
             ],
             [
              0.6666666666666666,
              "#ed7953"
             ],
             [
              0.7777777777777778,
              "#fb9f3a"
             ],
             [
              0.8888888888888888,
              "#fdca26"
             ],
             [
              1,
              "#f0f921"
             ]
            ],
            "type": "histogram2d"
           }
          ],
          "histogram2dcontour": [
           {
            "colorbar": {
             "outlinewidth": 0,
             "ticks": ""
            },
            "colorscale": [
             [
              0,
              "#0d0887"
             ],
             [
              0.1111111111111111,
              "#46039f"
             ],
             [
              0.2222222222222222,
              "#7201a8"
             ],
             [
              0.3333333333333333,
              "#9c179e"
             ],
             [
              0.4444444444444444,
              "#bd3786"
             ],
             [
              0.5555555555555556,
              "#d8576b"
             ],
             [
              0.6666666666666666,
              "#ed7953"
             ],
             [
              0.7777777777777778,
              "#fb9f3a"
             ],
             [
              0.8888888888888888,
              "#fdca26"
             ],
             [
              1,
              "#f0f921"
             ]
            ],
            "type": "histogram2dcontour"
           }
          ],
          "mesh3d": [
           {
            "colorbar": {
             "outlinewidth": 0,
             "ticks": ""
            },
            "type": "mesh3d"
           }
          ],
          "parcoords": [
           {
            "line": {
             "colorbar": {
              "outlinewidth": 0,
              "ticks": ""
             }
            },
            "type": "parcoords"
           }
          ],
          "pie": [
           {
            "automargin": true,
            "type": "pie"
           }
          ],
          "scatter": [
           {
            "fillpattern": {
             "fillmode": "overlay",
             "size": 10,
             "solidity": 0.2
            },
            "type": "scatter"
           }
          ],
          "scatter3d": [
           {
            "line": {
             "colorbar": {
              "outlinewidth": 0,
              "ticks": ""
             }
            },
            "marker": {
             "colorbar": {
              "outlinewidth": 0,
              "ticks": ""
             }
            },
            "type": "scatter3d"
           }
          ],
          "scattercarpet": [
           {
            "marker": {
             "colorbar": {
              "outlinewidth": 0,
              "ticks": ""
             }
            },
            "type": "scattercarpet"
           }
          ],
          "scattergeo": [
           {
            "marker": {
             "colorbar": {
              "outlinewidth": 0,
              "ticks": ""
             }
            },
            "type": "scattergeo"
           }
          ],
          "scattergl": [
           {
            "marker": {
             "colorbar": {
              "outlinewidth": 0,
              "ticks": ""
             }
            },
            "type": "scattergl"
           }
          ],
          "scattermapbox": [
           {
            "marker": {
             "colorbar": {
              "outlinewidth": 0,
              "ticks": ""
             }
            },
            "type": "scattermapbox"
           }
          ],
          "scatterpolar": [
           {
            "marker": {
             "colorbar": {
              "outlinewidth": 0,
              "ticks": ""
             }
            },
            "type": "scatterpolar"
           }
          ],
          "scatterpolargl": [
           {
            "marker": {
             "colorbar": {
              "outlinewidth": 0,
              "ticks": ""
             }
            },
            "type": "scatterpolargl"
           }
          ],
          "scatterternary": [
           {
            "marker": {
             "colorbar": {
              "outlinewidth": 0,
              "ticks": ""
             }
            },
            "type": "scatterternary"
           }
          ],
          "surface": [
           {
            "colorbar": {
             "outlinewidth": 0,
             "ticks": ""
            },
            "colorscale": [
             [
              0,
              "#0d0887"
             ],
             [
              0.1111111111111111,
              "#46039f"
             ],
             [
              0.2222222222222222,
              "#7201a8"
             ],
             [
              0.3333333333333333,
              "#9c179e"
             ],
             [
              0.4444444444444444,
              "#bd3786"
             ],
             [
              0.5555555555555556,
              "#d8576b"
             ],
             [
              0.6666666666666666,
              "#ed7953"
             ],
             [
              0.7777777777777778,
              "#fb9f3a"
             ],
             [
              0.8888888888888888,
              "#fdca26"
             ],
             [
              1,
              "#f0f921"
             ]
            ],
            "type": "surface"
           }
          ],
          "table": [
           {
            "cells": {
             "fill": {
              "color": "#EBF0F8"
             },
             "line": {
              "color": "white"
             }
            },
            "header": {
             "fill": {
              "color": "#C8D4E3"
             },
             "line": {
              "color": "white"
             }
            },
            "type": "table"
           }
          ]
         },
         "layout": {
          "annotationdefaults": {
           "arrowcolor": "#2a3f5f",
           "arrowhead": 0,
           "arrowwidth": 1
          },
          "autotypenumbers": "strict",
          "coloraxis": {
           "colorbar": {
            "outlinewidth": 0,
            "ticks": ""
           }
          },
          "colorscale": {
           "diverging": [
            [
             0,
             "#8e0152"
            ],
            [
             0.1,
             "#c51b7d"
            ],
            [
             0.2,
             "#de77ae"
            ],
            [
             0.3,
             "#f1b6da"
            ],
            [
             0.4,
             "#fde0ef"
            ],
            [
             0.5,
             "#f7f7f7"
            ],
            [
             0.6,
             "#e6f5d0"
            ],
            [
             0.7,
             "#b8e186"
            ],
            [
             0.8,
             "#7fbc41"
            ],
            [
             0.9,
             "#4d9221"
            ],
            [
             1,
             "#276419"
            ]
           ],
           "sequential": [
            [
             0,
             "#0d0887"
            ],
            [
             0.1111111111111111,
             "#46039f"
            ],
            [
             0.2222222222222222,
             "#7201a8"
            ],
            [
             0.3333333333333333,
             "#9c179e"
            ],
            [
             0.4444444444444444,
             "#bd3786"
            ],
            [
             0.5555555555555556,
             "#d8576b"
            ],
            [
             0.6666666666666666,
             "#ed7953"
            ],
            [
             0.7777777777777778,
             "#fb9f3a"
            ],
            [
             0.8888888888888888,
             "#fdca26"
            ],
            [
             1,
             "#f0f921"
            ]
           ],
           "sequentialminus": [
            [
             0,
             "#0d0887"
            ],
            [
             0.1111111111111111,
             "#46039f"
            ],
            [
             0.2222222222222222,
             "#7201a8"
            ],
            [
             0.3333333333333333,
             "#9c179e"
            ],
            [
             0.4444444444444444,
             "#bd3786"
            ],
            [
             0.5555555555555556,
             "#d8576b"
            ],
            [
             0.6666666666666666,
             "#ed7953"
            ],
            [
             0.7777777777777778,
             "#fb9f3a"
            ],
            [
             0.8888888888888888,
             "#fdca26"
            ],
            [
             1,
             "#f0f921"
            ]
           ]
          },
          "colorway": [
           "#636efa",
           "#EF553B",
           "#00cc96",
           "#ab63fa",
           "#FFA15A",
           "#19d3f3",
           "#FF6692",
           "#B6E880",
           "#FF97FF",
           "#FECB52"
          ],
          "font": {
           "color": "#2a3f5f"
          },
          "geo": {
           "bgcolor": "white",
           "lakecolor": "white",
           "landcolor": "#E5ECF6",
           "showlakes": true,
           "showland": true,
           "subunitcolor": "white"
          },
          "hoverlabel": {
           "align": "left"
          },
          "hovermode": "closest",
          "mapbox": {
           "style": "light"
          },
          "paper_bgcolor": "white",
          "plot_bgcolor": "#E5ECF6",
          "polar": {
           "angularaxis": {
            "gridcolor": "white",
            "linecolor": "white",
            "ticks": ""
           },
           "bgcolor": "#E5ECF6",
           "radialaxis": {
            "gridcolor": "white",
            "linecolor": "white",
            "ticks": ""
           }
          },
          "scene": {
           "xaxis": {
            "backgroundcolor": "#E5ECF6",
            "gridcolor": "white",
            "gridwidth": 2,
            "linecolor": "white",
            "showbackground": true,
            "ticks": "",
            "zerolinecolor": "white"
           },
           "yaxis": {
            "backgroundcolor": "#E5ECF6",
            "gridcolor": "white",
            "gridwidth": 2,
            "linecolor": "white",
            "showbackground": true,
            "ticks": "",
            "zerolinecolor": "white"
           },
           "zaxis": {
            "backgroundcolor": "#E5ECF6",
            "gridcolor": "white",
            "gridwidth": 2,
            "linecolor": "white",
            "showbackground": true,
            "ticks": "",
            "zerolinecolor": "white"
           }
          },
          "shapedefaults": {
           "line": {
            "color": "#2a3f5f"
           }
          },
          "ternary": {
           "aaxis": {
            "gridcolor": "white",
            "linecolor": "white",
            "ticks": ""
           },
           "baxis": {
            "gridcolor": "white",
            "linecolor": "white",
            "ticks": ""
           },
           "bgcolor": "#E5ECF6",
           "caxis": {
            "gridcolor": "white",
            "linecolor": "white",
            "ticks": ""
           }
          },
          "title": {
           "x": 0.05
          },
          "xaxis": {
           "automargin": true,
           "gridcolor": "white",
           "linecolor": "white",
           "ticks": "",
           "title": {
            "standoff": 15
           },
           "zerolinecolor": "white",
           "zerolinewidth": 2
          },
          "yaxis": {
           "automargin": true,
           "gridcolor": "white",
           "linecolor": "white",
           "ticks": "",
           "title": {
            "standoff": 15
           },
           "zerolinecolor": "white",
           "zerolinewidth": 2
          }
         }
        },
        "title": {
         "text": "Count of Individuals Based on Age & Gender",
         "x": 0.5
        },
        "xaxis": {
         "anchor": "y",
         "domain": [
          0,
          1
         ],
         "title": {
          "text": "Age"
         }
        },
        "yaxis": {
         "anchor": "x",
         "domain": [
          0,
          1
         ],
         "title": {
          "text": "Gender"
         }
        }
       }
      }
     },
     "metadata": {},
     "output_type": "display_data"
    },
    {
     "data": {
      "text/plain": [
       "<seaborn.axisgrid.FacetGrid at 0x1e5ecb8f1f0>"
      ]
     },
     "execution_count": 62,
     "metadata": {},
     "output_type": "execute_result"
    },
    {
     "data": {
      "image/png": "[encoded data removed]",
      "text/plain": [
       "<Figure size 816.625x360 with 2 Axes>"
      ]
     },
     "metadata": {
      "needs_background": "light"
     },
     "output_type": "display_data"
    },
    {
     "data": {
      "image/png": "[encoded data removed]",
      "text/plain": [
       "<Figure size 432.125x360 with 1 Axes>"
      ]
     },
     "metadata": {
      "needs_background": "light"
     },
     "output_type": "display_data"
    }
   ],
   "source": [
    "sns.displot(data=customer_seg_df_updated_sample_size, x=\"Age\", hue=\"Profession\", col=\"Gender\", kind=\"kde\").set(title='Distribution of Professions By Age')\n",
    "\n",
    "fig = px.density_heatmap(customer_seg_df_updated_sample_size, x=\"Age\", y=\"Gender\", text_auto=True)\n",
    "\n",
    "fig.update_layout(title_text='Count of Individuals Based on Age & Gender', title_x=0.5)\n",
    "\n",
    "fig.show()\n",
    "\n",
    "sns.displot(data=customer_seg_df_updated_sample_size, x=\"Age\", hue=\"Gender\", kde=True).set(title='Distribution of Ages Between Female & Male')\n"
   ]
  },
  {
   "cell_type": "markdown",
   "metadata": {},
   "source": [
    "##### Findings:\n",
    "\n",
    "##### 1. Majority of both genders are Artists as a profession.\n",
    "\n",
    "##### 2. The second highest profession for females are Engineers and the second highest profession for males are Nursing.\n",
    "\n",
    "##### 3. Majority of both females and males fall between ages 20 to 60 years old according to the distribution. This makes sense because individuals within this age group are usually at a life stage where they've either graduated from school and started working, spent several years working, or raising a family where transportation is very important.\n",
    "\n",
    "##### 4. Based on the analysis so far, I think it's logical to say that automobile companies should start to target individuals who are Artists and fall between the age ranges of 20 to 60 years old."
   ]
  },
  {
   "cell_type": "markdown",
   "metadata": {},
   "source": [
    "##### Here are more findings."
   ]
  },
  {
   "cell_type": "code",
   "execution_count": 63,
   "metadata": {},
   "outputs": [
    {
     "data": {
      "application/vnd.plotly.v1+json": {
       "config": {
        "plotlyServerURL": "https://plot.ly"
       },
       "data": [
        {
         "coloraxis": "coloraxis",
         "hovertemplate": "Annual Salary ($K)=%{x}<br>Gender=%{y}<br>count=%{z}<extra></extra>",
         "name": "",
         "texttemplate": "%{z}",
         "type": "histogram2d",
         "x": [
          49,
          86,
          119,
          36,
          36,
          59,
          59,
          59,
          36,
          86,
          36,
          53,
          36,
          72,
          53,
          36,
          86,
          83,
          59,
          53,
          53,
          36,
          36,
          72,
          36,
          36,
          36,
          36,
          119,
          80,
          57,
          36,
          53,
          36,
          86,
          36,
          83,
          53,
          36,
          36,
          36,
          80,
          36,
          36,
          36,
          36,
          53,
          59,
          36,
          36,
          36,
          59,
          36,
          53,
          36,
          36,
          109,
          53,
          53,
          36,
          36,
          47,
          86,
          36,
          86,
          27,
          53,
          53,
          36,
          36,
          36,
          59,
          49,
          47,
          40,
          86,
          36,
          53,
          36,
          72,
          47,
          36,
          40,
          47,
          36,
          49,
          36,
          36,
          53,
          49,
          57,
          53,
          53,
          47,
          53,
          59,
          86,
          40,
          53,
          36,
          36,
          36,
          72,
          36,
          57,
          36,
          36,
          36,
          53,
          40,
          53,
          86,
          59,
          53,
          49,
          72,
          86,
          27,
          36,
          86,
          72,
          53,
          72,
          47,
          57,
          36,
          36,
          72,
          36,
          36,
          59,
          72,
          36,
          53,
          109,
          40,
          101,
          36,
          57,
          57,
          57,
          53,
          59,
          36,
          144,
          57,
          119,
          80,
          47,
          36,
          59,
          53,
          36,
          36,
          47,
          53,
          72,
          80,
          36,
          78,
          57,
          49,
          72,
          49,
          59,
          47,
          59,
          36,
          119,
          53,
          40,
          59,
          36,
          27,
          36,
          36,
          36,
          80,
          57,
          40,
          47,
          72,
          36,
          36,
          36,
          72,
          72,
          72,
          72,
          36,
          36,
          57,
          57,
          36,
          36,
          27,
          36,
          57,
          72,
          53,
          36,
          40,
          40,
          72,
          78,
          72,
          84,
          57,
          53,
          86,
          36,
          36,
          49,
          36,
          72,
          109,
          57,
          59,
          36,
          36,
          80,
          72,
          72,
          49,
          59,
          59,
          47,
          36,
          72,
          36,
          36,
          86,
          86,
          49,
          59,
          86,
          86,
          36,
          36,
          47,
          53,
          72,
          57,
          36,
          57,
          53,
          86,
          86,
          109,
          72,
          36,
          72,
          72,
          36,
          57,
          59,
          40,
          36,
          59,
          119,
          36,
          72,
          72,
          101,
          72,
          86,
          72,
          86,
          101,
          36,
          72,
          80,
          36,
          72,
          49,
          72,
          57,
          40,
          47,
          49,
          80,
          101,
          86,
          59,
          49,
          59,
          109,
          27,
          53,
          53,
          72,
          36,
          49,
          27,
          109,
          59,
          49,
          36,
          40,
          59,
          59,
          40,
          53,
          144,
          36,
          27,
          72,
          101,
          27,
          27,
          27,
          36,
          109,
          109
         ],
         "xaxis": "x",
         "xbingroup": "x",
         "y": [
          "Female",
          "Male",
          "Male",
          "Female",
          "Male",
          "Male",
          "Male",
          "Female",
          "Male",
          "Male",
          "Female",
          "Female",
          "Male",
          "Male",
          "Female",
          "Male",
          "Female",
          "Male",
          "Female",
          "Female",
          "Male",
          "Male",
          "Male",
          "Female",
          "Male",
          "Male",
          "Male",
          "Male",
          "Male",
          "Male",
          "Female",
          "Female",
          "Female",
          "Male",
          "Female",
          "Male",
          "Male",
          "Female",
          "Female",
          "Female",
          "Male",
          "Male",
          "Female",
          "Male",
          "Female",
          "Male",
          "Female",
          "Female",
          "Female",
          "Female",
          "Female",
          "Female",
          "Female",
          "Female",
          "Female",
          "Female",
          "Female",
          "Female",
          "Female",
          "Male",
          "Male",
          "Male",
          "Female",
          "Female",
          "Male",
          "Male",
          "Female",
          "Male",
          "Male",
          "Male",
          "Male",
          "Male",
          "Female",
          "Male",
          "Male",
          "Male",
          "Female",
          "Male",
          "Female",
          "Male",
          "Male",
          "Male",
          "Female",
          "Male",
          "Male",
          "Male",
          "Male",
          "Female",
          "Male",
          "Female",
          "Male",
          "Female",
          "Female",
          "Male",
          "Female",
          "Male",
          "Male",
          "Female",
          "Male",
          "Female",
          "Female",
          "Female",
          "Male",
          "Female",
          "Male",
          "Female",
          "Female",
          "Female",
          "Male",
          "Male",
          "Female",
          "Male",
          "Male",
          "Male",
          "Male",
          "Male",
          "Male",
          "Female",
          "Male",
          "Male",
          "Female",
          "Male",
          "Female",
          "Female",
          "Female",
          "Male",
          "Female",
          "Female",
          "Male",
          "Male",
          "Male",
          "Female",
          "Female",
          "Female",
          "Female",
          "Female",
          "Female",
          "Male",
          "Male",
          "Male",
          "Male",
          "Female",
          "Male",
          "Male",
          "Female",
          "Male",
          "Male",
          "Male",
          "Male",
          "Female",
          "Female",
          "Female",
          "Male",
          "Female",
          "Male",
          "Female",
          "Female",
          "Male",
          "Male",
          "Female",
          "Male",
          "Female",
          "Male",
          "Female",
          "Male",
          "Male",
          "Male",
          "Male",
          "Male",
          "Female",
          "Male",
          "Female",
          "Male",
          "Male",
          "Female",
          "Male",
          "Male",
          "Male",
          "Male",
          "Male",
          "Male",
          "Female",
          "Male",
          "Female",
          "Female",
          "Male",
          "Male",
          "Male",
          "Male",
          "Male",
          "Female",
          "Female",
          "Male",
          "Male",
          "Female",
          "Female",
          "Male",
          "Female",
          "Male",
          "Female",
          "Male",
          "Male",
          "Female",
          "Female",
          "Female",
          "Male",
          "Male",
          "Female",
          "Female",
          "Female",
          "Male",
          "Female",
          "Male",
          "Male",
          "Male",
          "Male",
          "Female",
          "Male",
          "Female",
          "Female",
          "Female",
          "Female",
          "Male",
          "Female",
          "Female",
          "Female",
          "Male",
          "Female",
          "Female",
          "Female",
          "Male",
          "Male",
          "Female",
          "Female",
          "Male",
          "Male",
          "Female",
          "Male",
          "Male",
          "Male",
          "Female",
          "Female",
          "Female",
          "Male",
          "Female",
          "Female",
          "Female",
          "Male",
          "Female",
          "Female",
          "Female",
          "Female",
          "Female",
          "Female",
          "Female",
          "Male",
          "Male",
          "Female",
          "Male",
          "Female",
          "Female",
          "Male",
          "Male",
          "Female",
          "Female",
          "Female",
          "Male",
          "Female",
          "Male",
          "Female",
          "Male",
          "Male",
          "Female",
          "Female",
          "Female",
          "Female",
          "Female",
          "Male",
          "Male",
          "Female",
          "Female",
          "Female",
          "Male",
          "Male",
          "Female",
          "Male",
          "Female",
          "Female",
          "Male",
          "Female",
          "Male",
          "Female",
          "Male",
          "Male",
          "Female",
          "Female",
          "Female",
          "Male",
          "Male",
          "Male",
          "Male",
          "Female",
          "Male",
          "Female",
          "Female",
          "Female",
          "Female",
          "Female",
          "Female",
          "Female",
          "Female",
          "Female",
          "Female",
          "Female"
         ],
         "yaxis": "y",
         "ybingroup": "y"
        }
       ],
       "layout": {
        "coloraxis": {
         "colorbar": {
          "title": {
           "text": "count"
          }
         },
         "colorscale": [
          [
           0,
           "#0d0887"
          ],
          [
           0.1111111111111111,
           "#46039f"
          ],
          [
           0.2222222222222222,
           "#7201a8"
          ],
          [
           0.3333333333333333,
           "#9c179e"
          ],
          [
           0.4444444444444444,
           "#bd3786"
          ],
          [
           0.5555555555555556,
           "#d8576b"
          ],
          [
           0.6666666666666666,
           "#ed7953"
          ],
          [
           0.7777777777777778,
           "#fb9f3a"
          ],
          [
           0.8888888888888888,
           "#fdca26"
          ],
          [
           1,
           "#f0f921"
          ]
         ]
        },
        "legend": {
         "tracegroupgap": 0
        },
        "margin": {
         "t": 60
        },
        "template": {
         "data": {
          "bar": [
           {
            "error_x": {
             "color": "#2a3f5f"
            },
            "error_y": {
             "color": "#2a3f5f"
            },
            "marker": {
             "line": {
              "color": "#E5ECF6",
              "width": 0.5
             },
             "pattern": {
              "fillmode": "overlay",
              "size": 10,
              "solidity": 0.2
             }
            },
            "type": "bar"
           }
          ],
          "barpolar": [
           {
            "marker": {
             "line": {
              "color": "#E5ECF6",
              "width": 0.5
             },
             "pattern": {
              "fillmode": "overlay",
              "size": 10,
              "solidity": 0.2
             }
            },
            "type": "barpolar"
           }
          ],
          "carpet": [
           {
            "aaxis": {
             "endlinecolor": "#2a3f5f",
             "gridcolor": "white",
             "linecolor": "white",
             "minorgridcolor": "white",
             "startlinecolor": "#2a3f5f"
            },
            "baxis": {
             "endlinecolor": "#2a3f5f",
             "gridcolor": "white",
             "linecolor": "white",
             "minorgridcolor": "white",
             "startlinecolor": "#2a3f5f"
            },
            "type": "carpet"
           }
          ],
          "choropleth": [
           {
            "colorbar": {
             "outlinewidth": 0,
             "ticks": ""
            },
            "type": "choropleth"
           }
          ],
          "contour": [
           {
            "colorbar": {
             "outlinewidth": 0,
             "ticks": ""
            },
            "colorscale": [
             [
              0,
              "#0d0887"
             ],
             [
              0.1111111111111111,
              "#46039f"
             ],
             [
              0.2222222222222222,
              "#7201a8"
             ],
             [
              0.3333333333333333,
              "#9c179e"
             ],
             [
              0.4444444444444444,
              "#bd3786"
             ],
             [
              0.5555555555555556,
              "#d8576b"
             ],
             [
              0.6666666666666666,
              "#ed7953"
             ],
             [
              0.7777777777777778,
              "#fb9f3a"
             ],
             [
              0.8888888888888888,
              "#fdca26"
             ],
             [
              1,
              "#f0f921"
             ]
            ],
            "type": "contour"
           }
          ],
          "contourcarpet": [
           {
            "colorbar": {
             "outlinewidth": 0,
             "ticks": ""
            },
            "type": "contourcarpet"
           }
          ],
          "heatmap": [
           {
            "colorbar": {
             "outlinewidth": 0,
             "ticks": ""
            },
            "colorscale": [
             [
              0,
              "#0d0887"
             ],
             [
              0.1111111111111111,
              "#46039f"
             ],
             [
              0.2222222222222222,
              "#7201a8"
             ],
             [
              0.3333333333333333,
              "#9c179e"
             ],
             [
              0.4444444444444444,
              "#bd3786"
             ],
             [
              0.5555555555555556,
              "#d8576b"
             ],
             [
              0.6666666666666666,
              "#ed7953"
             ],
             [
              0.7777777777777778,
              "#fb9f3a"
             ],
             [
              0.8888888888888888,
              "#fdca26"
             ],
             [
              1,
              "#f0f921"
             ]
            ],
            "type": "heatmap"
           }
          ],
          "heatmapgl": [
           {
            "colorbar": {
             "outlinewidth": 0,
             "ticks": ""
            },
            "colorscale": [
             [
              0,
              "#0d0887"
             ],
             [
              0.1111111111111111,
              "#46039f"
             ],
             [
              0.2222222222222222,
              "#7201a8"
             ],
             [
              0.3333333333333333,
              "#9c179e"
             ],
             [
              0.4444444444444444,
              "#bd3786"
             ],
             [
              0.5555555555555556,
              "#d8576b"
             ],
             [
              0.6666666666666666,
              "#ed7953"
             ],
             [
              0.7777777777777778,
              "#fb9f3a"
             ],
             [
              0.8888888888888888,
              "#fdca26"
             ],
             [
              1,
              "#f0f921"
             ]
            ],
            "type": "heatmapgl"
           }
          ],
          "histogram": [
           {
            "marker": {
             "pattern": {
              "fillmode": "overlay",
              "size": 10,
              "solidity": 0.2
             }
            },
            "type": "histogram"
           }
          ],
          "histogram2d": [
           {
            "colorbar": {
             "outlinewidth": 0,
             "ticks": ""
            },
            "colorscale": [
             [
              0,
              "#0d0887"
             ],
             [
              0.1111111111111111,
              "#46039f"
             ],
             [
              0.2222222222222222,
              "#7201a8"
             ],
             [
              0.3333333333333333,
              "#9c179e"
             ],
             [
              0.4444444444444444,
              "#bd3786"
             ],
             [
              0.5555555555555556,
              "#d8576b"
             ],
             [
              0.6666666666666666,
              "#ed7953"
             ],
             [
              0.7777777777777778,
              "#fb9f3a"
             ],
             [
              0.8888888888888888,
              "#fdca26"
             ],
             [
              1,
              "#f0f921"
             ]
            ],
            "type": "histogram2d"
           }
          ],
          "histogram2dcontour": [
           {
            "colorbar": {
             "outlinewidth": 0,
             "ticks": ""
            },
            "colorscale": [
             [
              0,
              "#0d0887"
             ],
             [
              0.1111111111111111,
              "#46039f"
             ],
             [
              0.2222222222222222,
              "#7201a8"
             ],
             [
              0.3333333333333333,
              "#9c179e"
             ],
             [
              0.4444444444444444,
              "#bd3786"
             ],
             [
              0.5555555555555556,
              "#d8576b"
             ],
             [
              0.6666666666666666,
              "#ed7953"
             ],
             [
              0.7777777777777778,
              "#fb9f3a"
             ],
             [
              0.8888888888888888,
              "#fdca26"
             ],
             [
              1,
              "#f0f921"
             ]
            ],
            "type": "histogram2dcontour"
           }
          ],
          "mesh3d": [
           {
            "colorbar": {
             "outlinewidth": 0,
             "ticks": ""
            },
            "type": "mesh3d"
           }
          ],
          "parcoords": [
           {
            "line": {
             "colorbar": {
              "outlinewidth": 0,
              "ticks": ""
             }
            },
            "type": "parcoords"
           }
          ],
          "pie": [
           {
            "automargin": true,
            "type": "pie"
           }
          ],
          "scatter": [
           {
            "fillpattern": {
             "fillmode": "overlay",
             "size": 10,
             "solidity": 0.2
            },
            "type": "scatter"
           }
          ],
          "scatter3d": [
           {
            "line": {
             "colorbar": {
              "outlinewidth": 0,
              "ticks": ""
             }
            },
            "marker": {
             "colorbar": {
              "outlinewidth": 0,
              "ticks": ""
             }
            },
            "type": "scatter3d"
           }
          ],
          "scattercarpet": [
           {
            "marker": {
             "colorbar": {
              "outlinewidth": 0,
              "ticks": ""
             }
            },
            "type": "scattercarpet"
           }
          ],
          "scattergeo": [
           {
            "marker": {
             "colorbar": {
              "outlinewidth": 0,
              "ticks": ""
             }
            },
            "type": "scattergeo"
           }
          ],
          "scattergl": [
           {
            "marker": {
             "colorbar": {
              "outlinewidth": 0,
              "ticks": ""
             }
            },
            "type": "scattergl"
           }
          ],
          "scattermapbox": [
           {
            "marker": {
             "colorbar": {
              "outlinewidth": 0,
              "ticks": ""
             }
            },
            "type": "scattermapbox"
           }
          ],
          "scatterpolar": [
           {
            "marker": {
             "colorbar": {
              "outlinewidth": 0,
              "ticks": ""
             }
            },
            "type": "scatterpolar"
           }
          ],
          "scatterpolargl": [
           {
            "marker": {
             "colorbar": {
              "outlinewidth": 0,
              "ticks": ""
             }
            },
            "type": "scatterpolargl"
           }
          ],
          "scatterternary": [
           {
            "marker": {
             "colorbar": {
              "outlinewidth": 0,
              "ticks": ""
             }
            },
            "type": "scatterternary"
           }
          ],
          "surface": [
           {
            "colorbar": {
             "outlinewidth": 0,
             "ticks": ""
            },
            "colorscale": [
             [
              0,
              "#0d0887"
             ],
             [
              0.1111111111111111,
              "#46039f"
             ],
             [
              0.2222222222222222,
              "#7201a8"
             ],
             [
              0.3333333333333333,
              "#9c179e"
             ],
             [
              0.4444444444444444,
              "#bd3786"
             ],
             [
              0.5555555555555556,
              "#d8576b"
             ],
             [
              0.6666666666666666,
              "#ed7953"
             ],
             [
              0.7777777777777778,
              "#fb9f3a"
             ],
             [
              0.8888888888888888,
              "#fdca26"
             ],
             [
              1,
              "#f0f921"
             ]
            ],
            "type": "surface"
           }
          ],
          "table": [
           {
            "cells": {
             "fill": {
              "color": "#EBF0F8"
             },
             "line": {
              "color": "white"
             }
            },
            "header": {
             "fill": {
              "color": "#C8D4E3"
             },
             "line": {
              "color": "white"
             }
            },
            "type": "table"
           }
          ]
         },
         "layout": {
          "annotationdefaults": {
           "arrowcolor": "#2a3f5f",
           "arrowhead": 0,
           "arrowwidth": 1
          },
          "autotypenumbers": "strict",
          "coloraxis": {
           "colorbar": {
            "outlinewidth": 0,
            "ticks": ""
           }
          },
          "colorscale": {
           "diverging": [
            [
             0,
             "#8e0152"
            ],
            [
             0.1,
             "#c51b7d"
            ],
            [
             0.2,
             "#de77ae"
            ],
            [
             0.3,
             "#f1b6da"
            ],
            [
             0.4,
             "#fde0ef"
            ],
            [
             0.5,
             "#f7f7f7"
            ],
            [
             0.6,
             "#e6f5d0"
            ],
            [
             0.7,
             "#b8e186"
            ],
            [
             0.8,
             "#7fbc41"
            ],
            [
             0.9,
             "#4d9221"
            ],
            [
             1,
             "#276419"
            ]
           ],
           "sequential": [
            [
             0,
             "#0d0887"
            ],
            [
             0.1111111111111111,
             "#46039f"
            ],
            [
             0.2222222222222222,
             "#7201a8"
            ],
            [
             0.3333333333333333,
             "#9c179e"
            ],
            [
             0.4444444444444444,
             "#bd3786"
            ],
            [
             0.5555555555555556,
             "#d8576b"
            ],
            [
             0.6666666666666666,
             "#ed7953"
            ],
            [
             0.7777777777777778,
             "#fb9f3a"
            ],
            [
             0.8888888888888888,
             "#fdca26"
            ],
            [
             1,
             "#f0f921"
            ]
           ],
           "sequentialminus": [
            [
             0,
             "#0d0887"
            ],
            [
             0.1111111111111111,
             "#46039f"
            ],
            [
             0.2222222222222222,
             "#7201a8"
            ],
            [
             0.3333333333333333,
             "#9c179e"
            ],
            [
             0.4444444444444444,
             "#bd3786"
            ],
            [
             0.5555555555555556,
             "#d8576b"
            ],
            [
             0.6666666666666666,
             "#ed7953"
            ],
            [
             0.7777777777777778,
             "#fb9f3a"
            ],
            [
             0.8888888888888888,
             "#fdca26"
            ],
            [
             1,
             "#f0f921"
            ]
           ]
          },
          "colorway": [
           "#636efa",
           "#EF553B",
           "#00cc96",
           "#ab63fa",
           "#FFA15A",
           "#19d3f3",
           "#FF6692",
           "#B6E880",
           "#FF97FF",
           "#FECB52"
          ],
          "font": {
           "color": "#2a3f5f"
          },
          "geo": {
           "bgcolor": "white",
           "lakecolor": "white",
           "landcolor": "#E5ECF6",
           "showlakes": true,
           "showland": true,
           "subunitcolor": "white"
          },
          "hoverlabel": {
           "align": "left"
          },
          "hovermode": "closest",
          "mapbox": {
           "style": "light"
          },
          "paper_bgcolor": "white",
          "plot_bgcolor": "#E5ECF6",
          "polar": {
           "angularaxis": {
            "gridcolor": "white",
            "linecolor": "white",
            "ticks": ""
           },
           "bgcolor": "#E5ECF6",
           "radialaxis": {
            "gridcolor": "white",
            "linecolor": "white",
            "ticks": ""
           }
          },
          "scene": {
           "xaxis": {
            "backgroundcolor": "#E5ECF6",
            "gridcolor": "white",
            "gridwidth": 2,
            "linecolor": "white",
            "showbackground": true,
            "ticks": "",
            "zerolinecolor": "white"
           },
           "yaxis": {
            "backgroundcolor": "#E5ECF6",
            "gridcolor": "white",
            "gridwidth": 2,
            "linecolor": "white",
            "showbackground": true,
            "ticks": "",
            "zerolinecolor": "white"
           },
           "zaxis": {
            "backgroundcolor": "#E5ECF6",
            "gridcolor": "white",
            "gridwidth": 2,
            "linecolor": "white",
            "showbackground": true,
            "ticks": "",
            "zerolinecolor": "white"
           }
          },
          "shapedefaults": {
           "line": {
            "color": "#2a3f5f"
           }
          },
          "ternary": {
           "aaxis": {
            "gridcolor": "white",
            "linecolor": "white",
            "ticks": ""
           },
           "baxis": {
            "gridcolor": "white",
            "linecolor": "white",
            "ticks": ""
           },
           "bgcolor": "#E5ECF6",
           "caxis": {
            "gridcolor": "white",
            "linecolor": "white",
            "ticks": ""
           }
          },
          "title": {
           "x": 0.05
          },
          "xaxis": {
           "automargin": true,
           "gridcolor": "white",
           "linecolor": "white",
           "ticks": "",
           "title": {
            "standoff": 15
           },
           "zerolinecolor": "white",
           "zerolinewidth": 2
          },
          "yaxis": {
           "automargin": true,
           "gridcolor": "white",
           "linecolor": "white",
           "ticks": "",
           "title": {
            "standoff": 15
           },
           "zerolinecolor": "white",
           "zerolinewidth": 2
          }
         }
        },
        "title": {
         "text": "Count of Individuals Based on Gender & Annual Salary",
         "x": 0.5
        },
        "xaxis": {
         "anchor": "y",
         "domain": [
          0,
          1
         ],
         "title": {
          "text": "Annual Salary ($K)"
         }
        },
        "yaxis": {
         "anchor": "x",
         "domain": [
          0,
          1
         ],
         "title": {
          "text": "Gender"
         }
        }
       }
      }
     },
     "metadata": {},
     "output_type": "display_data"
    },
    {
     "name": "stdout",
     "output_type": "stream",
     "text": [
      "Findings: Majority of Females and Males make an annual salary between $20,000 and $60,000.\n"
     ]
    },
    {
     "data": {
      "application/vnd.plotly.v1+json": {
       "config": {
        "plotlyServerURL": "https://plot.ly"
       },
       "data": [
        {
         "coloraxis": "coloraxis",
         "hovertemplate": "Spending Score (1-100)=%{x}<br>Profession=%{y}<br>count=%{z}<extra></extra>",
         "name": "",
         "texttemplate": "%{z}",
         "type": "histogram2d",
         "x": [
          12,
          63,
          87,
          63,
          63,
          12,
          12,
          12,
          63,
          12,
          12,
          63,
          63,
          12,
          63,
          12,
          87,
          87,
          12,
          87,
          12,
          12,
          63,
          12,
          12,
          63,
          63,
          87,
          87,
          12,
          63,
          87,
          87,
          63,
          12,
          87,
          87,
          87,
          12,
          12,
          63,
          12,
          63,
          87,
          63,
          12,
          87,
          12,
          87,
          87,
          63,
          12,
          12,
          87,
          63,
          63,
          12,
          63,
          87,
          12,
          12,
          63,
          12,
          12,
          12,
          87,
          87,
          12,
          12,
          12,
          63,
          12,
          12,
          12,
          12,
          87,
          87,
          12,
          87,
          63,
          12,
          12,
          12,
          87,
          63,
          12,
          63,
          63,
          87,
          12,
          63,
          87,
          87,
          87,
          12,
          63,
          12,
          12,
          12,
          12,
          63,
          63,
          12,
          12,
          12,
          12,
          63,
          63,
          12,
          12,
          12,
          87,
          12,
          87,
          12,
          63,
          12,
          12,
          87,
          12,
          12,
          12,
          12,
          87,
          63,
          12,
          63,
          12,
          12,
          63,
          12,
          12,
          87,
          87,
          12,
          87,
          12,
          63,
          12,
          12,
          63,
          12,
          12,
          12,
          87,
          12,
          87,
          12,
          12,
          12,
          12,
          87,
          12,
          63,
          87,
          87,
          12,
          12,
          12,
          12,
          87,
          63,
          12,
          12,
          12,
          12,
          12,
          12,
          12,
          87,
          87,
          12,
          12,
          63,
          12,
          12,
          12,
          12,
          12,
          12,
          87,
          12,
          12,
          63,
          12,
          12,
          12,
          12,
          12,
          12,
          12,
          12,
          12,
          12,
          12,
          12,
          12,
          12,
          12,
          12,
          12,
          12,
          12,
          12,
          12,
          87,
          63,
          12,
          12,
          12,
          12,
          12,
          63,
          63,
          63,
          63,
          12,
          12,
          12,
          12,
          12,
          12,
          12,
          63,
          12,
          12,
          87,
          87,
          12,
          12,
          12,
          12,
          12,
          63,
          12,
          12,
          12,
          12,
          12,
          87,
          12,
          12,
          12,
          12,
          63,
          12,
          12,
          12,
          12,
          12,
          12,
          12,
          63,
          12,
          12,
          12,
          12,
          12,
          12,
          87,
          12,
          12,
          12,
          12,
          12,
          63,
          12,
          12,
          12,
          12,
          12,
          12,
          12,
          12,
          12,
          12,
          12,
          12,
          87,
          12,
          12,
          12,
          12,
          12,
          12,
          87,
          63,
          63,
          87,
          12,
          12,
          63,
          63,
          63,
          12,
          12,
          12,
          12,
          12,
          12,
          12,
          12,
          12,
          87,
          12,
          12,
          12,
          63,
          12,
          63,
          12,
          12,
          63,
          12
         ],
         "xaxis": "x",
         "xbingroup": "x",
         "y": [
          "Engineer",
          "Nursing",
          "Manager",
          "Artist",
          "Artist",
          "Nursing",
          "Nursing",
          "Nursing",
          "Artist",
          "Nursing",
          "Artist",
          "Lawyer",
          "Artist",
          "Artist",
          "Lawyer",
          "Artist",
          "Nursing",
          "Manager",
          "Nursing",
          "Lawyer",
          "Lawyer",
          "Artist",
          "Artist",
          "Artist",
          "Artist",
          "Artist",
          "Artist",
          "Artist",
          "Manager",
          "Nursing",
          "Artist",
          "Artist",
          "Lawyer",
          "Artist",
          "Nursing",
          "Artist",
          "Manager",
          "Lawyer",
          "Artist",
          "Artist",
          "Artist",
          "Nursing",
          "Artist",
          "Artist",
          "Artist",
          "Artist",
          "Lawyer",
          "Nursing",
          "Artist",
          "Artist",
          "Artist",
          "Nursing",
          "Artist",
          "Lawyer",
          "Artist",
          "Artist",
          "Engineer",
          "Lawyer",
          "Lawyer",
          "Artist",
          "Artist",
          "Manager",
          "Nursing",
          "Artist",
          "Nursing",
          "Homemaker",
          "Lawyer",
          "Lawyer",
          "Artist",
          "Artist",
          "Artist",
          "Nursing",
          "Engineer",
          "Manager",
          "Marketing",
          "Nursing",
          "Artist",
          "Lawyer",
          "Artist",
          "Artist",
          "Manager",
          "Artist",
          "Marketing",
          "Manager",
          "Artist",
          "Engineer",
          "Artist",
          "Artist",
          "Lawyer",
          "Engineer",
          "Artist",
          "Lawyer",
          "Lawyer",
          "Manager",
          "Lawyer",
          "Nursing",
          "Nursing",
          "Marketing",
          "Lawyer",
          "Artist",
          "Artist",
          "Artist",
          "Artist",
          "Artist",
          "Artist",
          "Artist",
          "Artist",
          "Artist",
          "Lawyer",
          "Marketing",
          "Lawyer",
          "Nursing",
          "Nursing",
          "Lawyer",
          "Engineer",
          "Artist",
          "Nursing",
          "Homemaker",
          "Artist",
          "Nursing",
          "Artist",
          "Lawyer",
          "Artist",
          "Manager",
          "Artist",
          "Artist",
          "Artist",
          "Artist",
          "Artist",
          "Artist",
          "Nursing",
          "Artist",
          "Artist",
          "Lawyer",
          "Engineer",
          "Marketing",
          "Marketing",
          "Artist",
          "Artist",
          "Artist",
          "Artist",
          "Lawyer",
          "Nursing",
          "Artist",
          "Lawyer",
          "Artist",
          "Manager",
          "Nursing",
          "Manager",
          "Artist",
          "Nursing",
          "Lawyer",
          "Artist",
          "Artist",
          "Manager",
          "Lawyer",
          "Artist",
          "Nursing",
          "Artist",
          "Engineer",
          "Artist",
          "Engineer",
          "Artist",
          "Engineer",
          "Nursing",
          "Manager",
          "Nursing",
          "Artist",
          "Manager",
          "Lawyer",
          "Marketing",
          "Nursing",
          "Artist",
          "Homemaker",
          "Artist",
          "Artist",
          "Artist",
          "Nursing",
          "Artist",
          "Marketing",
          "Manager",
          "Artist",
          "Artist",
          "Artist",
          "Artist",
          "Artist",
          "Artist",
          "Artist",
          "Artist",
          "Artist",
          "Artist",
          "Artist",
          "Artist",
          "Artist",
          "Artist",
          "Homemaker",
          "Artist",
          "Artist",
          "Artist",
          "Lawyer",
          "Artist",
          "Marketing",
          "Marketing",
          "Artist",
          "Engineer",
          "Artist",
          "Lawyer",
          "Artist",
          "Lawyer",
          "Nursing",
          "Artist",
          "Artist",
          "Engineer",
          "Artist",
          "Artist",
          "Engineer",
          "Artist",
          "Nursing",
          "Artist",
          "Artist",
          "Nursing",
          "Artist",
          "Artist",
          "Engineer",
          "Nursing",
          "Nursing",
          "Manager",
          "Artist",
          "Artist",
          "Artist",
          "Artist",
          "Nursing",
          "Nursing",
          "Engineer",
          "Nursing",
          "Nursing",
          "Nursing",
          "Artist",
          "Artist",
          "Manager",
          "Lawyer",
          "Artist",
          "Artist",
          "Artist",
          "Artist",
          "Lawyer",
          "Nursing",
          "Nursing",
          "Engineer",
          "Artist",
          "Artist",
          "Artist",
          "Artist",
          "Artist",
          "Artist",
          "Nursing",
          "Marketing",
          "Artist",
          "Nursing",
          "Manager",
          "Artist",
          "Artist",
          "Artist",
          "Marketing",
          "Artist",
          "Nursing",
          "Artist",
          "Nursing",
          "Marketing",
          "Artist",
          "Artist",
          "Nursing",
          "Artist",
          "Artist",
          "Engineer",
          "Artist",
          "Artist",
          "Marketing",
          "Manager",
          "Engineer",
          "Nursing",
          "Marketing",
          "Nursing",
          "Nursing",
          "Engineer",
          "Nursing",
          "Engineer",
          "Homemaker",
          "Lawyer",
          "Lawyer",
          "Artist",
          "Artist",
          "Engineer",
          "Homemaker",
          "Engineer",
          "Nursing",
          "Engineer",
          "Artist",
          "Marketing",
          "Nursing",
          "Nursing",
          "Marketing",
          "Lawyer",
          "Lawyer",
          "Artist",
          "Homemaker",
          "Artist",
          "Marketing",
          "Homemaker",
          "Homemaker",
          "Homemaker",
          "Artist",
          "Engineer",
          "Engineer"
         ],
         "yaxis": "y",
         "ybingroup": "y"
        }
       ],
       "layout": {
        "coloraxis": {
         "colorbar": {
          "title": {
           "text": "count"
          }
         },
         "colorscale": [
          [
           0,
           "#0d0887"
          ],
          [
           0.1111111111111111,
           "#46039f"
          ],
          [
           0.2222222222222222,
           "#7201a8"
          ],
          [
           0.3333333333333333,
           "#9c179e"
          ],
          [
           0.4444444444444444,
           "#bd3786"
          ],
          [
           0.5555555555555556,
           "#d8576b"
          ],
          [
           0.6666666666666666,
           "#ed7953"
          ],
          [
           0.7777777777777778,
           "#fb9f3a"
          ],
          [
           0.8888888888888888,
           "#fdca26"
          ],
          [
           1,
           "#f0f921"
          ]
         ]
        },
        "legend": {
         "tracegroupgap": 0
        },
        "margin": {
         "t": 60
        },
        "template": {
         "data": {
          "bar": [
           {
            "error_x": {
             "color": "#2a3f5f"
            },
            "error_y": {
             "color": "#2a3f5f"
            },
            "marker": {
             "line": {
              "color": "#E5ECF6",
              "width": 0.5
             },
             "pattern": {
              "fillmode": "overlay",
              "size": 10,
              "solidity": 0.2
             }
            },
            "type": "bar"
           }
          ],
          "barpolar": [
           {
            "marker": {
             "line": {
              "color": "#E5ECF6",
              "width": 0.5
             },
             "pattern": {
              "fillmode": "overlay",
              "size": 10,
              "solidity": 0.2
             }
            },
            "type": "barpolar"
           }
          ],
          "carpet": [
           {
            "aaxis": {
             "endlinecolor": "#2a3f5f",
             "gridcolor": "white",
             "linecolor": "white",
             "minorgridcolor": "white",
             "startlinecolor": "#2a3f5f"
            },
            "baxis": {
             "endlinecolor": "#2a3f5f",
             "gridcolor": "white",
             "linecolor": "white",
             "minorgridcolor": "white",
             "startlinecolor": "#2a3f5f"
            },
            "type": "carpet"
           }
          ],
          "choropleth": [
           {
            "colorbar": {
             "outlinewidth": 0,
             "ticks": ""
            },
            "type": "choropleth"
           }
          ],
          "contour": [
           {
            "colorbar": {
             "outlinewidth": 0,
             "ticks": ""
            },
            "colorscale": [
             [
              0,
              "#0d0887"
             ],
             [
              0.1111111111111111,
              "#46039f"
             ],
             [
              0.2222222222222222,
              "#7201a8"
             ],
             [
              0.3333333333333333,
              "#9c179e"
             ],
             [
              0.4444444444444444,
              "#bd3786"
             ],
             [
              0.5555555555555556,
              "#d8576b"
             ],
             [
              0.6666666666666666,
              "#ed7953"
             ],
             [
              0.7777777777777778,
              "#fb9f3a"
             ],
             [
              0.8888888888888888,
              "#fdca26"
             ],
             [
              1,
              "#f0f921"
             ]
            ],
            "type": "contour"
           }
          ],
          "contourcarpet": [
           {
            "colorbar": {
             "outlinewidth": 0,
             "ticks": ""
            },
            "type": "contourcarpet"
           }
          ],
          "heatmap": [
           {
            "colorbar": {
             "outlinewidth": 0,
             "ticks": ""
            },
            "colorscale": [
             [
              0,
              "#0d0887"
             ],
             [
              0.1111111111111111,
              "#46039f"
             ],
             [
              0.2222222222222222,
              "#7201a8"
             ],
             [
              0.3333333333333333,
              "#9c179e"
             ],
             [
              0.4444444444444444,
              "#bd3786"
             ],
             [
              0.5555555555555556,
              "#d8576b"
             ],
             [
              0.6666666666666666,
              "#ed7953"
             ],
             [
              0.7777777777777778,
              "#fb9f3a"
             ],
             [
              0.8888888888888888,
              "#fdca26"
             ],
             [
              1,
              "#f0f921"
             ]
            ],
            "type": "heatmap"
           }
          ],
          "heatmapgl": [
           {
            "colorbar": {
             "outlinewidth": 0,
             "ticks": ""
            },
            "colorscale": [
             [
              0,
              "#0d0887"
             ],
             [
              0.1111111111111111,
              "#46039f"
             ],
             [
              0.2222222222222222,
              "#7201a8"
             ],
             [
              0.3333333333333333,
              "#9c179e"
             ],
             [
              0.4444444444444444,
              "#bd3786"
             ],
             [
              0.5555555555555556,
              "#d8576b"
             ],
             [
              0.6666666666666666,
              "#ed7953"
             ],
             [
              0.7777777777777778,
              "#fb9f3a"
             ],
             [
              0.8888888888888888,
              "#fdca26"
             ],
             [
              1,
              "#f0f921"
             ]
            ],
            "type": "heatmapgl"
           }
          ],
          "histogram": [
           {
            "marker": {
             "pattern": {
              "fillmode": "overlay",
              "size": 10,
              "solidity": 0.2
             }
            },
            "type": "histogram"
           }
          ],
          "histogram2d": [
           {
            "colorbar": {
             "outlinewidth": 0,
             "ticks": ""
            },
            "colorscale": [
             [
              0,
              "#0d0887"
             ],
             [
              0.1111111111111111,
              "#46039f"
             ],
             [
              0.2222222222222222,
              "#7201a8"
             ],
             [
              0.3333333333333333,
              "#9c179e"
             ],
             [
              0.4444444444444444,
              "#bd3786"
             ],
             [
              0.5555555555555556,
              "#d8576b"
             ],
             [
              0.6666666666666666,
              "#ed7953"
             ],
             [
              0.7777777777777778,
              "#fb9f3a"
             ],
             [
              0.8888888888888888,
              "#fdca26"
             ],
             [
              1,
              "#f0f921"
             ]
            ],
            "type": "histogram2d"
           }
          ],
          "histogram2dcontour": [
           {
            "colorbar": {
             "outlinewidth": 0,
             "ticks": ""
            },
            "colorscale": [
             [
              0,
              "#0d0887"
             ],
             [
              0.1111111111111111,
              "#46039f"
             ],
             [
              0.2222222222222222,
              "#7201a8"
             ],
             [
              0.3333333333333333,
              "#9c179e"
             ],
             [
              0.4444444444444444,
              "#bd3786"
             ],
             [
              0.5555555555555556,
              "#d8576b"
             ],
             [
              0.6666666666666666,
              "#ed7953"
             ],
             [
              0.7777777777777778,
              "#fb9f3a"
             ],
             [
              0.8888888888888888,
              "#fdca26"
             ],
             [
              1,
              "#f0f921"
             ]
            ],
            "type": "histogram2dcontour"
           }
          ],
          "mesh3d": [
           {
            "colorbar": {
             "outlinewidth": 0,
             "ticks": ""
            },
            "type": "mesh3d"
           }
          ],
          "parcoords": [
           {
            "line": {
             "colorbar": {
              "outlinewidth": 0,
              "ticks": ""
             }
            },
            "type": "parcoords"
           }
          ],
          "pie": [
           {
            "automargin": true,
            "type": "pie"
           }
          ],
          "scatter": [
           {
            "fillpattern": {
             "fillmode": "overlay",
             "size": 10,
             "solidity": 0.2
            },
            "type": "scatter"
           }
          ],
          "scatter3d": [
           {
            "line": {
             "colorbar": {
              "outlinewidth": 0,
              "ticks": ""
             }
            },
            "marker": {
             "colorbar": {
              "outlinewidth": 0,
              "ticks": ""
             }
            },
            "type": "scatter3d"
           }
          ],
          "scattercarpet": [
           {
            "marker": {
             "colorbar": {
              "outlinewidth": 0,
              "ticks": ""
             }
            },
            "type": "scattercarpet"
           }
          ],
          "scattergeo": [
           {
            "marker": {
             "colorbar": {
              "outlinewidth": 0,
              "ticks": ""
             }
            },
            "type": "scattergeo"
           }
          ],
          "scattergl": [
           {
            "marker": {
             "colorbar": {
              "outlinewidth": 0,
              "ticks": ""
             }
            },
            "type": "scattergl"
           }
          ],
          "scattermapbox": [
           {
            "marker": {
             "colorbar": {
              "outlinewidth": 0,
              "ticks": ""
             }
            },
            "type": "scattermapbox"
           }
          ],
          "scatterpolar": [
           {
            "marker": {
             "colorbar": {
              "outlinewidth": 0,
              "ticks": ""
             }
            },
            "type": "scatterpolar"
           }
          ],
          "scatterpolargl": [
           {
            "marker": {
             "colorbar": {
              "outlinewidth": 0,
              "ticks": ""
             }
            },
            "type": "scatterpolargl"
           }
          ],
          "scatterternary": [
           {
            "marker": {
             "colorbar": {
              "outlinewidth": 0,
              "ticks": ""
             }
            },
            "type": "scatterternary"
           }
          ],
          "surface": [
           {
            "colorbar": {
             "outlinewidth": 0,
             "ticks": ""
            },
            "colorscale": [
             [
              0,
              "#0d0887"
             ],
             [
              0.1111111111111111,
              "#46039f"
             ],
             [
              0.2222222222222222,
              "#7201a8"
             ],
             [
              0.3333333333333333,
              "#9c179e"
             ],
             [
              0.4444444444444444,
              "#bd3786"
             ],
             [
              0.5555555555555556,
              "#d8576b"
             ],
             [
              0.6666666666666666,
              "#ed7953"
             ],
             [
              0.7777777777777778,
              "#fb9f3a"
             ],
             [
              0.8888888888888888,
              "#fdca26"
             ],
             [
              1,
              "#f0f921"
             ]
            ],
            "type": "surface"
           }
          ],
          "table": [
           {
            "cells": {
             "fill": {
              "color": "#EBF0F8"
             },
             "line": {
              "color": "white"
             }
            },
            "header": {
             "fill": {
              "color": "#C8D4E3"
             },
             "line": {
              "color": "white"
             }
            },
            "type": "table"
           }
          ]
         },
         "layout": {
          "annotationdefaults": {
           "arrowcolor": "#2a3f5f",
           "arrowhead": 0,
           "arrowwidth": 1
          },
          "autotypenumbers": "strict",
          "coloraxis": {
           "colorbar": {
            "outlinewidth": 0,
            "ticks": ""
           }
          },
          "colorscale": {
           "diverging": [
            [
             0,
             "#8e0152"
            ],
            [
             0.1,
             "#c51b7d"
            ],
            [
             0.2,
             "#de77ae"
            ],
            [
             0.3,
             "#f1b6da"
            ],
            [
             0.4,
             "#fde0ef"
            ],
            [
             0.5,
             "#f7f7f7"
            ],
            [
             0.6,
             "#e6f5d0"
            ],
            [
             0.7,
             "#b8e186"
            ],
            [
             0.8,
             "#7fbc41"
            ],
            [
             0.9,
             "#4d9221"
            ],
            [
             1,
             "#276419"
            ]
           ],
           "sequential": [
            [
             0,
             "#0d0887"
            ],
            [
             0.1111111111111111,
             "#46039f"
            ],
            [
             0.2222222222222222,
             "#7201a8"
            ],
            [
             0.3333333333333333,
             "#9c179e"
            ],
            [
             0.4444444444444444,
             "#bd3786"
            ],
            [
             0.5555555555555556,
             "#d8576b"
            ],
            [
             0.6666666666666666,
             "#ed7953"
            ],
            [
             0.7777777777777778,
             "#fb9f3a"
            ],
            [
             0.8888888888888888,
             "#fdca26"
            ],
            [
             1,
             "#f0f921"
            ]
           ],
           "sequentialminus": [
            [
             0,
             "#0d0887"
            ],
            [
             0.1111111111111111,
             "#46039f"
            ],
            [
             0.2222222222222222,
             "#7201a8"
            ],
            [
             0.3333333333333333,
             "#9c179e"
            ],
            [
             0.4444444444444444,
             "#bd3786"
            ],
            [
             0.5555555555555556,
             "#d8576b"
            ],
            [
             0.6666666666666666,
             "#ed7953"
            ],
            [
             0.7777777777777778,
             "#fb9f3a"
            ],
            [
             0.8888888888888888,
             "#fdca26"
            ],
            [
             1,
             "#f0f921"
            ]
           ]
          },
          "colorway": [
           "#636efa",
           "#EF553B",
           "#00cc96",
           "#ab63fa",
           "#FFA15A",
           "#19d3f3",
           "#FF6692",
           "#B6E880",
           "#FF97FF",
           "#FECB52"
          ],
          "font": {
           "color": "#2a3f5f"
          },
          "geo": {
           "bgcolor": "white",
           "lakecolor": "white",
           "landcolor": "#E5ECF6",
           "showlakes": true,
           "showland": true,
           "subunitcolor": "white"
          },
          "hoverlabel": {
           "align": "left"
          },
          "hovermode": "closest",
          "mapbox": {
           "style": "light"
          },
          "paper_bgcolor": "white",
          "plot_bgcolor": "#E5ECF6",
          "polar": {
           "angularaxis": {
            "gridcolor": "white",
            "linecolor": "white",
            "ticks": ""
           },
           "bgcolor": "#E5ECF6",
           "radialaxis": {
            "gridcolor": "white",
            "linecolor": "white",
            "ticks": ""
           }
          },
          "scene": {
           "xaxis": {
            "backgroundcolor": "#E5ECF6",
            "gridcolor": "white",
            "gridwidth": 2,
            "linecolor": "white",
            "showbackground": true,
            "ticks": "",
            "zerolinecolor": "white"
           },
           "yaxis": {
            "backgroundcolor": "#E5ECF6",
            "gridcolor": "white",
            "gridwidth": 2,
            "linecolor": "white",
            "showbackground": true,
            "ticks": "",
            "zerolinecolor": "white"
           },
           "zaxis": {
            "backgroundcolor": "#E5ECF6",
            "gridcolor": "white",
            "gridwidth": 2,
            "linecolor": "white",
            "showbackground": true,
            "ticks": "",
            "zerolinecolor": "white"
           }
          },
          "shapedefaults": {
           "line": {
            "color": "#2a3f5f"
           }
          },
          "ternary": {
           "aaxis": {
            "gridcolor": "white",
            "linecolor": "white",
            "ticks": ""
           },
           "baxis": {
            "gridcolor": "white",
            "linecolor": "white",
            "ticks": ""
           },
           "bgcolor": "#E5ECF6",
           "caxis": {
            "gridcolor": "white",
            "linecolor": "white",
            "ticks": ""
           }
          },
          "title": {
           "x": 0.05
          },
          "xaxis": {
           "automargin": true,
           "gridcolor": "white",
           "linecolor": "white",
           "ticks": "",
           "title": {
            "standoff": 15
           },
           "zerolinecolor": "white",
           "zerolinewidth": 2
          },
          "yaxis": {
           "automargin": true,
           "gridcolor": "white",
           "linecolor": "white",
           "ticks": "",
           "title": {
            "standoff": 15
           },
           "zerolinecolor": "white",
           "zerolinewidth": 2
          }
         }
        },
        "title": {
         "text": "Count of Individuals Based on Spending Score & Profession",
         "x": 0.5
        },
        "xaxis": {
         "anchor": "y",
         "domain": [
          0,
          1
         ],
         "title": {
          "text": "Spending Score (1-100)"
         }
        },
        "yaxis": {
         "anchor": "x",
         "domain": [
          0,
          1
         ],
         "title": {
          "text": "Profession"
         }
        }
       }
      }
     },
     "metadata": {},
     "output_type": "display_data"
    },
    {
     "name": "stdout",
     "output_type": "stream",
     "text": [
      "Findings: Majority of individuals are Artists but they have the lowest spending score in the group.\n"
     ]
    },
    {
     "data": {
      "application/vnd.plotly.v1+json": {
       "config": {
        "plotlyServerURL": "https://plot.ly"
       },
       "data": [
        {
         "coloraxis": "coloraxis",
         "hovertemplate": "Age=%{x}<br>Spending Score (1-100)=%{y}<br>count=%{z}<extra></extra>",
         "name": "",
         "texttemplate": "%{z}",
         "type": "histogram2d",
         "x": [
          36,
          37,
          59,
          47,
          50,
          19,
          22,
          22,
          50,
          27,
          61,
          20,
          45,
          55,
          88,
          42,
          35,
          27,
          29,
          79,
          89,
          31,
          72,
          61,
          62,
          56,
          60,
          68,
          57,
          19,
          51,
          86,
          74,
          47,
          19,
          50,
          50,
          83,
          36,
          35,
          35,
          18,
          73,
          62,
          46,
          39,
          89,
          18,
          57,
          71,
          69,
          42,
          36,
          80,
          67,
          49,
          32,
          65,
          78,
          33,
          48,
          58,
          30,
          35,
          32,
          69,
          71,
          43,
          37,
          46,
          70,
          30,
          32,
          26,
          42,
          29,
          88,
          70,
          50,
          51,
          60,
          46,
          81,
          22,
          37,
          43,
          50,
          35,
          65,
          41,
          55,
          76,
          88,
          69,
          70,
          32,
          21,
          39,
          85,
          66,
          50,
          42,
          53,
          45,
          40,
          35,
          48,
          56,
          49,
          72,
          77,
          42,
          26,
          67,
          55,
          46,
          32,
          49,
          59,
          22,
          28,
          75,
          37,
          50,
          35,
          46,
          50,
          33,
          49,
          52,
          25,
          41,
          68,
          79,
          63,
          50,
          30,
          61,
          42,
          88,
          45,
          86,
          18,
          46,
          72,
          46,
          42,
          19,
          68,
          40,
          23,
          84,
          51,
          41,
          51,
          62,
          38,
          22,
          48,
          31,
          46,
          49,
          42,
          39,
          20,
          72,
          70,
          45,
          33,
          74,
          49,
          18,
          28,
          59,
          56,
          69,
          66,
          18,
          36,
          31,
          67,
          39,
          50,
          37,
          59,
          50,
          48,
          55,
          38,
          43,
          53,
          36,
          36,
          62,
          38,
          62,
          61,
          50,
          39,
          86,
          50,
          52,
          45,
          37,
          36,
          41,
          80,
          46,
          81,
          26,
          26,
          47,
          48,
          39,
          50,
          26,
          36,
          29,
          39,
          41,
          25,
          41,
          37,
          51,
          19,
          19,
          83,
          62,
          43,
          27,
          50,
          32,
          35,
          45,
          28,
          38,
          27,
          41,
          41,
          47,
          88,
          46,
          41,
          48,
          61,
          51,
          43,
          27,
          38,
          43,
          46,
          47,
          53,
          39,
          37,
          19,
          30,
          49,
          55,
          27,
          25,
          38,
          28,
          27,
          43,
          40,
          41,
          32,
          28,
          25,
          42,
          36,
          42,
          42,
          47,
          26,
          28,
          25,
          50,
          30,
          20,
          19,
          19,
          20,
          26,
          31,
          41,
          42,
          78,
          65,
          36,
          55,
          52,
          52,
          37,
          40,
          33,
          26,
          18,
          26,
          18,
          20,
          80,
          71,
          26,
          28,
          29,
          37,
          33,
          48,
          27,
          49,
          33,
          33
         ],
         "xaxis": "x",
         "xbingroup": "x",
         "y": [
          12,
          63,
          87,
          63,
          63,
          12,
          12,
          12,
          63,
          12,
          12,
          63,
          63,
          12,
          63,
          12,
          87,
          87,
          12,
          87,
          12,
          12,
          63,
          12,
          12,
          63,
          63,
          87,
          87,
          12,
          63,
          87,
          87,
          63,
          12,
          87,
          87,
          87,
          12,
          12,
          63,
          12,
          63,
          87,
          63,
          12,
          87,
          12,
          87,
          87,
          63,
          12,
          12,
          87,
          63,
          63,
          12,
          63,
          87,
          12,
          12,
          63,
          12,
          12,
          12,
          87,
          87,
          12,
          12,
          12,
          63,
          12,
          12,
          12,
          12,
          87,
          87,
          12,
          87,
          63,
          12,
          12,
          12,
          87,
          63,
          12,
          63,
          63,
          87,
          12,
          63,
          87,
          87,
          87,
          12,
          63,
          12,
          12,
          12,
          12,
          63,
          63,
          12,
          12,
          12,
          12,
          63,
          63,
          12,
          12,
          12,
          87,
          12,
          87,
          12,
          63,
          12,
          12,
          87,
          12,
          12,
          12,
          12,
          87,
          63,
          12,
          63,
          12,
          12,
          63,
          12,
          12,
          87,
          87,
          12,
          87,
          12,
          63,
          12,
          12,
          63,
          12,
          12,
          12,
          87,
          12,
          87,
          12,
          12,
          12,
          12,
          87,
          12,
          63,
          87,
          87,
          12,
          12,
          12,
          12,
          87,
          63,
          12,
          12,
          12,
          12,
          12,
          12,
          12,
          87,
          87,
          12,
          12,
          63,
          12,
          12,
          12,
          12,
          12,
          12,
          87,
          12,
          12,
          63,
          12,
          12,
          12,
          12,
          12,
          12,
          12,
          12,
          12,
          12,
          12,
          12,
          12,
          12,
          12,
          12,
          12,
          12,
          12,
          12,
          12,
          87,
          63,
          12,
          12,
          12,
          12,
          12,
          63,
          63,
          63,
          63,
          12,
          12,
          12,
          12,
          12,
          12,
          12,
          63,
          12,
          12,
          87,
          87,
          12,
          12,
          12,
          12,
          12,
          63,
          12,
          12,
          12,
          12,
          12,
          87,
          12,
          12,
          12,
          12,
          63,
          12,
          12,
          12,
          12,
          12,
          12,
          12,
          63,
          12,
          12,
          12,
          12,
          12,
          12,
          87,
          12,
          12,
          12,
          12,
          12,
          63,
          12,
          12,
          12,
          12,
          12,
          12,
          12,
          12,
          12,
          12,
          12,
          12,
          87,
          12,
          12,
          12,
          12,
          12,
          12,
          87,
          63,
          63,
          87,
          12,
          12,
          63,
          63,
          63,
          12,
          12,
          12,
          12,
          12,
          12,
          12,
          12,
          12,
          87,
          12,
          12,
          12,
          63,
          12,
          63,
          12,
          12,
          63,
          12
         ],
         "yaxis": "y",
         "ybingroup": "y"
        }
       ],
       "layout": {
        "coloraxis": {
         "colorbar": {
          "title": {
           "text": "count"
          }
         },
         "colorscale": [
          [
           0,
           "#0d0887"
          ],
          [
           0.1111111111111111,
           "#46039f"
          ],
          [
           0.2222222222222222,
           "#7201a8"
          ],
          [
           0.3333333333333333,
           "#9c179e"
          ],
          [
           0.4444444444444444,
           "#bd3786"
          ],
          [
           0.5555555555555556,
           "#d8576b"
          ],
          [
           0.6666666666666666,
           "#ed7953"
          ],
          [
           0.7777777777777778,
           "#fb9f3a"
          ],
          [
           0.8888888888888888,
           "#fdca26"
          ],
          [
           1,
           "#f0f921"
          ]
         ]
        },
        "legend": {
         "tracegroupgap": 0
        },
        "margin": {
         "t": 60
        },
        "template": {
         "data": {
          "bar": [
           {
            "error_x": {
             "color": "#2a3f5f"
            },
            "error_y": {
             "color": "#2a3f5f"
            },
            "marker": {
             "line": {
              "color": "#E5ECF6",
              "width": 0.5
             },
             "pattern": {
              "fillmode": "overlay",
              "size": 10,
              "solidity": 0.2
             }
            },
            "type": "bar"
           }
          ],
          "barpolar": [
           {
            "marker": {
             "line": {
              "color": "#E5ECF6",
              "width": 0.5
             },
             "pattern": {
              "fillmode": "overlay",
              "size": 10,
              "solidity": 0.2
             }
            },
            "type": "barpolar"
           }
          ],
          "carpet": [
           {
            "aaxis": {
             "endlinecolor": "#2a3f5f",
             "gridcolor": "white",
             "linecolor": "white",
             "minorgridcolor": "white",
             "startlinecolor": "#2a3f5f"
            },
            "baxis": {
             "endlinecolor": "#2a3f5f",
             "gridcolor": "white",
             "linecolor": "white",
             "minorgridcolor": "white",
             "startlinecolor": "#2a3f5f"
            },
            "type": "carpet"
           }
          ],
          "choropleth": [
           {
            "colorbar": {
             "outlinewidth": 0,
             "ticks": ""
            },
            "type": "choropleth"
           }
          ],
          "contour": [
           {
            "colorbar": {
             "outlinewidth": 0,
             "ticks": ""
            },
            "colorscale": [
             [
              0,
              "#0d0887"
             ],
             [
              0.1111111111111111,
              "#46039f"
             ],
             [
              0.2222222222222222,
              "#7201a8"
             ],
             [
              0.3333333333333333,
              "#9c179e"
             ],
             [
              0.4444444444444444,
              "#bd3786"
             ],
             [
              0.5555555555555556,
              "#d8576b"
             ],
             [
              0.6666666666666666,
              "#ed7953"
             ],
             [
              0.7777777777777778,
              "#fb9f3a"
             ],
             [
              0.8888888888888888,
              "#fdca26"
             ],
             [
              1,
              "#f0f921"
             ]
            ],
            "type": "contour"
           }
          ],
          "contourcarpet": [
           {
            "colorbar": {
             "outlinewidth": 0,
             "ticks": ""
            },
            "type": "contourcarpet"
           }
          ],
          "heatmap": [
           {
            "colorbar": {
             "outlinewidth": 0,
             "ticks": ""
            },
            "colorscale": [
             [
              0,
              "#0d0887"
             ],
             [
              0.1111111111111111,
              "#46039f"
             ],
             [
              0.2222222222222222,
              "#7201a8"
             ],
             [
              0.3333333333333333,
              "#9c179e"
             ],
             [
              0.4444444444444444,
              "#bd3786"
             ],
             [
              0.5555555555555556,
              "#d8576b"
             ],
             [
              0.6666666666666666,
              "#ed7953"
             ],
             [
              0.7777777777777778,
              "#fb9f3a"
             ],
             [
              0.8888888888888888,
              "#fdca26"
             ],
             [
              1,
              "#f0f921"
             ]
            ],
            "type": "heatmap"
           }
          ],
          "heatmapgl": [
           {
            "colorbar": {
             "outlinewidth": 0,
             "ticks": ""
            },
            "colorscale": [
             [
              0,
              "#0d0887"
             ],
             [
              0.1111111111111111,
              "#46039f"
             ],
             [
              0.2222222222222222,
              "#7201a8"
             ],
             [
              0.3333333333333333,
              "#9c179e"
             ],
             [
              0.4444444444444444,
              "#bd3786"
             ],
             [
              0.5555555555555556,
              "#d8576b"
             ],
             [
              0.6666666666666666,
              "#ed7953"
             ],
             [
              0.7777777777777778,
              "#fb9f3a"
             ],
             [
              0.8888888888888888,
              "#fdca26"
             ],
             [
              1,
              "#f0f921"
             ]
            ],
            "type": "heatmapgl"
           }
          ],
          "histogram": [
           {
            "marker": {
             "pattern": {
              "fillmode": "overlay",
              "size": 10,
              "solidity": 0.2
             }
            },
            "type": "histogram"
           }
          ],
          "histogram2d": [
           {
            "colorbar": {
             "outlinewidth": 0,
             "ticks": ""
            },
            "colorscale": [
             [
              0,
              "#0d0887"
             ],
             [
              0.1111111111111111,
              "#46039f"
             ],
             [
              0.2222222222222222,
              "#7201a8"
             ],
             [
              0.3333333333333333,
              "#9c179e"
             ],
             [
              0.4444444444444444,
              "#bd3786"
             ],
             [
              0.5555555555555556,
              "#d8576b"
             ],
             [
              0.6666666666666666,
              "#ed7953"
             ],
             [
              0.7777777777777778,
              "#fb9f3a"
             ],
             [
              0.8888888888888888,
              "#fdca26"
             ],
             [
              1,
              "#f0f921"
             ]
            ],
            "type": "histogram2d"
           }
          ],
          "histogram2dcontour": [
           {
            "colorbar": {
             "outlinewidth": 0,
             "ticks": ""
            },
            "colorscale": [
             [
              0,
              "#0d0887"
             ],
             [
              0.1111111111111111,
              "#46039f"
             ],
             [
              0.2222222222222222,
              "#7201a8"
             ],
             [
              0.3333333333333333,
              "#9c179e"
             ],
             [
              0.4444444444444444,
              "#bd3786"
             ],
             [
              0.5555555555555556,
              "#d8576b"
             ],
             [
              0.6666666666666666,
              "#ed7953"
             ],
             [
              0.7777777777777778,
              "#fb9f3a"
             ],
             [
              0.8888888888888888,
              "#fdca26"
             ],
             [
              1,
              "#f0f921"
             ]
            ],
            "type": "histogram2dcontour"
           }
          ],
          "mesh3d": [
           {
            "colorbar": {
             "outlinewidth": 0,
             "ticks": ""
            },
            "type": "mesh3d"
           }
          ],
          "parcoords": [
           {
            "line": {
             "colorbar": {
              "outlinewidth": 0,
              "ticks": ""
             }
            },
            "type": "parcoords"
           }
          ],
          "pie": [
           {
            "automargin": true,
            "type": "pie"
           }
          ],
          "scatter": [
           {
            "fillpattern": {
             "fillmode": "overlay",
             "size": 10,
             "solidity": 0.2
            },
            "type": "scatter"
           }
          ],
          "scatter3d": [
           {
            "line": {
             "colorbar": {
              "outlinewidth": 0,
              "ticks": ""
             }
            },
            "marker": {
             "colorbar": {
              "outlinewidth": 0,
              "ticks": ""
             }
            },
            "type": "scatter3d"
           }
          ],
          "scattercarpet": [
           {
            "marker": {
             "colorbar": {
              "outlinewidth": 0,
              "ticks": ""
             }
            },
            "type": "scattercarpet"
           }
          ],
          "scattergeo": [
           {
            "marker": {
             "colorbar": {
              "outlinewidth": 0,
              "ticks": ""
             }
            },
            "type": "scattergeo"
           }
          ],
          "scattergl": [
           {
            "marker": {
             "colorbar": {
              "outlinewidth": 0,
              "ticks": ""
             }
            },
            "type": "scattergl"
           }
          ],
          "scattermapbox": [
           {
            "marker": {
             "colorbar": {
              "outlinewidth": 0,
              "ticks": ""
             }
            },
            "type": "scattermapbox"
           }
          ],
          "scatterpolar": [
           {
            "marker": {
             "colorbar": {
              "outlinewidth": 0,
              "ticks": ""
             }
            },
            "type": "scatterpolar"
           }
          ],
          "scatterpolargl": [
           {
            "marker": {
             "colorbar": {
              "outlinewidth": 0,
              "ticks": ""
             }
            },
            "type": "scatterpolargl"
           }
          ],
          "scatterternary": [
           {
            "marker": {
             "colorbar": {
              "outlinewidth": 0,
              "ticks": ""
             }
            },
            "type": "scatterternary"
           }
          ],
          "surface": [
           {
            "colorbar": {
             "outlinewidth": 0,
             "ticks": ""
            },
            "colorscale": [
             [
              0,
              "#0d0887"
             ],
             [
              0.1111111111111111,
              "#46039f"
             ],
             [
              0.2222222222222222,
              "#7201a8"
             ],
             [
              0.3333333333333333,
              "#9c179e"
             ],
             [
              0.4444444444444444,
              "#bd3786"
             ],
             [
              0.5555555555555556,
              "#d8576b"
             ],
             [
              0.6666666666666666,
              "#ed7953"
             ],
             [
              0.7777777777777778,
              "#fb9f3a"
             ],
             [
              0.8888888888888888,
              "#fdca26"
             ],
             [
              1,
              "#f0f921"
             ]
            ],
            "type": "surface"
           }
          ],
          "table": [
           {
            "cells": {
             "fill": {
              "color": "#EBF0F8"
             },
             "line": {
              "color": "white"
             }
            },
            "header": {
             "fill": {
              "color": "#C8D4E3"
             },
             "line": {
              "color": "white"
             }
            },
            "type": "table"
           }
          ]
         },
         "layout": {
          "annotationdefaults": {
           "arrowcolor": "#2a3f5f",
           "arrowhead": 0,
           "arrowwidth": 1
          },
          "autotypenumbers": "strict",
          "coloraxis": {
           "colorbar": {
            "outlinewidth": 0,
            "ticks": ""
           }
          },
          "colorscale": {
           "diverging": [
            [
             0,
             "#8e0152"
            ],
            [
             0.1,
             "#c51b7d"
            ],
            [
             0.2,
             "#de77ae"
            ],
            [
             0.3,
             "#f1b6da"
            ],
            [
             0.4,
             "#fde0ef"
            ],
            [
             0.5,
             "#f7f7f7"
            ],
            [
             0.6,
             "#e6f5d0"
            ],
            [
             0.7,
             "#b8e186"
            ],
            [
             0.8,
             "#7fbc41"
            ],
            [
             0.9,
             "#4d9221"
            ],
            [
             1,
             "#276419"
            ]
           ],
           "sequential": [
            [
             0,
             "#0d0887"
            ],
            [
             0.1111111111111111,
             "#46039f"
            ],
            [
             0.2222222222222222,
             "#7201a8"
            ],
            [
             0.3333333333333333,
             "#9c179e"
            ],
            [
             0.4444444444444444,
             "#bd3786"
            ],
            [
             0.5555555555555556,
             "#d8576b"
            ],
            [
             0.6666666666666666,
             "#ed7953"
            ],
            [
             0.7777777777777778,
             "#fb9f3a"
            ],
            [
             0.8888888888888888,
             "#fdca26"
            ],
            [
             1,
             "#f0f921"
            ]
           ],
           "sequentialminus": [
            [
             0,
             "#0d0887"
            ],
            [
             0.1111111111111111,
             "#46039f"
            ],
            [
             0.2222222222222222,
             "#7201a8"
            ],
            [
             0.3333333333333333,
             "#9c179e"
            ],
            [
             0.4444444444444444,
             "#bd3786"
            ],
            [
             0.5555555555555556,
             "#d8576b"
            ],
            [
             0.6666666666666666,
             "#ed7953"
            ],
            [
             0.7777777777777778,
             "#fb9f3a"
            ],
            [
             0.8888888888888888,
             "#fdca26"
            ],
            [
             1,
             "#f0f921"
            ]
           ]
          },
          "colorway": [
           "#636efa",
           "#EF553B",
           "#00cc96",
           "#ab63fa",
           "#FFA15A",
           "#19d3f3",
           "#FF6692",
           "#B6E880",
           "#FF97FF",
           "#FECB52"
          ],
          "font": {
           "color": "#2a3f5f"
          },
          "geo": {
           "bgcolor": "white",
           "lakecolor": "white",
           "landcolor": "#E5ECF6",
           "showlakes": true,
           "showland": true,
           "subunitcolor": "white"
          },
          "hoverlabel": {
           "align": "left"
          },
          "hovermode": "closest",
          "mapbox": {
           "style": "light"
          },
          "paper_bgcolor": "white",
          "plot_bgcolor": "#E5ECF6",
          "polar": {
           "angularaxis": {
            "gridcolor": "white",
            "linecolor": "white",
            "ticks": ""
           },
           "bgcolor": "#E5ECF6",
           "radialaxis": {
            "gridcolor": "white",
            "linecolor": "white",
            "ticks": ""
           }
          },
          "scene": {
           "xaxis": {
            "backgroundcolor": "#E5ECF6",
            "gridcolor": "white",
            "gridwidth": 2,
            "linecolor": "white",
            "showbackground": true,
            "ticks": "",
            "zerolinecolor": "white"
           },
           "yaxis": {
            "backgroundcolor": "#E5ECF6",
            "gridcolor": "white",
            "gridwidth": 2,
            "linecolor": "white",
            "showbackground": true,
            "ticks": "",
            "zerolinecolor": "white"
           },
           "zaxis": {
            "backgroundcolor": "#E5ECF6",
            "gridcolor": "white",
            "gridwidth": 2,
            "linecolor": "white",
            "showbackground": true,
            "ticks": "",
            "zerolinecolor": "white"
           }
          },
          "shapedefaults": {
           "line": {
            "color": "#2a3f5f"
           }
          },
          "ternary": {
           "aaxis": {
            "gridcolor": "white",
            "linecolor": "white",
            "ticks": ""
           },
           "baxis": {
            "gridcolor": "white",
            "linecolor": "white",
            "ticks": ""
           },
           "bgcolor": "#E5ECF6",
           "caxis": {
            "gridcolor": "white",
            "linecolor": "white",
            "ticks": ""
           }
          },
          "title": {
           "x": 0.05
          },
          "xaxis": {
           "automargin": true,
           "gridcolor": "white",
           "linecolor": "white",
           "ticks": "",
           "title": {
            "standoff": 15
           },
           "zerolinecolor": "white",
           "zerolinewidth": 2
          },
          "yaxis": {
           "automargin": true,
           "gridcolor": "white",
           "linecolor": "white",
           "ticks": "",
           "title": {
            "standoff": 15
           },
           "zerolinecolor": "white",
           "zerolinewidth": 2
          }
         }
        },
        "title": {
         "text": "Count of Individuals Based on Spending Score & Age",
         "x": 0.5
        },
        "xaxis": {
         "anchor": "y",
         "domain": [
          0,
          1
         ],
         "title": {
          "text": "Age"
         }
        },
        "yaxis": {
         "anchor": "x",
         "domain": [
          0,
          1
         ],
         "title": {
          "text": "Spending Score (1-100)"
         }
        }
       }
      }
     },
     "metadata": {},
     "output_type": "display_data"
    },
    {
     "name": "stdout",
     "output_type": "stream",
     "text": [
      "Findings: Majority of Artists are betwen 20 and 60 years old.\n"
     ]
    }
   ],
   "source": [
    "import plotly.express as px\n",
    "\n",
    "fig = px.density_heatmap(customer_seg_df_updated_sample_size, x=\"Annual Salary ($K)\", y=\"Gender\", text_auto=True)\n",
    "\n",
    "fig.update_layout(title_text='Count of Individuals Based on Gender & Annual Salary', title_x=0.5)\n",
    "\n",
    "fig.show()\n",
    "\n",
    "print('Findings: Majority of Females and Males make an annual salary between $20,000 and $60,000.')\n",
    "\n",
    "fig = px.density_heatmap(customer_seg_df_updated_sample_size, x=\"Spending Score (1-100)\", y=\"Profession\", text_auto=True)\n",
    "\n",
    "fig.update_layout(title_text='Count of Individuals Based on Spending Score & Profession', title_x=0.5)\n",
    "\n",
    "fig.show()\n",
    "\n",
    "print('Findings: Majority of individuals are Artists but they have the lowest spending score in the group.')\n",
    "\n",
    "fig = px.density_heatmap(customer_seg_df_updated_sample_size, x=\"Age\", y=\"Spending Score (1-100)\", text_auto=True)\n",
    "\n",
    "fig.update_layout(title_text='Count of Individuals Based on Spending Score & Age', title_x=0.5)\n",
    "\n",
    "fig.show()\n",
    "\n",
    "print('Findings: Majority of Artists are betwen 20 and 60 years old.')"
   ]
  },
  {
   "cell_type": "markdown",
   "metadata": {},
   "source": [
    "##### We now know the demographic that the automobile companies should target for ads and products. However, it seems like the spending score for Artists between ages 20 to 60 years old is relatively low (i.e. not past 30). This may be because Artists are more hesitant to purchase vehicles because they aren't making enough money at their stage compared to Lawyers or Engineers. \n",
    "\n",
    "##### So, I would advice the automobile companies to strategize a way to tailer their products and ads differently to appeal closer to this audience. For example, sell cars that are more affordable and create ads with celebrities that they can relate too.\n"
   ]
  },
  {
   "cell_type": "markdown",
   "metadata": {},
   "source": [
    "##### Now, let's finish this analysis by building a clustering model to distinguish the different customers into groups. This is using a K Means machine learning model which is very popular because this model has an easier time identifying outliers and finds specific data that wasn't easily labeled."
   ]
  },
  {
   "cell_type": "markdown",
   "metadata": {},
   "source": [
    "##### First, we startdize the data to remove the mean and scale each variable to a unit variance (i.e. divide each value by the standard deviation). This method will help normalize the data into a particular rang and speed up the model."
   ]
  },
  {
   "cell_type": "code",
   "execution_count": 64,
   "metadata": {},
   "outputs": [
    {
     "name": "stdout",
     "output_type": "stream",
     "text": [
      "[[-0.55574773 -0.3229599  -0.71915378]\n",
      " [-0.49936492  1.33948942  0.94773413]\n",
      " [ 0.74105682  2.82221448  1.73215197]\n",
      " [ 0.06446314 -0.90706371  0.94773413]\n",
      " [ 0.23361156 -0.90706371  0.94773413]\n",
      " [-1.51425544  0.12635073 -0.71915378]\n",
      " [-1.34510702  0.12635073 -0.71915378]\n",
      " [-1.34510702  0.12635073 -0.71915378]\n",
      " [ 0.23361156 -0.90706371  0.94773413]\n",
      " [-1.06319298  1.33948942 -0.71915378]\n",
      " [ 0.85382243 -0.90706371 -0.71915378]\n",
      " [-1.45787263 -0.14323565  0.94773413]\n",
      " [-0.04830247 -0.90706371  0.94773413]\n",
      " [ 0.5155256   0.71045454 -0.71915378]\n",
      " [ 2.37615821 -0.14323565  0.94773413]\n",
      " [-0.21745089 -0.90706371 -0.71915378]\n",
      " [-0.61213053  1.33948942  1.73215197]\n",
      " [-1.06319298  1.20469623  1.73215197]\n",
      " [-0.95042737  0.12635073 -0.71915378]\n",
      " [ 1.86871295 -0.14323565  1.73215197]\n",
      " [ 2.43254102 -0.14323565 -0.71915378]\n",
      " [-0.83766176 -0.90706371 -0.71915378]\n",
      " [ 1.47403331 -0.90706371  0.94773413]\n",
      " [ 0.85382243  0.71045454 -0.71915378]\n",
      " [ 0.91020524 -0.90706371 -0.71915378]\n",
      " [ 0.5719084  -0.90706371  0.94773413]\n",
      " [ 0.79743963 -0.90706371  0.94773413]\n",
      " [ 1.24850208 -0.90706371  1.73215197]\n",
      " [ 0.62829121  2.82221448  1.73215197]\n",
      " [-1.51425544  1.06990304 -0.71915378]\n",
      " [ 0.28999437  0.0364886   0.94773413]\n",
      " [ 2.2633926  -0.90706371  1.73215197]\n",
      " [ 1.58679892 -0.14323565  1.73215197]\n",
      " [ 0.06446314 -0.90706371  0.94773413]\n",
      " [-1.51425544  1.33948942 -0.71915378]\n",
      " [ 0.23361156 -0.90706371  1.73215197]\n",
      " [ 0.23361156  1.20469623  1.73215197]\n",
      " [ 2.09424418 -0.14323565  1.73215197]\n",
      " [-0.55574773 -0.90706371 -0.71915378]\n",
      " [-0.61213053 -0.90706371 -0.71915378]\n",
      " [-0.61213053 -0.90706371  0.94773413]\n",
      " [-1.57063824  1.06990304 -0.71915378]\n",
      " [ 1.53041611 -0.90706371  0.94773413]\n",
      " [ 0.91020524 -0.90706371  1.73215197]\n",
      " [ 0.00808034 -0.90706371  0.94773413]\n",
      " [-0.38659931 -0.90706371 -0.71915378]\n",
      " [ 2.43254102 -0.14323565  1.73215197]\n",
      " [-1.57063824  0.12635073 -0.71915378]\n",
      " [ 0.62829121 -0.90706371  1.73215197]\n",
      " [ 1.4176505  -0.90706371  1.73215197]\n",
      " [ 1.30488489 -0.90706371  0.94773413]\n",
      " [-0.21745089  0.12635073 -0.71915378]\n",
      " [-0.55574773 -0.90706371 -0.71915378]\n",
      " [ 1.92509576 -0.14323565  1.73215197]\n",
      " [ 1.19211927 -0.90706371  0.94773413]\n",
      " [ 0.17722876 -0.90706371  0.94773413]\n",
      " [-0.78127895  2.37290385 -0.71915378]\n",
      " [ 1.07935366 -0.14323565  0.94773413]\n",
      " [ 1.81233014 -0.14323565  1.73215197]\n",
      " [-0.72489615 -0.90706371 -0.71915378]\n",
      " [ 0.12084595 -0.90706371 -0.71915378]\n",
      " [ 0.68467402 -0.41282202  0.94773413]\n",
      " [-0.89404456  1.33948942 -0.71915378]\n",
      " [-0.61213053 -0.90706371 -0.71915378]\n",
      " [-0.78127895  1.33948942 -0.71915378]\n",
      " [ 1.30488489 -1.31144327  1.73215197]\n",
      " [ 1.4176505  -0.14323565  1.73215197]\n",
      " [-0.16106808 -0.14323565 -0.71915378]\n",
      " [-0.49936492 -0.90706371 -0.71915378]\n",
      " [ 0.00808034 -0.90706371 -0.71915378]\n",
      " [ 1.36126769 -0.90706371  0.94773413]\n",
      " [-0.89404456  0.12635073 -0.71915378]\n",
      " [-0.78127895 -0.3229599  -0.71915378]\n",
      " [-1.11957579 -0.41282202 -0.71915378]\n",
      " [-0.21745089 -0.72733946 -0.71915378]\n",
      " [-0.95042737  1.33948942  1.73215197]\n",
      " [ 2.37615821 -0.90706371  1.73215197]\n",
      " [ 1.36126769 -0.14323565 -0.71915378]\n",
      " [ 0.23361156 -0.90706371  1.73215197]\n",
      " [ 0.28999437  0.71045454  0.94773413]\n",
      " [ 0.79743963 -0.41282202 -0.71915378]\n",
      " [ 0.00808034 -0.90706371 -0.71915378]\n",
      " [ 1.98147856 -0.72733946 -0.71915378]\n",
      " [-1.34510702 -0.41282202  1.73215197]\n",
      " [-0.49936492 -0.90706371  0.94773413]\n",
      " [-0.16106808 -0.3229599  -0.71915378]\n",
      " [ 0.23361156 -0.90706371  0.94773413]\n",
      " [-0.61213053 -0.90706371  0.94773413]\n",
      " [ 1.07935366 -0.14323565  1.73215197]\n",
      " [-0.27383369 -0.3229599  -0.71915378]\n",
      " [ 0.5155256   0.0364886   0.94773413]\n",
      " [ 1.69956453 -0.14323565  1.73215197]\n",
      " [ 2.37615821 -0.14323565  1.73215197]\n",
      " [ 1.30488489 -0.41282202  1.73215197]\n",
      " [ 1.36126769 -0.14323565 -0.71915378]\n",
      " [-0.78127895  0.12635073  0.94773413]\n",
      " [-1.40148982  1.33948942 -0.71915378]\n",
      " [-0.38659931 -0.72733946 -0.71915378]\n",
      " [ 2.20700979 -0.14323565 -0.71915378]\n",
      " [ 1.13573647 -0.90706371 -0.71915378]\n",
      " [ 0.23361156 -0.90706371  0.94773413]\n",
      " [-0.21745089 -0.90706371  0.94773413]\n",
      " [ 0.40275998  0.71045454 -0.71915378]\n",
      " [-0.04830247 -0.90706371 -0.71915378]\n",
      " [-0.3302165   0.0364886  -0.71915378]\n",
      " [-0.61213053 -0.90706371 -0.71915378]\n",
      " [ 0.12084595 -0.90706371  0.94773413]\n",
      " [ 0.5719084  -0.90706371  0.94773413]\n",
      " [ 0.17722876 -0.14323565 -0.71915378]\n",
      " [ 1.47403331 -0.72733946 -0.71915378]\n",
      " [ 1.75594734 -0.14323565 -0.71915378]\n",
      " [-0.21745089  1.33948942  1.73215197]\n",
      " [-1.11957579  0.12635073 -0.71915378]\n",
      " [ 1.19211927 -0.14323565  1.73215197]\n",
      " [ 0.5155256  -0.3229599  -0.71915378]\n",
      " [ 0.00808034  0.71045454  0.94773413]\n",
      " [-0.78127895  1.33948942 -0.71915378]\n",
      " [ 0.17722876 -1.31144327 -0.71915378]\n",
      " [ 0.74105682 -0.90706371  1.73215197]\n",
      " [-1.34510702  1.33948942 -0.71915378]\n",
      " [-1.00681018  0.71045454 -0.71915378]\n",
      " [ 1.64318173 -0.14323565 -0.71915378]\n",
      " [-0.49936492  0.71045454 -0.71915378]\n",
      " [ 0.23361156 -0.41282202  1.73215197]\n",
      " [-0.61213053  0.0364886   0.94773413]\n",
      " [ 0.00808034 -0.90706371 -0.71915378]\n",
      " [ 0.23361156 -0.90706371  0.94773413]\n",
      " [-0.72489615  0.71045454 -0.71915378]\n",
      " [ 0.17722876 -0.90706371 -0.71915378]\n",
      " [ 0.34637718 -0.90706371  0.94773413]\n",
      " [-1.1759586   0.12635073 -0.71915378]\n",
      " [-0.27383369  0.71045454 -0.71915378]\n",
      " [ 1.24850208 -0.90706371  1.73215197]\n",
      " [ 1.86871295 -0.14323565  1.73215197]\n",
      " [ 0.96658805  2.37290385 -0.71915378]\n",
      " [ 0.23361156 -0.72733946  1.73215197]\n",
      " [-0.89404456  2.01345535 -0.71915378]\n",
      " [ 0.85382243 -0.90706371  0.94773413]\n",
      " [-0.21745089  0.0364886  -0.71915378]\n",
      " [ 2.37615821  0.0364886  -0.71915378]\n",
      " [-0.04830247  0.0364886   0.94773413]\n",
      " [ 2.2633926  -0.14323565 -0.71915378]\n",
      " [-1.57063824  0.12635073 -0.71915378]\n",
      " [ 0.00808034 -0.90706371 -0.71915378]\n",
      " [ 1.47403331  3.94549104  1.73215197]\n",
      " [ 0.00808034  0.0364886  -0.71915378]\n",
      " [-0.21745089  2.82221448  1.73215197]\n",
      " [-1.51425544  1.06990304 -0.71915378]\n",
      " [ 1.24850208 -0.41282202 -0.71915378]\n",
      " [-0.3302165  -0.90706371 -0.71915378]\n",
      " [-1.28872421  0.12635073 -0.71915378]\n",
      " [ 2.15062698 -0.14323565  1.73215197]\n",
      " [ 0.28999437 -0.90706371 -0.71915378]\n",
      " [-0.27383369 -0.90706371  0.94773413]\n",
      " [ 0.28999437 -0.41282202  1.73215197]\n",
      " [ 0.91020524 -0.14323565  1.73215197]\n",
      " [-0.44298211  0.71045454 -0.71915378]\n",
      " [-1.34510702  1.06990304 -0.71915378]\n",
      " [ 0.12084595 -0.90706371 -0.71915378]\n",
      " [-0.83766176  0.98004091 -0.71915378]\n",
      " [ 0.00808034  0.0364886   1.73215197]\n",
      " [ 0.17722876 -0.3229599   0.94773413]\n",
      " [-0.21745089  0.71045454 -0.71915378]\n",
      " [-0.38659931 -0.3229599  -0.71915378]\n",
      " [-1.45787263  0.12635073 -0.71915378]\n",
      " [ 1.47403331 -0.41282202 -0.71915378]\n",
      " [ 1.36126769  0.12635073 -0.71915378]\n",
      " [-0.04830247 -0.90706371 -0.71915378]\n",
      " [-0.72489615  2.82221448 -0.71915378]\n",
      " [ 1.58679892 -0.14323565  1.73215197]\n",
      " [ 0.17722876 -0.72733946  1.73215197]\n",
      " [-1.57063824  0.12635073 -0.71915378]\n",
      " [-1.00681018 -0.90706371 -0.71915378]\n",
      " [ 0.74105682 -1.31144327  0.94773413]\n",
      " [ 0.5719084  -0.90706371 -0.71915378]\n",
      " [ 1.30488489 -0.90706371 -0.71915378]\n",
      " [ 1.13573647 -0.90706371 -0.71915378]\n",
      " [-1.57063824  1.06990304 -0.71915378]\n",
      " [-0.55574773  0.0364886  -0.71915378]\n",
      " [-0.83766176 -0.72733946 -0.71915378]\n",
      " [ 1.19211927 -0.41282202  1.73215197]\n",
      " [-0.38659931  0.71045454 -0.71915378]\n",
      " [ 0.23361156 -0.90706371 -0.71915378]\n",
      " [-0.49936492 -0.90706371  0.94773413]\n",
      " [ 0.74105682 -0.90706371 -0.71915378]\n",
      " [ 0.23361156  0.71045454 -0.71915378]\n",
      " [ 0.12084595  0.71045454 -0.71915378]\n",
      " [ 0.5155256   0.71045454 -0.71915378]\n",
      " [-0.44298211  0.71045454 -0.71915378]\n",
      " [-0.16106808 -0.90706371 -0.71915378]\n",
      " [ 0.40275998 -0.90706371 -0.71915378]\n",
      " [-0.55574773  0.0364886  -0.71915378]\n",
      " [-0.55574773  0.0364886  -0.71915378]\n",
      " [ 0.91020524 -0.90706371 -0.71915378]\n",
      " [-0.44298211 -0.90706371 -0.71915378]\n",
      " [ 0.91020524 -1.31144327 -0.71915378]\n",
      " [ 0.85382243 -0.90706371 -0.71915378]\n",
      " [ 0.23361156  0.0364886  -0.71915378]\n",
      " [-0.38659931  0.71045454 -0.71915378]\n",
      " [ 2.2633926  -0.14323565 -0.71915378]\n",
      " [ 0.23361156 -0.90706371 -0.71915378]\n",
      " [ 0.34637718 -0.72733946 -0.71915378]\n",
      " [-0.04830247 -0.72733946 -0.71915378]\n",
      " [-0.49936492  0.71045454 -0.71915378]\n",
      " [-0.55574773  0.98004091 -0.71915378]\n",
      " [-0.27383369  0.71045454  1.73215197]\n",
      " [ 1.92509576  1.24962729  0.94773413]\n",
      " [ 0.00808034  0.0364886  -0.71915378]\n",
      " [ 1.98147856 -0.14323565 -0.71915378]\n",
      " [-1.11957579  1.33948942 -0.71915378]\n",
      " [-1.11957579 -0.90706371 -0.71915378]\n",
      " [ 0.06446314 -0.90706371 -0.71915378]\n",
      " [ 0.12084595 -0.3229599   0.94773413]\n",
      " [-0.38659931 -0.90706371  0.94773413]\n",
      " [ 0.23361156  0.71045454  0.94773413]\n",
      " [-1.11957579  2.37290385  0.94773413]\n",
      " [-0.55574773  0.0364886  -0.71915378]\n",
      " [-0.95042737  0.12635073 -0.71915378]\n",
      " [-0.38659931 -0.90706371 -0.71915378]\n",
      " [-0.27383369 -0.90706371 -0.71915378]\n",
      " [-1.1759586   1.06990304 -0.71915378]\n",
      " [-0.27383369  0.71045454 -0.71915378]\n",
      " [-0.49936492  0.71045454 -0.71915378]\n",
      " [ 0.28999437 -0.3229599   0.94773413]\n",
      " [-1.51425544  0.12635073 -0.71915378]\n",
      " [-1.51425544  0.12635073 -0.71915378]\n",
      " [ 2.09424418 -0.41282202  1.73215197]\n",
      " [ 0.91020524 -0.90706371  1.73215197]\n",
      " [-0.16106808  0.71045454 -0.71915378]\n",
      " [-1.06319298 -0.90706371 -0.71915378]\n",
      " [ 0.23361156 -0.90706371 -0.71915378]\n",
      " [-0.78127895  1.33948942 -0.71915378]\n",
      " [-0.61213053  1.33948942 -0.71915378]\n",
      " [-0.04830247 -0.3229599   0.94773413]\n",
      " [-1.00681018  0.12635073 -0.71915378]\n",
      " [-0.44298211  1.33948942 -0.71915378]\n",
      " [-1.06319298  1.33948942 -0.71915378]\n",
      " [-0.27383369 -0.90706371 -0.71915378]\n",
      " [-0.27383369 -0.90706371 -0.71915378]\n",
      " [ 0.06446314 -0.41282202  1.73215197]\n",
      " [ 2.37615821 -0.14323565 -0.71915378]\n",
      " [ 0.00808034  0.71045454 -0.71915378]\n",
      " [-0.27383369  0.0364886  -0.71915378]\n",
      " [ 0.12084595 -0.90706371 -0.71915378]\n",
      " [ 0.85382243  0.0364886   0.94773413]\n",
      " [ 0.28999437 -0.14323565 -0.71915378]\n",
      " [-0.16106808  1.33948942 -0.71915378]\n",
      " [-1.06319298  1.33948942 -0.71915378]\n",
      " [-0.44298211  2.37290385 -0.71915378]\n",
      " [-0.16106808  0.71045454 -0.71915378]\n",
      " [ 0.00808034 -0.90706371 -0.71915378]\n",
      " [ 0.06446314  0.71045454 -0.71915378]\n",
      " [ 0.40275998  0.71045454  0.94773413]\n",
      " [-0.38659931 -0.90706371 -0.71915378]\n",
      " [-0.49936492  0.0364886  -0.71915378]\n",
      " [-1.51425544  0.12635073 -0.71915378]\n",
      " [-0.89404456 -0.72733946 -0.71915378]\n",
      " [ 0.17722876 -0.90706371 -0.71915378]\n",
      " [ 0.5155256   0.12635073 -0.71915378]\n",
      " [-1.06319298  2.82221448  1.73215197]\n",
      " [-1.1759586  -0.90706371 -0.71915378]\n",
      " [-0.44298211  0.71045454 -0.71915378]\n",
      " [-1.00681018  0.71045454 -0.71915378]\n",
      " [-1.06319298  2.01345535 -0.71915378]\n",
      " [-0.16106808  0.71045454 -0.71915378]\n",
      " [-0.3302165   1.33948942  0.94773413]\n",
      " [-0.27383369  0.71045454 -0.71915378]\n",
      " [-0.78127895  1.33948942 -0.71915378]\n",
      " [-1.00681018  2.01345535 -0.71915378]\n",
      " [-1.1759586  -0.90706371 -0.71915378]\n",
      " [-0.21745089  0.71045454 -0.71915378]\n",
      " [-0.55574773  1.06990304 -0.71915378]\n",
      " [-0.21745089 -0.90706371 -0.71915378]\n",
      " [-0.21745089  0.71045454 -0.71915378]\n",
      " [ 0.06446314 -0.3229599  -0.71915378]\n",
      " [-1.11957579  0.71045454 -0.71915378]\n",
      " [-1.00681018  0.0364886  -0.71915378]\n",
      " [-1.1759586  -0.72733946 -0.71915378]\n",
      " [ 0.23361156 -0.41282202  1.73215197]\n",
      " [-0.89404456 -0.3229599  -0.71915378]\n",
      " [-1.45787263  1.06990304 -0.71915378]\n",
      " [-1.51425544  2.01345535 -0.71915378]\n",
      " [-1.51425544  1.33948942 -0.71915378]\n",
      " [-1.45787263  0.12635073 -0.71915378]\n",
      " [-1.11957579 -0.3229599  -0.71915378]\n",
      " [-0.83766176  0.12635073  1.73215197]\n",
      " [-0.27383369  2.37290385  0.94773413]\n",
      " [-0.21745089 -1.31144327  0.94773413]\n",
      " [ 1.81233014 -0.14323565  1.73215197]\n",
      " [ 1.07935366 -0.14323565 -0.71915378]\n",
      " [-0.55574773  0.71045454 -0.71915378]\n",
      " [ 0.5155256  -0.90706371  0.94773413]\n",
      " [ 0.34637718 -0.3229599   0.94773413]\n",
      " [ 0.34637718 -1.31144327  0.94773413]\n",
      " [-0.49936492  2.37290385 -0.71915378]\n",
      " [-0.3302165   0.12635073 -0.71915378]\n",
      " [-0.72489615 -0.3229599  -0.71915378]\n",
      " [-1.11957579 -0.90706371 -0.71915378]\n",
      " [-1.57063824 -0.72733946 -0.71915378]\n",
      " [-1.11957579  0.12635073 -0.71915378]\n",
      " [-1.57063824  0.12635073 -0.71915378]\n",
      " [-1.45787263 -0.72733946 -0.71915378]\n",
      " [ 1.92509576 -0.14323565 -0.71915378]\n",
      " [ 1.4176505   3.94549104  1.73215197]\n",
      " [-1.11957579 -0.90706371 -0.71915378]\n",
      " [-1.00681018 -1.31144327 -0.71915378]\n",
      " [-0.95042737  0.71045454 -0.71915378]\n",
      " [-0.49936492  2.01345535  0.94773413]\n",
      " [-0.72489615 -1.31144327 -0.71915378]\n",
      " [ 0.12084595 -1.31144327  0.94773413]\n",
      " [-1.06319298 -1.31144327 -0.71915378]\n",
      " [ 0.17722876 -0.90706371 -0.71915378]\n",
      " [-0.72489615  2.37290385  0.94773413]\n",
      " [-0.72489615  2.37290385 -0.71915378]]\n"
     ]
    }
   ],
   "source": [
    "scaler = StandardScaler()\n",
    "scaled_data = scaler.fit_transform(customer_seg_df_updated_sample_size[['Age', 'Annual Salary ($K)', 'Spending Score (1-100)']])\n",
    "\n",
    "print(scaled_data)"
   ]
  },
  {
   "cell_type": "markdown",
   "metadata": {},
   "source": [
    "##### Here, we categorize the scaled data into different cluster groups (i.e. 0-2)."
   ]
  },
  {
   "cell_type": "code",
   "execution_count": 65,
   "metadata": {},
   "outputs": [
    {
     "name": "stdout",
     "output_type": "stream",
     "text": [
      "[2 0 0 1 1 0 0 0 1 0 2 0 1 2 1 2 0 0 0 1 2 2 1 2 2 1 1 1 0 0 1 1 1 1 0 1 1\n",
      " 1 2 2 1 0 1 1 1 2 1 0 1 1 1 2 2 1 1 1 0 1 1 2 2 1 0 2 0 1 1 2 2 2 1 0 2 2\n",
      " 2 0 1 2 1 1 2 2 2 1 1 2 1 1 1 2 1 1 1 1 2 1 0 2 2 2 1 1 0 2 2 2 1 1 2 2 2\n",
      " 1 0 1 2 1 0 2 1 0 0 2 0 1 1 2 1 0 2 1 0 0 1 1 0 1 0 1 2 2 1 2 0 2 0 2 0 0\n",
      " 2 2 0 1 2 1 1 1 0 0 2 0 1 1 0 2 0 2 2 2 0 1 1 0 2 1 2 2 2 0 2 2 1 0 2 1 2\n",
      " 0 0 2 0 2 2 2 2 2 2 2 2 2 0 2 2 2 2 0 0 1 1 2 2 0 2 2 1 1 1 0 2 0 2 2 0 0\n",
      " 0 1 0 0 1 1 0 2 2 0 0 1 0 0 0 2 2 1 2 0 2 2 1 2 0 0 0 0 2 0 1 2 2 0 2 2 2\n",
      " 0 2 0 0 0 0 0 0 0 0 2 0 0 2 0 2 0 0 2 1 2 0 0 0 0 2 1 0 1 1 2 0 1 1 1 0 2\n",
      " 2 2 2 0 0 2 2 0 2 2 0 0 2 1 2 2 0 0]\n"
     ]
    }
   ],
   "source": [
    "clusters = 3\n",
    "model = KMeans(init = 'k-means++', \n",
    "               n_clusters = clusters, \n",
    "               n_init = 12)\n",
    "model.fit(scaled_data)\n",
    "\n",
    "labels = model.labels_\n",
    "print(labels)"
   ]
  },
  {
   "cell_type": "markdown",
   "metadata": {},
   "source": [
    "##### Now, we have assigned each gender a cluster number based on the model."
   ]
  },
  {
   "cell_type": "code",
   "execution_count": 66,
   "metadata": {},
   "outputs": [
    {
     "data": {
      "text/html": [
       "<div>\n",
       "<style scoped>\n",
       "    .dataframe tbody tr th:only-of-type {\n",
       "        vertical-align: middle;\n",
       "    }\n",
       "\n",
       "    .dataframe tbody tr th {\n",
       "        vertical-align: top;\n",
       "    }\n",
       "\n",
       "    .dataframe thead th {\n",
       "        text-align: right;\n",
       "    }\n",
       "</style>\n",
       "<table border=\"1\" class=\"dataframe\">\n",
       "  <thead>\n",
       "    <tr style=\"text-align: right;\">\n",
       "      <th></th>\n",
       "      <th>Gender</th>\n",
       "      <th>Married</th>\n",
       "      <th>Age</th>\n",
       "      <th>Graduated</th>\n",
       "      <th>Profession</th>\n",
       "      <th>Work Experience</th>\n",
       "      <th>Family Size</th>\n",
       "      <th>Annual Salary ($K)</th>\n",
       "      <th>Spending Score (1-100)</th>\n",
       "      <th>cluster_num</th>\n",
       "    </tr>\n",
       "  </thead>\n",
       "  <tbody>\n",
       "    <tr>\n",
       "      <th>0</th>\n",
       "      <td>Female</td>\n",
       "      <td>Yes</td>\n",
       "      <td>36</td>\n",
       "      <td>Yes</td>\n",
       "      <td>Engineer</td>\n",
       "      <td>0</td>\n",
       "      <td>1</td>\n",
       "      <td>49</td>\n",
       "      <td>12</td>\n",
       "      <td>2</td>\n",
       "    </tr>\n",
       "    <tr>\n",
       "      <th>1</th>\n",
       "      <td>Male</td>\n",
       "      <td>Yes</td>\n",
       "      <td>37</td>\n",
       "      <td>Yes</td>\n",
       "      <td>Nursing</td>\n",
       "      <td>8</td>\n",
       "      <td>4</td>\n",
       "      <td>86</td>\n",
       "      <td>63</td>\n",
       "      <td>0</td>\n",
       "    </tr>\n",
       "    <tr>\n",
       "      <th>2</th>\n",
       "      <td>Male</td>\n",
       "      <td>Yes</td>\n",
       "      <td>59</td>\n",
       "      <td>No</td>\n",
       "      <td>Manager</td>\n",
       "      <td>11</td>\n",
       "      <td>2</td>\n",
       "      <td>119</td>\n",
       "      <td>87</td>\n",
       "      <td>0</td>\n",
       "    </tr>\n",
       "    <tr>\n",
       "      <th>4</th>\n",
       "      <td>Female</td>\n",
       "      <td>Yes</td>\n",
       "      <td>47</td>\n",
       "      <td>Yes</td>\n",
       "      <td>Artist</td>\n",
       "      <td>1</td>\n",
       "      <td>3</td>\n",
       "      <td>36</td>\n",
       "      <td>63</td>\n",
       "      <td>1</td>\n",
       "    </tr>\n",
       "    <tr>\n",
       "      <th>5</th>\n",
       "      <td>Male</td>\n",
       "      <td>Yes</td>\n",
       "      <td>50</td>\n",
       "      <td>Yes</td>\n",
       "      <td>Artist</td>\n",
       "      <td>2</td>\n",
       "      <td>4</td>\n",
       "      <td>36</td>\n",
       "      <td>63</td>\n",
       "      <td>1</td>\n",
       "    </tr>\n",
       "  </tbody>\n",
       "</table>\n",
       "</div>"
      ],
      "text/plain": [
       "   Gender Married  Age Graduated Profession  Work Experience  Family Size  \\\n",
       "0  Female     Yes   36       Yes   Engineer                0            1   \n",
       "1    Male     Yes   37       Yes    Nursing                8            4   \n",
       "2    Male     Yes   59        No    Manager               11            2   \n",
       "4  Female     Yes   47       Yes     Artist                1            3   \n",
       "5    Male     Yes   50       Yes     Artist                2            4   \n",
       "\n",
       "   Annual Salary ($K)  Spending Score (1-100)  cluster_num  \n",
       "0                  49                      12            2  \n",
       "1                  86                      63            0  \n",
       "2                 119                      87            0  \n",
       "4                  36                      63            1  \n",
       "5                  36                      63            1  "
      ]
     },
     "execution_count": 66,
     "metadata": {},
     "output_type": "execute_result"
    }
   ],
   "source": [
    "customer_seg_df_updated_sample_size['cluster_num'] = labels\n",
    "customer_seg_df_updated_sample_size.head()"
   ]
  },
  {
   "cell_type": "markdown",
   "metadata": {},
   "source": [
    "##### Here is a scatterplot to show where each customer stands.= based on age and spending score."
   ]
  },
  {
   "cell_type": "code",
   "execution_count": 67,
   "metadata": {},
   "outputs": [
    {
     "data": {
      "image/png": "[encoded data removed]",
      "text/plain": [
       "<Figure size 720x432 with 1 Axes>"
      ]
     },
     "metadata": {
      "needs_background": "light"
     },
     "output_type": "display_data"
    }
   ],
   "source": [
    "import matplotlib.pyplot as plt\n",
    "\n",
    "plt.figure(figsize=(10,6))\n",
    "sns.scatterplot(x = 'Age',y = 'Spending Score (1-100)',  data = customer_seg_df_updated_sample_size  ,s = 60 )\n",
    "plt.xlabel('Age')\n",
    "plt.ylabel('Spending Score (1-100)') \n",
    "plt.title('Spending Score (1-100) vs Age')\n",
    "plt.show()"
   ]
  },
  {
   "cell_type": "markdown",
   "metadata": {},
   "source": [
    "##### Import K Means from SKlearn."
   ]
  },
  {
   "cell_type": "code",
   "execution_count": 68,
   "metadata": {},
   "outputs": [],
   "source": [
    "#Importing KMeans from sklearn\n",
    "from sklearn.cluster import KMeans"
   ]
  },
  {
   "cell_type": "markdown",
   "metadata": {},
   "source": [
    "##### Let's seperate each customer into 3 clusters based on a low, average, and high spending score and give them labels."
   ]
  },
  {
   "cell_type": "code",
   "execution_count": 73,
   "metadata": {},
   "outputs": [
    {
     "data": {
      "text/html": [
       "<div>\n",
       "<style scoped>\n",
       "    .dataframe tbody tr th:only-of-type {\n",
       "        vertical-align: middle;\n",
       "    }\n",
       "\n",
       "    .dataframe tbody tr th {\n",
       "        vertical-align: top;\n",
       "    }\n",
       "\n",
       "    .dataframe thead th {\n",
       "        text-align: right;\n",
       "    }\n",
       "</style>\n",
       "<table border=\"1\" class=\"dataframe\">\n",
       "  <thead>\n",
       "    <tr style=\"text-align: right;\">\n",
       "      <th></th>\n",
       "      <th>Gender</th>\n",
       "      <th>Married</th>\n",
       "      <th>Age</th>\n",
       "      <th>Graduated</th>\n",
       "      <th>Profession</th>\n",
       "      <th>Work Experience</th>\n",
       "      <th>Family Size</th>\n",
       "      <th>Annual Salary ($K)</th>\n",
       "      <th>Spending Score (1-100)</th>\n",
       "      <th>cluster_num</th>\n",
       "      <th>label</th>\n",
       "      <th>Cluster</th>\n",
       "    </tr>\n",
       "  </thead>\n",
       "  <tbody>\n",
       "    <tr>\n",
       "      <th>0</th>\n",
       "      <td>Female</td>\n",
       "      <td>Yes</td>\n",
       "      <td>36</td>\n",
       "      <td>Yes</td>\n",
       "      <td>Engineer</td>\n",
       "      <td>0</td>\n",
       "      <td>1</td>\n",
       "      <td>49</td>\n",
       "      <td>12</td>\n",
       "      <td>2</td>\n",
       "      <td>2</td>\n",
       "      <td>0</td>\n",
       "    </tr>\n",
       "    <tr>\n",
       "      <th>1</th>\n",
       "      <td>Male</td>\n",
       "      <td>Yes</td>\n",
       "      <td>37</td>\n",
       "      <td>Yes</td>\n",
       "      <td>Nursing</td>\n",
       "      <td>8</td>\n",
       "      <td>4</td>\n",
       "      <td>86</td>\n",
       "      <td>63</td>\n",
       "      <td>0</td>\n",
       "      <td>1</td>\n",
       "      <td>1</td>\n",
       "    </tr>\n",
       "    <tr>\n",
       "      <th>2</th>\n",
       "      <td>Male</td>\n",
       "      <td>Yes</td>\n",
       "      <td>59</td>\n",
       "      <td>No</td>\n",
       "      <td>Manager</td>\n",
       "      <td>11</td>\n",
       "      <td>2</td>\n",
       "      <td>119</td>\n",
       "      <td>87</td>\n",
       "      <td>0</td>\n",
       "      <td>1</td>\n",
       "      <td>1</td>\n",
       "    </tr>\n",
       "    <tr>\n",
       "      <th>4</th>\n",
       "      <td>Female</td>\n",
       "      <td>Yes</td>\n",
       "      <td>47</td>\n",
       "      <td>Yes</td>\n",
       "      <td>Artist</td>\n",
       "      <td>1</td>\n",
       "      <td>3</td>\n",
       "      <td>36</td>\n",
       "      <td>63</td>\n",
       "      <td>1</td>\n",
       "      <td>0</td>\n",
       "      <td>2</td>\n",
       "    </tr>\n",
       "    <tr>\n",
       "      <th>5</th>\n",
       "      <td>Male</td>\n",
       "      <td>Yes</td>\n",
       "      <td>50</td>\n",
       "      <td>Yes</td>\n",
       "      <td>Artist</td>\n",
       "      <td>2</td>\n",
       "      <td>4</td>\n",
       "      <td>36</td>\n",
       "      <td>63</td>\n",
       "      <td>1</td>\n",
       "      <td>0</td>\n",
       "      <td>2</td>\n",
       "    </tr>\n",
       "  </tbody>\n",
       "</table>\n",
       "</div>"
      ],
      "text/plain": [
       "   Gender Married  Age Graduated Profession  Work Experience  Family Size  \\\n",
       "0  Female     Yes   36       Yes   Engineer                0            1   \n",
       "1    Male     Yes   37       Yes    Nursing                8            4   \n",
       "2    Male     Yes   59        No    Manager               11            2   \n",
       "4  Female     Yes   47       Yes     Artist                1            3   \n",
       "5    Male     Yes   50       Yes     Artist                2            4   \n",
       "\n",
       "   Annual Salary ($K)  Spending Score (1-100)  cluster_num  label  Cluster  \n",
       "0                  49                      12            2      2        0  \n",
       "1                  86                      63            0      1        1  \n",
       "2                 119                      87            0      1        1  \n",
       "4                  36                      63            1      0        2  \n",
       "5                  36                      63            1      0        2  "
      ]
     },
     "metadata": {},
     "output_type": "display_data"
    }
   ],
   "source": [
    "#Taking 5 clusters\n",
    "km1=KMeans(n_clusters=3)\n",
    "#Fitting the input data\n",
    "km1.fit(scaled_data)\n",
    "#predicting the labels of the input data\n",
    "y=km1.predict(scaled_data)\n",
    "#adding the labels to a column named label\n",
    "customer_seg_df_updated_sample_size[\"Cluster\"] = y\n",
    "\n",
    "display(customer_seg_df_updated_sample_size.head())"
   ]
  },
  {
   "cell_type": "markdown",
   "metadata": {},
   "source": [
    "##### Now, this scatterplot is organized into the 3 clusters."
   ]
  },
  {
   "cell_type": "code",
   "execution_count": 74,
   "metadata": {},
   "outputs": [
    {
     "data": {
      "image/png": "[encoded data removed]",
      "text/plain": [
       "<Figure size 720x432 with 1 Axes>"
      ]
     },
     "metadata": {
      "needs_background": "light"
     },
     "output_type": "display_data"
    }
   ],
   "source": [
    "#Scatterplot of the clusters\n",
    "plt.figure(figsize=(10,6))\n",
    "sns.scatterplot(x = 'Age',y = 'Spending Score (1-100)',hue=\"Cluster\",  \n",
    "                 palette=['green','dodgerblue','red'], legend='full', data = customer_seg_df_updated_sample_size  ,s = 60 )\n",
    "plt.xlabel('Age')\n",
    "plt.ylabel('Spending Score (1-100)') \n",
    "plt.title('Spending Score (1-100) vs Age')\n",
    "plt.show()"
   ]
  },
  {
   "cell_type": "markdown",
   "metadata": {},
   "source": [
    "##### This is our final dataframe and heatmap with the K Means machine learning model included."
   ]
  },
  {
   "cell_type": "code",
   "execution_count": 75,
   "metadata": {},
   "outputs": [
    {
     "data": {
      "text/html": [
       "<div>\n",
       "<style scoped>\n",
       "    .dataframe tbody tr th:only-of-type {\n",
       "        vertical-align: middle;\n",
       "    }\n",
       "\n",
       "    .dataframe tbody tr th {\n",
       "        vertical-align: top;\n",
       "    }\n",
       "\n",
       "    .dataframe thead th {\n",
       "        text-align: right;\n",
       "    }\n",
       "</style>\n",
       "<table border=\"1\" class=\"dataframe\">\n",
       "  <thead>\n",
       "    <tr style=\"text-align: right;\">\n",
       "      <th></th>\n",
       "      <th>Gender</th>\n",
       "      <th>Married</th>\n",
       "      <th>Age</th>\n",
       "      <th>Graduated</th>\n",
       "      <th>Profession</th>\n",
       "      <th>Work Experience</th>\n",
       "      <th>Family Size</th>\n",
       "      <th>Annual Salary ($K)</th>\n",
       "      <th>Spending Score (1-100)</th>\n",
       "      <th>cluster_num</th>\n",
       "      <th>label</th>\n",
       "      <th>Cluster</th>\n",
       "    </tr>\n",
       "  </thead>\n",
       "  <tbody>\n",
       "    <tr>\n",
       "      <th>0</th>\n",
       "      <td>Female</td>\n",
       "      <td>Yes</td>\n",
       "      <td>36</td>\n",
       "      <td>Yes</td>\n",
       "      <td>Engineer</td>\n",
       "      <td>0</td>\n",
       "      <td>1</td>\n",
       "      <td>49</td>\n",
       "      <td>12</td>\n",
       "      <td>2</td>\n",
       "      <td>2</td>\n",
       "      <td>0</td>\n",
       "    </tr>\n",
       "    <tr>\n",
       "      <th>1</th>\n",
       "      <td>Male</td>\n",
       "      <td>Yes</td>\n",
       "      <td>37</td>\n",
       "      <td>Yes</td>\n",
       "      <td>Nursing</td>\n",
       "      <td>8</td>\n",
       "      <td>4</td>\n",
       "      <td>86</td>\n",
       "      <td>63</td>\n",
       "      <td>0</td>\n",
       "      <td>1</td>\n",
       "      <td>1</td>\n",
       "    </tr>\n",
       "    <tr>\n",
       "      <th>2</th>\n",
       "      <td>Male</td>\n",
       "      <td>Yes</td>\n",
       "      <td>59</td>\n",
       "      <td>No</td>\n",
       "      <td>Manager</td>\n",
       "      <td>11</td>\n",
       "      <td>2</td>\n",
       "      <td>119</td>\n",
       "      <td>87</td>\n",
       "      <td>0</td>\n",
       "      <td>1</td>\n",
       "      <td>1</td>\n",
       "    </tr>\n",
       "    <tr>\n",
       "      <th>4</th>\n",
       "      <td>Female</td>\n",
       "      <td>Yes</td>\n",
       "      <td>47</td>\n",
       "      <td>Yes</td>\n",
       "      <td>Artist</td>\n",
       "      <td>1</td>\n",
       "      <td>3</td>\n",
       "      <td>36</td>\n",
       "      <td>63</td>\n",
       "      <td>1</td>\n",
       "      <td>0</td>\n",
       "      <td>2</td>\n",
       "    </tr>\n",
       "    <tr>\n",
       "      <th>5</th>\n",
       "      <td>Male</td>\n",
       "      <td>Yes</td>\n",
       "      <td>50</td>\n",
       "      <td>Yes</td>\n",
       "      <td>Artist</td>\n",
       "      <td>2</td>\n",
       "      <td>4</td>\n",
       "      <td>36</td>\n",
       "      <td>63</td>\n",
       "      <td>1</td>\n",
       "      <td>0</td>\n",
       "      <td>2</td>\n",
       "    </tr>\n",
       "    <tr>\n",
       "      <th>6</th>\n",
       "      <td>Male</td>\n",
       "      <td>No</td>\n",
       "      <td>19</td>\n",
       "      <td>No</td>\n",
       "      <td>Nursing</td>\n",
       "      <td>0</td>\n",
       "      <td>4</td>\n",
       "      <td>59</td>\n",
       "      <td>12</td>\n",
       "      <td>0</td>\n",
       "      <td>1</td>\n",
       "      <td>1</td>\n",
       "    </tr>\n",
       "    <tr>\n",
       "      <th>7</th>\n",
       "      <td>Male</td>\n",
       "      <td>No</td>\n",
       "      <td>22</td>\n",
       "      <td>No</td>\n",
       "      <td>Nursing</td>\n",
       "      <td>0</td>\n",
       "      <td>3</td>\n",
       "      <td>59</td>\n",
       "      <td>12</td>\n",
       "      <td>0</td>\n",
       "      <td>1</td>\n",
       "      <td>1</td>\n",
       "    </tr>\n",
       "    <tr>\n",
       "      <th>8</th>\n",
       "      <td>Female</td>\n",
       "      <td>No</td>\n",
       "      <td>22</td>\n",
       "      <td>No</td>\n",
       "      <td>Nursing</td>\n",
       "      <td>0</td>\n",
       "      <td>6</td>\n",
       "      <td>59</td>\n",
       "      <td>12</td>\n",
       "      <td>0</td>\n",
       "      <td>1</td>\n",
       "      <td>1</td>\n",
       "    </tr>\n",
       "    <tr>\n",
       "      <th>9</th>\n",
       "      <td>Male</td>\n",
       "      <td>Yes</td>\n",
       "      <td>50</td>\n",
       "      <td>Yes</td>\n",
       "      <td>Artist</td>\n",
       "      <td>1</td>\n",
       "      <td>5</td>\n",
       "      <td>36</td>\n",
       "      <td>63</td>\n",
       "      <td>1</td>\n",
       "      <td>0</td>\n",
       "      <td>2</td>\n",
       "    </tr>\n",
       "    <tr>\n",
       "      <th>10</th>\n",
       "      <td>Male</td>\n",
       "      <td>No</td>\n",
       "      <td>27</td>\n",
       "      <td>No</td>\n",
       "      <td>Nursing</td>\n",
       "      <td>8</td>\n",
       "      <td>3</td>\n",
       "      <td>86</td>\n",
       "      <td>12</td>\n",
       "      <td>0</td>\n",
       "      <td>1</td>\n",
       "      <td>1</td>\n",
       "    </tr>\n",
       "  </tbody>\n",
       "</table>\n",
       "</div>"
      ],
      "text/plain": [
       "    Gender Married  Age Graduated Profession  Work Experience  Family Size  \\\n",
       "0   Female     Yes   36       Yes   Engineer                0            1   \n",
       "1     Male     Yes   37       Yes    Nursing                8            4   \n",
       "2     Male     Yes   59        No    Manager               11            2   \n",
       "4   Female     Yes   47       Yes     Artist                1            3   \n",
       "5     Male     Yes   50       Yes     Artist                2            4   \n",
       "6     Male      No   19        No    Nursing                0            4   \n",
       "7     Male      No   22        No    Nursing                0            3   \n",
       "8   Female      No   22        No    Nursing                0            6   \n",
       "9     Male     Yes   50       Yes     Artist                1            5   \n",
       "10    Male      No   27        No    Nursing                8            3   \n",
       "\n",
       "    Annual Salary ($K)  Spending Score (1-100)  cluster_num  label  Cluster  \n",
       "0                   49                      12            2      2        0  \n",
       "1                   86                      63            0      1        1  \n",
       "2                  119                      87            0      1        1  \n",
       "4                   36                      63            1      0        2  \n",
       "5                   36                      63            1      0        2  \n",
       "6                   59                      12            0      1        1  \n",
       "7                   59                      12            0      1        1  \n",
       "8                   59                      12            0      1        1  \n",
       "9                   36                      63            1      0        2  \n",
       "10                  86                      12            0      1        1  "
      ]
     },
     "metadata": {},
     "output_type": "display_data"
    },
    {
     "data": {
      "application/vnd.plotly.v1+json": {
       "config": {
        "plotlyServerURL": "https://plot.ly"
       },
       "data": [
        {
         "coloraxis": "coloraxis",
         "hovertemplate": "Age=%{x}<br>Profession=%{y}<br>count=%{z}<extra></extra>",
         "name": "",
         "texttemplate": "%{z}",
         "type": "histogram2d",
         "x": [
          36,
          37,
          59,
          47,
          50,
          19,
          22,
          22,
          50,
          27,
          61,
          20,
          45,
          55,
          88,
          42,
          35,
          27,
          29,
          79,
          89,
          31,
          72,
          61,
          62,
          56,
          60,
          68,
          57,
          19,
          51,
          86,
          74,
          47,
          19,
          50,
          50,
          83,
          36,
          35,
          35,
          18,
          73,
          62,
          46,
          39,
          89,
          18,
          57,
          71,
          69,
          42,
          36,
          80,
          67,
          49,
          32,
          65,
          78,
          33,
          48,
          58,
          30,
          35,
          32,
          69,
          71,
          43,
          37,
          46,
          70,
          30,
          32,
          26,
          42,
          29,
          88,
          70,
          50,
          51,
          60,
          46,
          81,
          22,
          37,
          43,
          50,
          35,
          65,
          41,
          55,
          76,
          88,
          69,
          70,
          32,
          21,
          39,
          85,
          66,
          50,
          42,
          53,
          45,
          40,
          35,
          48,
          56,
          49,
          72,
          77,
          42,
          26,
          67,
          55,
          46,
          32,
          49,
          59,
          22,
          28,
          75,
          37,
          50,
          35,
          46,
          50,
          33,
          49,
          52,
          25,
          41,
          68,
          79,
          63,
          50,
          30,
          61,
          42,
          88,
          45,
          86,
          18,
          46,
          72,
          46,
          42,
          19,
          68,
          40,
          23,
          84,
          51,
          41,
          51,
          62,
          38,
          22,
          48,
          31,
          46,
          49,
          42,
          39,
          20,
          72,
          70,
          45,
          33,
          74,
          49,
          18,
          28,
          59,
          56,
          69,
          66,
          18,
          36,
          31,
          67,
          39,
          50,
          37,
          59,
          50,
          48,
          55,
          38,
          43,
          53,
          36,
          36,
          62,
          38,
          62,
          61,
          50,
          39,
          86,
          50,
          52,
          45,
          37,
          36,
          41,
          80,
          46,
          81,
          26,
          26,
          47,
          48,
          39,
          50,
          26,
          36,
          29,
          39,
          41,
          25,
          41,
          37,
          51,
          19,
          19,
          83,
          62,
          43,
          27,
          50,
          32,
          35,
          45,
          28,
          38,
          27,
          41,
          41,
          47,
          88,
          46,
          41,
          48,
          61,
          51,
          43,
          27,
          38,
          43,
          46,
          47,
          53,
          39,
          37,
          19,
          30,
          49,
          55,
          27,
          25,
          38,
          28,
          27,
          43,
          40,
          41,
          32,
          28,
          25,
          42,
          36,
          42,
          42,
          47,
          26,
          28,
          25,
          50,
          30,
          20,
          19,
          19,
          20,
          26,
          31,
          41,
          42,
          78,
          65,
          36,
          55,
          52,
          52,
          37,
          40,
          33,
          26,
          18,
          26,
          18,
          20,
          80,
          71,
          26,
          28,
          29,
          37,
          33,
          48,
          27,
          49,
          33,
          33
         ],
         "xaxis": "x",
         "xbingroup": "x",
         "y": [
          "Engineer",
          "Nursing",
          "Manager",
          "Artist",
          "Artist",
          "Nursing",
          "Nursing",
          "Nursing",
          "Artist",
          "Nursing",
          "Artist",
          "Lawyer",
          "Artist",
          "Artist",
          "Lawyer",
          "Artist",
          "Nursing",
          "Manager",
          "Nursing",
          "Lawyer",
          "Lawyer",
          "Artist",
          "Artist",
          "Artist",
          "Artist",
          "Artist",
          "Artist",
          "Artist",
          "Manager",
          "Nursing",
          "Artist",
          "Artist",
          "Lawyer",
          "Artist",
          "Nursing",
          "Artist",
          "Manager",
          "Lawyer",
          "Artist",
          "Artist",
          "Artist",
          "Nursing",
          "Artist",
          "Artist",
          "Artist",
          "Artist",
          "Lawyer",
          "Nursing",
          "Artist",
          "Artist",
          "Artist",
          "Nursing",
          "Artist",
          "Lawyer",
          "Artist",
          "Artist",
          "Engineer",
          "Lawyer",
          "Lawyer",
          "Artist",
          "Artist",
          "Manager",
          "Nursing",
          "Artist",
          "Nursing",
          "Homemaker",
          "Lawyer",
          "Lawyer",
          "Artist",
          "Artist",
          "Artist",
          "Nursing",
          "Engineer",
          "Manager",
          "Marketing",
          "Nursing",
          "Artist",
          "Lawyer",
          "Artist",
          "Artist",
          "Manager",
          "Artist",
          "Marketing",
          "Manager",
          "Artist",
          "Engineer",
          "Artist",
          "Artist",
          "Lawyer",
          "Engineer",
          "Artist",
          "Lawyer",
          "Lawyer",
          "Manager",
          "Lawyer",
          "Nursing",
          "Nursing",
          "Marketing",
          "Lawyer",
          "Artist",
          "Artist",
          "Artist",
          "Artist",
          "Artist",
          "Artist",
          "Artist",
          "Artist",
          "Artist",
          "Lawyer",
          "Marketing",
          "Lawyer",
          "Nursing",
          "Nursing",
          "Lawyer",
          "Engineer",
          "Artist",
          "Nursing",
          "Homemaker",
          "Artist",
          "Nursing",
          "Artist",
          "Lawyer",
          "Artist",
          "Manager",
          "Artist",
          "Artist",
          "Artist",
          "Artist",
          "Artist",
          "Artist",
          "Nursing",
          "Artist",
          "Artist",
          "Lawyer",
          "Engineer",
          "Marketing",
          "Marketing",
          "Artist",
          "Artist",
          "Artist",
          "Artist",
          "Lawyer",
          "Nursing",
          "Artist",
          "Lawyer",
          "Artist",
          "Manager",
          "Nursing",
          "Manager",
          "Artist",
          "Nursing",
          "Lawyer",
          "Artist",
          "Artist",
          "Manager",
          "Lawyer",
          "Artist",
          "Nursing",
          "Artist",
          "Engineer",
          "Artist",
          "Engineer",
          "Artist",
          "Engineer",
          "Nursing",
          "Manager",
          "Nursing",
          "Artist",
          "Manager",
          "Lawyer",
          "Marketing",
          "Nursing",
          "Artist",
          "Homemaker",
          "Artist",
          "Artist",
          "Artist",
          "Nursing",
          "Artist",
          "Marketing",
          "Manager",
          "Artist",
          "Artist",
          "Artist",
          "Artist",
          "Artist",
          "Artist",
          "Artist",
          "Artist",
          "Artist",
          "Artist",
          "Artist",
          "Artist",
          "Artist",
          "Artist",
          "Homemaker",
          "Artist",
          "Artist",
          "Artist",
          "Lawyer",
          "Artist",
          "Marketing",
          "Marketing",
          "Artist",
          "Engineer",
          "Artist",
          "Lawyer",
          "Artist",
          "Lawyer",
          "Nursing",
          "Artist",
          "Artist",
          "Engineer",
          "Artist",
          "Artist",
          "Engineer",
          "Artist",
          "Nursing",
          "Artist",
          "Artist",
          "Nursing",
          "Artist",
          "Artist",
          "Engineer",
          "Nursing",
          "Nursing",
          "Manager",
          "Artist",
          "Artist",
          "Artist",
          "Artist",
          "Nursing",
          "Nursing",
          "Engineer",
          "Nursing",
          "Nursing",
          "Nursing",
          "Artist",
          "Artist",
          "Manager",
          "Lawyer",
          "Artist",
          "Artist",
          "Artist",
          "Artist",
          "Lawyer",
          "Nursing",
          "Nursing",
          "Engineer",
          "Artist",
          "Artist",
          "Artist",
          "Artist",
          "Artist",
          "Artist",
          "Nursing",
          "Marketing",
          "Artist",
          "Nursing",
          "Manager",
          "Artist",
          "Artist",
          "Artist",
          "Marketing",
          "Artist",
          "Nursing",
          "Artist",
          "Nursing",
          "Marketing",
          "Artist",
          "Artist",
          "Nursing",
          "Artist",
          "Artist",
          "Engineer",
          "Artist",
          "Artist",
          "Marketing",
          "Manager",
          "Engineer",
          "Nursing",
          "Marketing",
          "Nursing",
          "Nursing",
          "Engineer",
          "Nursing",
          "Engineer",
          "Homemaker",
          "Lawyer",
          "Lawyer",
          "Artist",
          "Artist",
          "Engineer",
          "Homemaker",
          "Engineer",
          "Nursing",
          "Engineer",
          "Artist",
          "Marketing",
          "Nursing",
          "Nursing",
          "Marketing",
          "Lawyer",
          "Lawyer",
          "Artist",
          "Homemaker",
          "Artist",
          "Marketing",
          "Homemaker",
          "Homemaker",
          "Homemaker",
          "Artist",
          "Engineer",
          "Engineer"
         ],
         "yaxis": "y",
         "ybingroup": "y"
        }
       ],
       "layout": {
        "coloraxis": {
         "colorbar": {
          "title": {
           "text": "count"
          }
         },
         "colorscale": [
          [
           0,
           "#0d0887"
          ],
          [
           0.1111111111111111,
           "#46039f"
          ],
          [
           0.2222222222222222,
           "#7201a8"
          ],
          [
           0.3333333333333333,
           "#9c179e"
          ],
          [
           0.4444444444444444,
           "#bd3786"
          ],
          [
           0.5555555555555556,
           "#d8576b"
          ],
          [
           0.6666666666666666,
           "#ed7953"
          ],
          [
           0.7777777777777778,
           "#fb9f3a"
          ],
          [
           0.8888888888888888,
           "#fdca26"
          ],
          [
           1,
           "#f0f921"
          ]
         ]
        },
        "legend": {
         "tracegroupgap": 0
        },
        "margin": {
         "t": 60
        },
        "template": {
         "data": {
          "bar": [
           {
            "error_x": {
             "color": "#2a3f5f"
            },
            "error_y": {
             "color": "#2a3f5f"
            },
            "marker": {
             "line": {
              "color": "#E5ECF6",
              "width": 0.5
             },
             "pattern": {
              "fillmode": "overlay",
              "size": 10,
              "solidity": 0.2
             }
            },
            "type": "bar"
           }
          ],
          "barpolar": [
           {
            "marker": {
             "line": {
              "color": "#E5ECF6",
              "width": 0.5
             },
             "pattern": {
              "fillmode": "overlay",
              "size": 10,
              "solidity": 0.2
             }
            },
            "type": "barpolar"
           }
          ],
          "carpet": [
           {
            "aaxis": {
             "endlinecolor": "#2a3f5f",
             "gridcolor": "white",
             "linecolor": "white",
             "minorgridcolor": "white",
             "startlinecolor": "#2a3f5f"
            },
            "baxis": {
             "endlinecolor": "#2a3f5f",
             "gridcolor": "white",
             "linecolor": "white",
             "minorgridcolor": "white",
             "startlinecolor": "#2a3f5f"
            },
            "type": "carpet"
           }
          ],
          "choropleth": [
           {
            "colorbar": {
             "outlinewidth": 0,
             "ticks": ""
            },
            "type": "choropleth"
           }
          ],
          "contour": [
           {
            "colorbar": {
             "outlinewidth": 0,
             "ticks": ""
            },
            "colorscale": [
             [
              0,
              "#0d0887"
             ],
             [
              0.1111111111111111,
              "#46039f"
             ],
             [
              0.2222222222222222,
              "#7201a8"
             ],
             [
              0.3333333333333333,
              "#9c179e"
             ],
             [
              0.4444444444444444,
              "#bd3786"
             ],
             [
              0.5555555555555556,
              "#d8576b"
             ],
             [
              0.6666666666666666,
              "#ed7953"
             ],
             [
              0.7777777777777778,
              "#fb9f3a"
             ],
             [
              0.8888888888888888,
              "#fdca26"
             ],
             [
              1,
              "#f0f921"
             ]
            ],
            "type": "contour"
           }
          ],
          "contourcarpet": [
           {
            "colorbar": {
             "outlinewidth": 0,
             "ticks": ""
            },
            "type": "contourcarpet"
           }
          ],
          "heatmap": [
           {
            "colorbar": {
             "outlinewidth": 0,
             "ticks": ""
            },
            "colorscale": [
             [
              0,
              "#0d0887"
             ],
             [
              0.1111111111111111,
              "#46039f"
             ],
             [
              0.2222222222222222,
              "#7201a8"
             ],
             [
              0.3333333333333333,
              "#9c179e"
             ],
             [
              0.4444444444444444,
              "#bd3786"
             ],
             [
              0.5555555555555556,
              "#d8576b"
             ],
             [
              0.6666666666666666,
              "#ed7953"
             ],
             [
              0.7777777777777778,
              "#fb9f3a"
             ],
             [
              0.8888888888888888,
              "#fdca26"
             ],
             [
              1,
              "#f0f921"
             ]
            ],
            "type": "heatmap"
           }
          ],
          "heatmapgl": [
           {
            "colorbar": {
             "outlinewidth": 0,
             "ticks": ""
            },
            "colorscale": [
             [
              0,
              "#0d0887"
             ],
             [
              0.1111111111111111,
              "#46039f"
             ],
             [
              0.2222222222222222,
              "#7201a8"
             ],
             [
              0.3333333333333333,
              "#9c179e"
             ],
             [
              0.4444444444444444,
              "#bd3786"
             ],
             [
              0.5555555555555556,
              "#d8576b"
             ],
             [
              0.6666666666666666,
              "#ed7953"
             ],
             [
              0.7777777777777778,
              "#fb9f3a"
             ],
             [
              0.8888888888888888,
              "#fdca26"
             ],
             [
              1,
              "#f0f921"
             ]
            ],
            "type": "heatmapgl"
           }
          ],
          "histogram": [
           {
            "marker": {
             "pattern": {
              "fillmode": "overlay",
              "size": 10,
              "solidity": 0.2
             }
            },
            "type": "histogram"
           }
          ],
          "histogram2d": [
           {
            "colorbar": {
             "outlinewidth": 0,
             "ticks": ""
            },
            "colorscale": [
             [
              0,
              "#0d0887"
             ],
             [
              0.1111111111111111,
              "#46039f"
             ],
             [
              0.2222222222222222,
              "#7201a8"
             ],
             [
              0.3333333333333333,
              "#9c179e"
             ],
             [
              0.4444444444444444,
              "#bd3786"
             ],
             [
              0.5555555555555556,
              "#d8576b"
             ],
             [
              0.6666666666666666,
              "#ed7953"
             ],
             [
              0.7777777777777778,
              "#fb9f3a"
             ],
             [
              0.8888888888888888,
              "#fdca26"
             ],
             [
              1,
              "#f0f921"
             ]
            ],
            "type": "histogram2d"
           }
          ],
          "histogram2dcontour": [
           {
            "colorbar": {
             "outlinewidth": 0,
             "ticks": ""
            },
            "colorscale": [
             [
              0,
              "#0d0887"
             ],
             [
              0.1111111111111111,
              "#46039f"
             ],
             [
              0.2222222222222222,
              "#7201a8"
             ],
             [
              0.3333333333333333,
              "#9c179e"
             ],
             [
              0.4444444444444444,
              "#bd3786"
             ],
             [
              0.5555555555555556,
              "#d8576b"
             ],
             [
              0.6666666666666666,
              "#ed7953"
             ],
             [
              0.7777777777777778,
              "#fb9f3a"
             ],
             [
              0.8888888888888888,
              "#fdca26"
             ],
             [
              1,
              "#f0f921"
             ]
            ],
            "type": "histogram2dcontour"
           }
          ],
          "mesh3d": [
           {
            "colorbar": {
             "outlinewidth": 0,
             "ticks": ""
            },
            "type": "mesh3d"
           }
          ],
          "parcoords": [
           {
            "line": {
             "colorbar": {
              "outlinewidth": 0,
              "ticks": ""
             }
            },
            "type": "parcoords"
           }
          ],
          "pie": [
           {
            "automargin": true,
            "type": "pie"
           }
          ],
          "scatter": [
           {
            "fillpattern": {
             "fillmode": "overlay",
             "size": 10,
             "solidity": 0.2
            },
            "type": "scatter"
           }
          ],
          "scatter3d": [
           {
            "line": {
             "colorbar": {
              "outlinewidth": 0,
              "ticks": ""
             }
            },
            "marker": {
             "colorbar": {
              "outlinewidth": 0,
              "ticks": ""
             }
            },
            "type": "scatter3d"
           }
          ],
          "scattercarpet": [
           {
            "marker": {
             "colorbar": {
              "outlinewidth": 0,
              "ticks": ""
             }
            },
            "type": "scattercarpet"
           }
          ],
          "scattergeo": [
           {
            "marker": {
             "colorbar": {
              "outlinewidth": 0,
              "ticks": ""
             }
            },
            "type": "scattergeo"
           }
          ],
          "scattergl": [
           {
            "marker": {
             "colorbar": {
              "outlinewidth": 0,
              "ticks": ""
             }
            },
            "type": "scattergl"
           }
          ],
          "scattermapbox": [
           {
            "marker": {
             "colorbar": {
              "outlinewidth": 0,
              "ticks": ""
             }
            },
            "type": "scattermapbox"
           }
          ],
          "scatterpolar": [
           {
            "marker": {
             "colorbar": {
              "outlinewidth": 0,
              "ticks": ""
             }
            },
            "type": "scatterpolar"
           }
          ],
          "scatterpolargl": [
           {
            "marker": {
             "colorbar": {
              "outlinewidth": 0,
              "ticks": ""
             }
            },
            "type": "scatterpolargl"
           }
          ],
          "scatterternary": [
           {
            "marker": {
             "colorbar": {
              "outlinewidth": 0,
              "ticks": ""
             }
            },
            "type": "scatterternary"
           }
          ],
          "surface": [
           {
            "colorbar": {
             "outlinewidth": 0,
             "ticks": ""
            },
            "colorscale": [
             [
              0,
              "#0d0887"
             ],
             [
              0.1111111111111111,
              "#46039f"
             ],
             [
              0.2222222222222222,
              "#7201a8"
             ],
             [
              0.3333333333333333,
              "#9c179e"
             ],
             [
              0.4444444444444444,
              "#bd3786"
             ],
             [
              0.5555555555555556,
              "#d8576b"
             ],
             [
              0.6666666666666666,
              "#ed7953"
             ],
             [
              0.7777777777777778,
              "#fb9f3a"
             ],
             [
              0.8888888888888888,
              "#fdca26"
             ],
             [
              1,
              "#f0f921"
             ]
            ],
            "type": "surface"
           }
          ],
          "table": [
           {
            "cells": {
             "fill": {
              "color": "#EBF0F8"
             },
             "line": {
              "color": "white"
             }
            },
            "header": {
             "fill": {
              "color": "#C8D4E3"
             },
             "line": {
              "color": "white"
             }
            },
            "type": "table"
           }
          ]
         },
         "layout": {
          "annotationdefaults": {
           "arrowcolor": "#2a3f5f",
           "arrowhead": 0,
           "arrowwidth": 1
          },
          "autotypenumbers": "strict",
          "coloraxis": {
           "colorbar": {
            "outlinewidth": 0,
            "ticks": ""
           }
          },
          "colorscale": {
           "diverging": [
            [
             0,
             "#8e0152"
            ],
            [
             0.1,
             "#c51b7d"
            ],
            [
             0.2,
             "#de77ae"
            ],
            [
             0.3,
             "#f1b6da"
            ],
            [
             0.4,
             "#fde0ef"
            ],
            [
             0.5,
             "#f7f7f7"
            ],
            [
             0.6,
             "#e6f5d0"
            ],
            [
             0.7,
             "#b8e186"
            ],
            [
             0.8,
             "#7fbc41"
            ],
            [
             0.9,
             "#4d9221"
            ],
            [
             1,
             "#276419"
            ]
           ],
           "sequential": [
            [
             0,
             "#0d0887"
            ],
            [
             0.1111111111111111,
             "#46039f"
            ],
            [
             0.2222222222222222,
             "#7201a8"
            ],
            [
             0.3333333333333333,
             "#9c179e"
            ],
            [
             0.4444444444444444,
             "#bd3786"
            ],
            [
             0.5555555555555556,
             "#d8576b"
            ],
            [
             0.6666666666666666,
             "#ed7953"
            ],
            [
             0.7777777777777778,
             "#fb9f3a"
            ],
            [
             0.8888888888888888,
             "#fdca26"
            ],
            [
             1,
             "#f0f921"
            ]
           ],
           "sequentialminus": [
            [
             0,
             "#0d0887"
            ],
            [
             0.1111111111111111,
             "#46039f"
            ],
            [
             0.2222222222222222,
             "#7201a8"
            ],
            [
             0.3333333333333333,
             "#9c179e"
            ],
            [
             0.4444444444444444,
             "#bd3786"
            ],
            [
             0.5555555555555556,
             "#d8576b"
            ],
            [
             0.6666666666666666,
             "#ed7953"
            ],
            [
             0.7777777777777778,
             "#fb9f3a"
            ],
            [
             0.8888888888888888,
             "#fdca26"
            ],
            [
             1,
             "#f0f921"
            ]
           ]
          },
          "colorway": [
           "#636efa",
           "#EF553B",
           "#00cc96",
           "#ab63fa",
           "#FFA15A",
           "#19d3f3",
           "#FF6692",
           "#B6E880",
           "#FF97FF",
           "#FECB52"
          ],
          "font": {
           "color": "#2a3f5f"
          },
          "geo": {
           "bgcolor": "white",
           "lakecolor": "white",
           "landcolor": "#E5ECF6",
           "showlakes": true,
           "showland": true,
           "subunitcolor": "white"
          },
          "hoverlabel": {
           "align": "left"
          },
          "hovermode": "closest",
          "mapbox": {
           "style": "light"
          },
          "paper_bgcolor": "white",
          "plot_bgcolor": "#E5ECF6",
          "polar": {
           "angularaxis": {
            "gridcolor": "white",
            "linecolor": "white",
            "ticks": ""
           },
           "bgcolor": "#E5ECF6",
           "radialaxis": {
            "gridcolor": "white",
            "linecolor": "white",
            "ticks": ""
           }
          },
          "scene": {
           "xaxis": {
            "backgroundcolor": "#E5ECF6",
            "gridcolor": "white",
            "gridwidth": 2,
            "linecolor": "white",
            "showbackground": true,
            "ticks": "",
            "zerolinecolor": "white"
           },
           "yaxis": {
            "backgroundcolor": "#E5ECF6",
            "gridcolor": "white",
            "gridwidth": 2,
            "linecolor": "white",
            "showbackground": true,
            "ticks": "",
            "zerolinecolor": "white"
           },
           "zaxis": {
            "backgroundcolor": "#E5ECF6",
            "gridcolor": "white",
            "gridwidth": 2,
            "linecolor": "white",
            "showbackground": true,
            "ticks": "",
            "zerolinecolor": "white"
           }
          },
          "shapedefaults": {
           "line": {
            "color": "#2a3f5f"
           }
          },
          "ternary": {
           "aaxis": {
            "gridcolor": "white",
            "linecolor": "white",
            "ticks": ""
           },
           "baxis": {
            "gridcolor": "white",
            "linecolor": "white",
            "ticks": ""
           },
           "bgcolor": "#E5ECF6",
           "caxis": {
            "gridcolor": "white",
            "linecolor": "white",
            "ticks": ""
           }
          },
          "title": {
           "x": 0.05
          },
          "xaxis": {
           "automargin": true,
           "gridcolor": "white",
           "linecolor": "white",
           "ticks": "",
           "title": {
            "standoff": 15
           },
           "zerolinecolor": "white",
           "zerolinewidth": 2
          },
          "yaxis": {
           "automargin": true,
           "gridcolor": "white",
           "linecolor": "white",
           "ticks": "",
           "title": {
            "standoff": 15
           },
           "zerolinecolor": "white",
           "zerolinewidth": 2
          }
         }
        },
        "title": {
         "text": "Count of Individuals Based on Age and Profession After Testing The K Means Machine Learning Model",
         "x": 0.5
        },
        "xaxis": {
         "anchor": "y",
         "domain": [
          0,
          1
         ],
         "title": {
          "text": "Age"
         }
        },
        "yaxis": {
         "anchor": "x",
         "domain": [
          0,
          1
         ],
         "title": {
          "text": "Profession"
         }
        }
       }
      }
     },
     "metadata": {},
     "output_type": "display_data"
    },
    {
     "name": "stdout",
     "output_type": "stream",
     "text": [
      "Artists have the most spending scores out of each customer.\n"
     ]
    }
   ],
   "source": [
    "#The new dataframe with the clustering done\n",
    "\n",
    "display(customer_seg_df_updated_sample_size.head(10))\n",
    "\n",
    "df = pd.DataFrame(customer_seg_df_updated_sample_size)\n",
    "\n",
    "fig = px.density_heatmap(df, x=\"Age\", y=\"Profession\", text_auto=True)\n",
    "\n",
    "fig.update_layout(title_text='Count of Individuals Based on Age and Profession After Testing The K Means Machine Learning Model', title_x=0.5)\n",
    "\n",
    "fig.show()\n",
    "\n",
    "print('Artists have the most spending scores out of each customer.')"
   ]
  },
  {
   "cell_type": "markdown",
   "metadata": {},
   "source": [
    "##### Conclusion: The Exploratory Data Analysis and the K Means machine learning model have both validated that Artists between the ages of 20 to 60 should be the main demographic to target for automobile companies moving forward. I hope you have enjoyed this walk-through of an automobile customer segmentation analysis using Python. Thank you! "
   ]
  }
 ],
 "metadata": {
  "kernelspec": {
   "display_name": "Python 3.9.7 ('virtualenv01')",
   "language": "python",
   "name": "python3"
  },
  "language_info": {
   "codemirror_mode": {
    "name": "ipython",
    "version": 3
   },
   "file_extension": ".py",
   "mimetype": "text/x-python",
   "name": "python",
   "nbconvert_exporter": "python",
   "pygments_lexer": "ipython3",
   "version": "3.9.7"
  },
  "orig_nbformat": 4,
  "vscode": {
   "interpreter": {
    "hash": "efd1c27c45c6cbcabda1ed7c5aae4e953c9b1442461b2f6837e61e1b00af6172"
   }
  }
 },
 "nbformat": 4,
 "nbformat_minor": 2
}
